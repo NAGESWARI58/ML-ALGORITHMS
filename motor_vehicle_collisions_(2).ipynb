{
  "metadata": {
    "kernelspec": {
      "language": "python",
      "display_name": "Python 3",
      "name": "python3"
    },
    "language_info": {
      "name": "python",
      "version": "3.10.13",
      "mimetype": "text/x-python",
      "codemirror_mode": {
        "name": "ipython",
        "version": 3
      },
      "pygments_lexer": "ipython3",
      "nbconvert_exporter": "python",
      "file_extension": ".py"
    },
    "kaggle": {
      "accelerator": "nvidiaTeslaT4",
      "dataSources": [
        {
          "sourceId": 8155262,
          "sourceType": "datasetVersion",
          "datasetId": 4823976
        }
      ],
      "dockerImageVersionId": 30684,
      "isInternetEnabled": true,
      "language": "python",
      "sourceType": "notebook",
      "isGpuEnabled": true
    },
    "colab": {
      "provenance": []
    }
  },
  "nbformat_minor": 0,
  "nbformat": 4,
  "cells": [
    {
      "cell_type": "raw",
      "source": [
        "# This Python 3 environment comes with many helpful analytics libraries installed\n",
        "# It is defined by the kaggle/python Docker image: https://github.com/kaggle/docker-python\n",
        "# For example, here's several helpful packages to load\n",
        "\n",
        "import numpy as np # linear algebra\n",
        "import pandas as pd # data processing, CSV file I/O (e.g. pd.read_csv)\n",
        "\n",
        "# Input data files are available in the read-only \"../input/\" directory\n",
        "# For example, running this (by clicking run or pressing Shift+Enter) will list all files under the input directory\n",
        "\n",
        "import os\n",
        "for dirname, _, filenames in os.walk('/kaggle/input'):\n",
        "    for filename in filenames:\n",
        "        print(os.path.join(dirname, filename))\n",
        "\n",
        "# You can write up to 20GB to the current directory (/kaggle/working/) that gets preserved as output when you create a version using \"Save & Run All\"\n",
        "# You can also write temporary files to /kaggle/temp/, but they won't be saved outside of the current session"
      ],
      "metadata": {
        "_uuid": "8f2839f25d086af736a60e9eeb907d3b93b6e0e5",
        "_cell_guid": "b1076dfc-b9ad-4769-8c92-a6c4dae69d19",
        "id": "f8HU2hgXf9sG"
      }
    },
    {
      "cell_type": "markdown",
      "source": [
        "### Importing Libraries"
      ],
      "metadata": {
        "id": "SLppDDAYf9sJ"
      }
    },
    {
      "cell_type": "code",
      "source": [
        "import pandas as pd"
      ],
      "metadata": {
        "execution": {
          "iopub.status.busy": "2024-04-20T12:01:17.686955Z",
          "iopub.execute_input": "2024-04-20T12:01:17.687795Z",
          "iopub.status.idle": "2024-04-20T12:01:18.778108Z",
          "shell.execute_reply.started": "2024-04-20T12:01:17.687762Z",
          "shell.execute_reply": "2024-04-20T12:01:18.777025Z"
        },
        "trusted": true,
        "id": "B4tNBQ66f9sL"
      },
      "execution_count": 1,
      "outputs": []
    },
    {
      "cell_type": "markdown",
      "source": [
        "### Read CSV File"
      ],
      "metadata": {
        "id": "q1SB4M4jf9sN"
      }
    },
    {
      "cell_type": "code",
      "source": [
        "df=pd.read_csv(\"/content/Motor_Vehicle_Collisions_-_Crashes.csv.crdownload\")"
      ],
      "metadata": {
        "execution": {
          "iopub.status.busy": "2024-04-20T12:03:29.203321Z",
          "iopub.execute_input": "2024-04-20T12:03:29.203844Z",
          "iopub.status.idle": "2024-04-20T12:03:43.468712Z",
          "shell.execute_reply.started": "2024-04-20T12:03:29.203813Z",
          "shell.execute_reply": "2024-04-20T12:03:43.467814Z"
        },
        "trusted": true,
        "id": "YEkYtxOMf9sO"
      },
      "execution_count": 3,
      "outputs": []
    },
    {
      "cell_type": "markdown",
      "source": [
        "### Top 5 Columns"
      ],
      "metadata": {
        "id": "439XVZ56f9sQ"
      }
    },
    {
      "cell_type": "code",
      "source": [
        "df.head()"
      ],
      "metadata": {
        "execution": {
          "iopub.status.busy": "2024-04-20T12:06:14.907673Z",
          "iopub.execute_input": "2024-04-20T12:06:14.908407Z",
          "iopub.status.idle": "2024-04-20T12:06:14.949279Z",
          "shell.execute_reply.started": "2024-04-20T12:06:14.908374Z",
          "shell.execute_reply": "2024-04-20T12:06:14.948182Z"
        },
        "trusted": true,
        "colab": {
          "base_uri": "https://localhost:8080/",
          "height": 411
        },
        "id": "NRCUzZ54f9sQ",
        "outputId": "3b09e119-8e58-4193-9e3c-426e7b7243dd"
      },
      "execution_count": 4,
      "outputs": [
        {
          "output_type": "execute_result",
          "data": {
            "text/plain": [
              "   CRASH DATE CRASH TIME   BOROUGH  ZIP CODE   LATITUDE  LONGITUDE  \\\n",
              "0  09/11/2021       2:39       NaN       NaN        NaN        NaN   \n",
              "1  03/26/2022      11:45       NaN       NaN        NaN        NaN   \n",
              "2  06/29/2022       6:55       NaN       NaN        NaN        NaN   \n",
              "3  09/11/2021       9:35  BROOKLYN   11208.0  40.667202 -73.866500   \n",
              "4  12/14/2021       8:13  BROOKLYN   11233.0  40.683304 -73.917274   \n",
              "\n",
              "                  LOCATION           ON STREET NAME CROSS STREET NAME  \\\n",
              "0                      NaN    WHITESTONE EXPRESSWAY         20 AVENUE   \n",
              "1                      NaN  QUEENSBORO BRIDGE UPPER               NaN   \n",
              "2                      NaN       THROGS NECK BRIDGE               NaN   \n",
              "3    (40.667202, -73.8665)                      NaN               NaN   \n",
              "4  (40.683304, -73.917274)          SARATOGA AVENUE    DECATUR STREET   \n",
              "\n",
              "           OFF STREET NAME  ...  CONTRIBUTING FACTOR VEHICLE 2  \\\n",
              "0                      NaN  ...                    Unspecified   \n",
              "1                      NaN  ...                            NaN   \n",
              "2                      NaN  ...                    Unspecified   \n",
              "3  1211      LORING AVENUE  ...                            NaN   \n",
              "4                      NaN  ...                            NaN   \n",
              "\n",
              "   CONTRIBUTING FACTOR VEHICLE 3  CONTRIBUTING FACTOR VEHICLE 4  \\\n",
              "0                            NaN                            NaN   \n",
              "1                            NaN                            NaN   \n",
              "2                            NaN                            NaN   \n",
              "3                            NaN                            NaN   \n",
              "4                            NaN                            NaN   \n",
              "\n",
              "   CONTRIBUTING FACTOR VEHICLE 5  COLLISION_ID  VEHICLE TYPE CODE 1  \\\n",
              "0                            NaN       4455765                Sedan   \n",
              "1                            NaN       4513547                Sedan   \n",
              "2                            NaN       4541903                Sedan   \n",
              "3                            NaN       4456314                Sedan   \n",
              "4                            NaN       4486609                  NaN   \n",
              "\n",
              "   VEHICLE TYPE CODE 2  VEHICLE TYPE CODE 3 VEHICLE TYPE CODE 4  \\\n",
              "0                Sedan                  NaN                 NaN   \n",
              "1                  NaN                  NaN                 NaN   \n",
              "2        Pick-up Truck                  NaN                 NaN   \n",
              "3                  NaN                  NaN                 NaN   \n",
              "4                  NaN                  NaN                 NaN   \n",
              "\n",
              "  VEHICLE TYPE CODE 5  \n",
              "0                 NaN  \n",
              "1                 NaN  \n",
              "2                 NaN  \n",
              "3                 NaN  \n",
              "4                 NaN  \n",
              "\n",
              "[5 rows x 29 columns]"
            ],
            "text/html": [
              "\n",
              "  <div id=\"df-bcea5725-97ba-4dab-bb0e-dcb772f01c4d\" class=\"colab-df-container\">\n",
              "    <div>\n",
              "<style scoped>\n",
              "    .dataframe tbody tr th:only-of-type {\n",
              "        vertical-align: middle;\n",
              "    }\n",
              "\n",
              "    .dataframe tbody tr th {\n",
              "        vertical-align: top;\n",
              "    }\n",
              "\n",
              "    .dataframe thead th {\n",
              "        text-align: right;\n",
              "    }\n",
              "</style>\n",
              "<table border=\"1\" class=\"dataframe\">\n",
              "  <thead>\n",
              "    <tr style=\"text-align: right;\">\n",
              "      <th></th>\n",
              "      <th>CRASH DATE</th>\n",
              "      <th>CRASH TIME</th>\n",
              "      <th>BOROUGH</th>\n",
              "      <th>ZIP CODE</th>\n",
              "      <th>LATITUDE</th>\n",
              "      <th>LONGITUDE</th>\n",
              "      <th>LOCATION</th>\n",
              "      <th>ON STREET NAME</th>\n",
              "      <th>CROSS STREET NAME</th>\n",
              "      <th>OFF STREET NAME</th>\n",
              "      <th>...</th>\n",
              "      <th>CONTRIBUTING FACTOR VEHICLE 2</th>\n",
              "      <th>CONTRIBUTING FACTOR VEHICLE 3</th>\n",
              "      <th>CONTRIBUTING FACTOR VEHICLE 4</th>\n",
              "      <th>CONTRIBUTING FACTOR VEHICLE 5</th>\n",
              "      <th>COLLISION_ID</th>\n",
              "      <th>VEHICLE TYPE CODE 1</th>\n",
              "      <th>VEHICLE TYPE CODE 2</th>\n",
              "      <th>VEHICLE TYPE CODE 3</th>\n",
              "      <th>VEHICLE TYPE CODE 4</th>\n",
              "      <th>VEHICLE TYPE CODE 5</th>\n",
              "    </tr>\n",
              "  </thead>\n",
              "  <tbody>\n",
              "    <tr>\n",
              "      <th>0</th>\n",
              "      <td>09/11/2021</td>\n",
              "      <td>2:39</td>\n",
              "      <td>NaN</td>\n",
              "      <td>NaN</td>\n",
              "      <td>NaN</td>\n",
              "      <td>NaN</td>\n",
              "      <td>NaN</td>\n",
              "      <td>WHITESTONE EXPRESSWAY</td>\n",
              "      <td>20 AVENUE</td>\n",
              "      <td>NaN</td>\n",
              "      <td>...</td>\n",
              "      <td>Unspecified</td>\n",
              "      <td>NaN</td>\n",
              "      <td>NaN</td>\n",
              "      <td>NaN</td>\n",
              "      <td>4455765</td>\n",
              "      <td>Sedan</td>\n",
              "      <td>Sedan</td>\n",
              "      <td>NaN</td>\n",
              "      <td>NaN</td>\n",
              "      <td>NaN</td>\n",
              "    </tr>\n",
              "    <tr>\n",
              "      <th>1</th>\n",
              "      <td>03/26/2022</td>\n",
              "      <td>11:45</td>\n",
              "      <td>NaN</td>\n",
              "      <td>NaN</td>\n",
              "      <td>NaN</td>\n",
              "      <td>NaN</td>\n",
              "      <td>NaN</td>\n",
              "      <td>QUEENSBORO BRIDGE UPPER</td>\n",
              "      <td>NaN</td>\n",
              "      <td>NaN</td>\n",
              "      <td>...</td>\n",
              "      <td>NaN</td>\n",
              "      <td>NaN</td>\n",
              "      <td>NaN</td>\n",
              "      <td>NaN</td>\n",
              "      <td>4513547</td>\n",
              "      <td>Sedan</td>\n",
              "      <td>NaN</td>\n",
              "      <td>NaN</td>\n",
              "      <td>NaN</td>\n",
              "      <td>NaN</td>\n",
              "    </tr>\n",
              "    <tr>\n",
              "      <th>2</th>\n",
              "      <td>06/29/2022</td>\n",
              "      <td>6:55</td>\n",
              "      <td>NaN</td>\n",
              "      <td>NaN</td>\n",
              "      <td>NaN</td>\n",
              "      <td>NaN</td>\n",
              "      <td>NaN</td>\n",
              "      <td>THROGS NECK BRIDGE</td>\n",
              "      <td>NaN</td>\n",
              "      <td>NaN</td>\n",
              "      <td>...</td>\n",
              "      <td>Unspecified</td>\n",
              "      <td>NaN</td>\n",
              "      <td>NaN</td>\n",
              "      <td>NaN</td>\n",
              "      <td>4541903</td>\n",
              "      <td>Sedan</td>\n",
              "      <td>Pick-up Truck</td>\n",
              "      <td>NaN</td>\n",
              "      <td>NaN</td>\n",
              "      <td>NaN</td>\n",
              "    </tr>\n",
              "    <tr>\n",
              "      <th>3</th>\n",
              "      <td>09/11/2021</td>\n",
              "      <td>9:35</td>\n",
              "      <td>BROOKLYN</td>\n",
              "      <td>11208.0</td>\n",
              "      <td>40.667202</td>\n",
              "      <td>-73.866500</td>\n",
              "      <td>(40.667202, -73.8665)</td>\n",
              "      <td>NaN</td>\n",
              "      <td>NaN</td>\n",
              "      <td>1211      LORING AVENUE</td>\n",
              "      <td>...</td>\n",
              "      <td>NaN</td>\n",
              "      <td>NaN</td>\n",
              "      <td>NaN</td>\n",
              "      <td>NaN</td>\n",
              "      <td>4456314</td>\n",
              "      <td>Sedan</td>\n",
              "      <td>NaN</td>\n",
              "      <td>NaN</td>\n",
              "      <td>NaN</td>\n",
              "      <td>NaN</td>\n",
              "    </tr>\n",
              "    <tr>\n",
              "      <th>4</th>\n",
              "      <td>12/14/2021</td>\n",
              "      <td>8:13</td>\n",
              "      <td>BROOKLYN</td>\n",
              "      <td>11233.0</td>\n",
              "      <td>40.683304</td>\n",
              "      <td>-73.917274</td>\n",
              "      <td>(40.683304, -73.917274)</td>\n",
              "      <td>SARATOGA AVENUE</td>\n",
              "      <td>DECATUR STREET</td>\n",
              "      <td>NaN</td>\n",
              "      <td>...</td>\n",
              "      <td>NaN</td>\n",
              "      <td>NaN</td>\n",
              "      <td>NaN</td>\n",
              "      <td>NaN</td>\n",
              "      <td>4486609</td>\n",
              "      <td>NaN</td>\n",
              "      <td>NaN</td>\n",
              "      <td>NaN</td>\n",
              "      <td>NaN</td>\n",
              "      <td>NaN</td>\n",
              "    </tr>\n",
              "  </tbody>\n",
              "</table>\n",
              "<p>5 rows × 29 columns</p>\n",
              "</div>\n",
              "    <div class=\"colab-df-buttons\">\n",
              "\n",
              "  <div class=\"colab-df-container\">\n",
              "    <button class=\"colab-df-convert\" onclick=\"convertToInteractive('df-bcea5725-97ba-4dab-bb0e-dcb772f01c4d')\"\n",
              "            title=\"Convert this dataframe to an interactive table.\"\n",
              "            style=\"display:none;\">\n",
              "\n",
              "  <svg xmlns=\"http://www.w3.org/2000/svg\" height=\"24px\" viewBox=\"0 -960 960 960\">\n",
              "    <path d=\"M120-120v-720h720v720H120Zm60-500h600v-160H180v160Zm220 220h160v-160H400v160Zm0 220h160v-160H400v160ZM180-400h160v-160H180v160Zm440 0h160v-160H620v160ZM180-180h160v-160H180v160Zm440 0h160v-160H620v160Z\"/>\n",
              "  </svg>\n",
              "    </button>\n",
              "\n",
              "  <style>\n",
              "    .colab-df-container {\n",
              "      display:flex;\n",
              "      gap: 12px;\n",
              "    }\n",
              "\n",
              "    .colab-df-convert {\n",
              "      background-color: #E8F0FE;\n",
              "      border: none;\n",
              "      border-radius: 50%;\n",
              "      cursor: pointer;\n",
              "      display: none;\n",
              "      fill: #1967D2;\n",
              "      height: 32px;\n",
              "      padding: 0 0 0 0;\n",
              "      width: 32px;\n",
              "    }\n",
              "\n",
              "    .colab-df-convert:hover {\n",
              "      background-color: #E2EBFA;\n",
              "      box-shadow: 0px 1px 2px rgba(60, 64, 67, 0.3), 0px 1px 3px 1px rgba(60, 64, 67, 0.15);\n",
              "      fill: #174EA6;\n",
              "    }\n",
              "\n",
              "    .colab-df-buttons div {\n",
              "      margin-bottom: 4px;\n",
              "    }\n",
              "\n",
              "    [theme=dark] .colab-df-convert {\n",
              "      background-color: #3B4455;\n",
              "      fill: #D2E3FC;\n",
              "    }\n",
              "\n",
              "    [theme=dark] .colab-df-convert:hover {\n",
              "      background-color: #434B5C;\n",
              "      box-shadow: 0px 1px 3px 1px rgba(0, 0, 0, 0.15);\n",
              "      filter: drop-shadow(0px 1px 2px rgba(0, 0, 0, 0.3));\n",
              "      fill: #FFFFFF;\n",
              "    }\n",
              "  </style>\n",
              "\n",
              "    <script>\n",
              "      const buttonEl =\n",
              "        document.querySelector('#df-bcea5725-97ba-4dab-bb0e-dcb772f01c4d button.colab-df-convert');\n",
              "      buttonEl.style.display =\n",
              "        google.colab.kernel.accessAllowed ? 'block' : 'none';\n",
              "\n",
              "      async function convertToInteractive(key) {\n",
              "        const element = document.querySelector('#df-bcea5725-97ba-4dab-bb0e-dcb772f01c4d');\n",
              "        const dataTable =\n",
              "          await google.colab.kernel.invokeFunction('convertToInteractive',\n",
              "                                                    [key], {});\n",
              "        if (!dataTable) return;\n",
              "\n",
              "        const docLinkHtml = 'Like what you see? Visit the ' +\n",
              "          '<a target=\"_blank\" href=https://colab.research.google.com/notebooks/data_table.ipynb>data table notebook</a>'\n",
              "          + ' to learn more about interactive tables.';\n",
              "        element.innerHTML = '';\n",
              "        dataTable['output_type'] = 'display_data';\n",
              "        await google.colab.output.renderOutput(dataTable, element);\n",
              "        const docLink = document.createElement('div');\n",
              "        docLink.innerHTML = docLinkHtml;\n",
              "        element.appendChild(docLink);\n",
              "      }\n",
              "    </script>\n",
              "  </div>\n",
              "\n",
              "\n",
              "<div id=\"df-43dc2310-aad0-4e09-93eb-ba848b8216e1\">\n",
              "  <button class=\"colab-df-quickchart\" onclick=\"quickchart('df-43dc2310-aad0-4e09-93eb-ba848b8216e1')\"\n",
              "            title=\"Suggest charts\"\n",
              "            style=\"display:none;\">\n",
              "\n",
              "<svg xmlns=\"http://www.w3.org/2000/svg\" height=\"24px\"viewBox=\"0 0 24 24\"\n",
              "     width=\"24px\">\n",
              "    <g>\n",
              "        <path d=\"M19 3H5c-1.1 0-2 .9-2 2v14c0 1.1.9 2 2 2h14c1.1 0 2-.9 2-2V5c0-1.1-.9-2-2-2zM9 17H7v-7h2v7zm4 0h-2V7h2v10zm4 0h-2v-4h2v4z\"/>\n",
              "    </g>\n",
              "</svg>\n",
              "  </button>\n",
              "\n",
              "<style>\n",
              "  .colab-df-quickchart {\n",
              "      --bg-color: #E8F0FE;\n",
              "      --fill-color: #1967D2;\n",
              "      --hover-bg-color: #E2EBFA;\n",
              "      --hover-fill-color: #174EA6;\n",
              "      --disabled-fill-color: #AAA;\n",
              "      --disabled-bg-color: #DDD;\n",
              "  }\n",
              "\n",
              "  [theme=dark] .colab-df-quickchart {\n",
              "      --bg-color: #3B4455;\n",
              "      --fill-color: #D2E3FC;\n",
              "      --hover-bg-color: #434B5C;\n",
              "      --hover-fill-color: #FFFFFF;\n",
              "      --disabled-bg-color: #3B4455;\n",
              "      --disabled-fill-color: #666;\n",
              "  }\n",
              "\n",
              "  .colab-df-quickchart {\n",
              "    background-color: var(--bg-color);\n",
              "    border: none;\n",
              "    border-radius: 50%;\n",
              "    cursor: pointer;\n",
              "    display: none;\n",
              "    fill: var(--fill-color);\n",
              "    height: 32px;\n",
              "    padding: 0;\n",
              "    width: 32px;\n",
              "  }\n",
              "\n",
              "  .colab-df-quickchart:hover {\n",
              "    background-color: var(--hover-bg-color);\n",
              "    box-shadow: 0 1px 2px rgba(60, 64, 67, 0.3), 0 1px 3px 1px rgba(60, 64, 67, 0.15);\n",
              "    fill: var(--button-hover-fill-color);\n",
              "  }\n",
              "\n",
              "  .colab-df-quickchart-complete:disabled,\n",
              "  .colab-df-quickchart-complete:disabled:hover {\n",
              "    background-color: var(--disabled-bg-color);\n",
              "    fill: var(--disabled-fill-color);\n",
              "    box-shadow: none;\n",
              "  }\n",
              "\n",
              "  .colab-df-spinner {\n",
              "    border: 2px solid var(--fill-color);\n",
              "    border-color: transparent;\n",
              "    border-bottom-color: var(--fill-color);\n",
              "    animation:\n",
              "      spin 1s steps(1) infinite;\n",
              "  }\n",
              "\n",
              "  @keyframes spin {\n",
              "    0% {\n",
              "      border-color: transparent;\n",
              "      border-bottom-color: var(--fill-color);\n",
              "      border-left-color: var(--fill-color);\n",
              "    }\n",
              "    20% {\n",
              "      border-color: transparent;\n",
              "      border-left-color: var(--fill-color);\n",
              "      border-top-color: var(--fill-color);\n",
              "    }\n",
              "    30% {\n",
              "      border-color: transparent;\n",
              "      border-left-color: var(--fill-color);\n",
              "      border-top-color: var(--fill-color);\n",
              "      border-right-color: var(--fill-color);\n",
              "    }\n",
              "    40% {\n",
              "      border-color: transparent;\n",
              "      border-right-color: var(--fill-color);\n",
              "      border-top-color: var(--fill-color);\n",
              "    }\n",
              "    60% {\n",
              "      border-color: transparent;\n",
              "      border-right-color: var(--fill-color);\n",
              "    }\n",
              "    80% {\n",
              "      border-color: transparent;\n",
              "      border-right-color: var(--fill-color);\n",
              "      border-bottom-color: var(--fill-color);\n",
              "    }\n",
              "    90% {\n",
              "      border-color: transparent;\n",
              "      border-bottom-color: var(--fill-color);\n",
              "    }\n",
              "  }\n",
              "</style>\n",
              "\n",
              "  <script>\n",
              "    async function quickchart(key) {\n",
              "      const quickchartButtonEl =\n",
              "        document.querySelector('#' + key + ' button');\n",
              "      quickchartButtonEl.disabled = true;  // To prevent multiple clicks.\n",
              "      quickchartButtonEl.classList.add('colab-df-spinner');\n",
              "      try {\n",
              "        const charts = await google.colab.kernel.invokeFunction(\n",
              "            'suggestCharts', [key], {});\n",
              "      } catch (error) {\n",
              "        console.error('Error during call to suggestCharts:', error);\n",
              "      }\n",
              "      quickchartButtonEl.classList.remove('colab-df-spinner');\n",
              "      quickchartButtonEl.classList.add('colab-df-quickchart-complete');\n",
              "    }\n",
              "    (() => {\n",
              "      let quickchartButtonEl =\n",
              "        document.querySelector('#df-43dc2310-aad0-4e09-93eb-ba848b8216e1 button');\n",
              "      quickchartButtonEl.style.display =\n",
              "        google.colab.kernel.accessAllowed ? 'block' : 'none';\n",
              "    })();\n",
              "  </script>\n",
              "</div>\n",
              "\n",
              "    </div>\n",
              "  </div>\n"
            ],
            "application/vnd.google.colaboratory.intrinsic+json": {
              "type": "dataframe",
              "variable_name": "df"
            }
          },
          "metadata": {},
          "execution_count": 4
        }
      ]
    },
    {
      "cell_type": "markdown",
      "source": [
        "### no of rows and columns"
      ],
      "metadata": {
        "id": "yi8Xhlqif9sR"
      }
    },
    {
      "cell_type": "code",
      "source": [
        "df.shape"
      ],
      "metadata": {
        "execution": {
          "iopub.status.busy": "2024-04-20T12:06:18.326613Z",
          "iopub.execute_input": "2024-04-20T12:06:18.326939Z",
          "iopub.status.idle": "2024-04-20T12:06:18.333014Z",
          "shell.execute_reply.started": "2024-04-20T12:06:18.326915Z",
          "shell.execute_reply": "2024-04-20T12:06:18.332048Z"
        },
        "trusted": true,
        "colab": {
          "base_uri": "https://localhost:8080/"
        },
        "id": "vanYBJ3af9sS",
        "outputId": "f21c9e9a-6d08-40ae-8be5-3b63fe26837d"
      },
      "execution_count": 5,
      "outputs": [
        {
          "output_type": "execute_result",
          "data": {
            "text/plain": [
              "(281177, 29)"
            ]
          },
          "metadata": {},
          "execution_count": 5
        }
      ]
    },
    {
      "cell_type": "markdown",
      "source": [
        "### Datatypes of each column"
      ],
      "metadata": {
        "id": "t6Su6f-hf9sS"
      }
    },
    {
      "cell_type": "code",
      "source": [
        "df.info()"
      ],
      "metadata": {
        "execution": {
          "iopub.status.busy": "2024-04-20T12:06:21.342401Z",
          "iopub.execute_input": "2024-04-20T12:06:21.342771Z",
          "iopub.status.idle": "2024-04-20T12:06:21.365889Z",
          "shell.execute_reply.started": "2024-04-20T12:06:21.342742Z",
          "shell.execute_reply": "2024-04-20T12:06:21.364871Z"
        },
        "trusted": true,
        "colab": {
          "base_uri": "https://localhost:8080/"
        },
        "id": "W1tVuaZmf9sT",
        "outputId": "91b4ff99-42e7-4618-d352-3aa1256efcc5"
      },
      "execution_count": 6,
      "outputs": [
        {
          "output_type": "stream",
          "name": "stdout",
          "text": [
            "<class 'pandas.core.frame.DataFrame'>\n",
            "RangeIndex: 281177 entries, 0 to 281176\n",
            "Data columns (total 29 columns):\n",
            " #   Column                         Non-Null Count   Dtype  \n",
            "---  ------                         --------------   -----  \n",
            " 0   CRASH DATE                     281177 non-null  object \n",
            " 1   CRASH TIME                     281177 non-null  object \n",
            " 2   BOROUGH                        184108 non-null  object \n",
            " 3   ZIP CODE                       184077 non-null  float64\n",
            " 4   LATITUDE                       257982 non-null  float64\n",
            " 5   LONGITUDE                      257982 non-null  float64\n",
            " 6   LOCATION                       257982 non-null  object \n",
            " 7   ON STREET NAME                 205549 non-null  object \n",
            " 8   CROSS STREET NAME              130645 non-null  object \n",
            " 9   OFF STREET NAME                75625 non-null   object \n",
            " 10  NUMBER OF PERSONS INJURED      281176 non-null  float64\n",
            " 11  NUMBER OF PERSONS KILLED       281177 non-null  int64  \n",
            " 12  NUMBER OF PEDESTRIANS INJURED  281177 non-null  int64  \n",
            " 13  NUMBER OF PEDESTRIANS KILLED   281177 non-null  int64  \n",
            " 14  NUMBER OF CYCLIST INJURED      281177 non-null  int64  \n",
            " 15  NUMBER OF CYCLIST KILLED       281177 non-null  int64  \n",
            " 16  NUMBER OF MOTORIST INJURED     281177 non-null  int64  \n",
            " 17  NUMBER OF MOTORIST KILLED      281177 non-null  int64  \n",
            " 18  CONTRIBUTING FACTOR VEHICLE 1  279798 non-null  object \n",
            " 19  CONTRIBUTING FACTOR VEHICLE 2  217747 non-null  object \n",
            " 20  CONTRIBUTING FACTOR VEHICLE 3  27991 non-null   object \n",
            " 21  CONTRIBUTING FACTOR VEHICLE 4  7638 non-null    object \n",
            " 22  CONTRIBUTING FACTOR VEHICLE 5  2289 non-null    object \n",
            " 23  COLLISION_ID                   281177 non-null  int64  \n",
            " 24  VEHICLE TYPE CODE 1            278019 non-null  object \n",
            " 25  VEHICLE TYPE CODE 2            189662 non-null  object \n",
            " 26  VEHICLE TYPE CODE 3            26133 non-null   object \n",
            " 27  VEHICLE TYPE CODE 4            7251 non-null    object \n",
            " 28  VEHICLE TYPE CODE 5            2215 non-null    object \n",
            "dtypes: float64(4), int64(8), object(17)\n",
            "memory usage: 62.2+ MB\n"
          ]
        }
      ]
    },
    {
      "cell_type": "markdown",
      "source": [
        "### Count null values of each column"
      ],
      "metadata": {
        "id": "lvZFPhTTf9sU"
      }
    },
    {
      "cell_type": "code",
      "source": [
        "df.isnull().sum()"
      ],
      "metadata": {
        "execution": {
          "iopub.status.busy": "2024-04-20T12:06:22.521799Z",
          "iopub.execute_input": "2024-04-20T12:06:22.522152Z",
          "iopub.status.idle": "2024-04-20T12:06:25.009338Z",
          "shell.execute_reply.started": "2024-04-20T12:06:22.522124Z",
          "shell.execute_reply": "2024-04-20T12:06:25.008453Z"
        },
        "trusted": true,
        "colab": {
          "base_uri": "https://localhost:8080/"
        },
        "id": "3rhFHQ5Af9sU",
        "outputId": "5d0a7bcb-973c-4bbd-d037-4af89e28d166"
      },
      "execution_count": 7,
      "outputs": [
        {
          "output_type": "execute_result",
          "data": {
            "text/plain": [
              "CRASH DATE                            0\n",
              "CRASH TIME                            0\n",
              "BOROUGH                           97069\n",
              "ZIP CODE                          97100\n",
              "LATITUDE                          23195\n",
              "LONGITUDE                         23195\n",
              "LOCATION                          23195\n",
              "ON STREET NAME                    75628\n",
              "CROSS STREET NAME                150532\n",
              "OFF STREET NAME                  205552\n",
              "NUMBER OF PERSONS INJURED             1\n",
              "NUMBER OF PERSONS KILLED              0\n",
              "NUMBER OF PEDESTRIANS INJURED         0\n",
              "NUMBER OF PEDESTRIANS KILLED          0\n",
              "NUMBER OF CYCLIST INJURED             0\n",
              "NUMBER OF CYCLIST KILLED              0\n",
              "NUMBER OF MOTORIST INJURED            0\n",
              "NUMBER OF MOTORIST KILLED             0\n",
              "CONTRIBUTING FACTOR VEHICLE 1      1379\n",
              "CONTRIBUTING FACTOR VEHICLE 2     63430\n",
              "CONTRIBUTING FACTOR VEHICLE 3    253186\n",
              "CONTRIBUTING FACTOR VEHICLE 4    273539\n",
              "CONTRIBUTING FACTOR VEHICLE 5    278888\n",
              "COLLISION_ID                          0\n",
              "VEHICLE TYPE CODE 1                3158\n",
              "VEHICLE TYPE CODE 2               91515\n",
              "VEHICLE TYPE CODE 3              255044\n",
              "VEHICLE TYPE CODE 4              273926\n",
              "VEHICLE TYPE CODE 5              278962\n",
              "dtype: int64"
            ]
          },
          "metadata": {},
          "execution_count": 7
        }
      ]
    },
    {
      "cell_type": "code",
      "source": [
        "df['CONTRIBUTING FACTOR VEHICLE 1'].nunique()"
      ],
      "metadata": {
        "execution": {
          "iopub.status.busy": "2024-04-20T12:06:25.011266Z",
          "iopub.execute_input": "2024-04-20T12:06:25.011642Z",
          "iopub.status.idle": "2024-04-20T12:06:25.182681Z",
          "shell.execute_reply.started": "2024-04-20T12:06:25.011610Z",
          "shell.execute_reply": "2024-04-20T12:06:25.181618Z"
        },
        "trusted": true,
        "colab": {
          "base_uri": "https://localhost:8080/"
        },
        "id": "CTIXutAkf9sV",
        "outputId": "45e01ab7-ae9a-41ca-9dee-a4ce886ff7f1"
      },
      "execution_count": 8,
      "outputs": [
        {
          "output_type": "execute_result",
          "data": {
            "text/plain": [
              "55"
            ]
          },
          "metadata": {},
          "execution_count": 8
        }
      ]
    },
    {
      "cell_type": "markdown",
      "source": [
        "### Summary statastics of numerical columns"
      ],
      "metadata": {
        "id": "z9C5y73yf9sV"
      }
    },
    {
      "cell_type": "code",
      "source": [
        "df.describe()"
      ],
      "metadata": {
        "execution": {
          "iopub.status.busy": "2024-04-20T12:06:25.184315Z",
          "iopub.execute_input": "2024-04-20T12:06:25.184740Z",
          "iopub.status.idle": "2024-04-20T12:06:25.931911Z",
          "shell.execute_reply.started": "2024-04-20T12:06:25.184700Z",
          "shell.execute_reply": "2024-04-20T12:06:25.930995Z"
        },
        "trusted": true,
        "colab": {
          "base_uri": "https://localhost:8080/",
          "height": 355
        },
        "id": "QDRS1MJ3f9sW",
        "outputId": "6ec1f104-29f8-45ee-de00-f8dfafc46578"
      },
      "execution_count": 9,
      "outputs": [
        {
          "output_type": "execute_result",
          "data": {
            "text/plain": [
              "            ZIP CODE       LATITUDE      LONGITUDE  NUMBER OF PERSONS INJURED  \\\n",
              "count  184077.000000  257982.000000  257982.000000              281176.000000   \n",
              "mean    10898.332817      40.337203     -73.209394                   0.452279   \n",
              "std       519.632842       3.959513       7.185202                   0.787367   \n",
              "min     10000.000000       0.000000     -74.254845                   0.000000   \n",
              "25%     10457.000000      40.665794     -73.960170                   0.000000   \n",
              "50%     11208.000000      40.714066     -73.918250                   0.000000   \n",
              "75%     11238.000000      40.787790     -73.865230                   1.000000   \n",
              "max     11697.000000      40.912884       0.000000                  40.000000   \n",
              "\n",
              "       NUMBER OF PERSONS KILLED  NUMBER OF PEDESTRIANS INJURED  \\\n",
              "count             281177.000000                  281177.000000   \n",
              "mean                   0.002543                       0.067388   \n",
              "std                    0.053313                       0.263368   \n",
              "min                    0.000000                       0.000000   \n",
              "25%                    0.000000                       0.000000   \n",
              "50%                    0.000000                       0.000000   \n",
              "75%                    0.000000                       0.000000   \n",
              "max                    4.000000                       7.000000   \n",
              "\n",
              "       NUMBER OF PEDESTRIANS KILLED  NUMBER OF CYCLIST INJURED  \\\n",
              "count                 281177.000000              281177.000000   \n",
              "mean                       0.001024                   0.048571   \n",
              "std                        0.032320                   0.219196   \n",
              "min                        0.000000                   0.000000   \n",
              "25%                        0.000000                   0.000000   \n",
              "50%                        0.000000                   0.000000   \n",
              "75%                        0.000000                   0.000000   \n",
              "max                        2.000000                   3.000000   \n",
              "\n",
              "       NUMBER OF CYCLIST KILLED  NUMBER OF MOTORIST INJURED  \\\n",
              "count             281177.000000                281177.00000   \n",
              "mean                   0.000210                     0.32296   \n",
              "std                    0.014484                     0.75722   \n",
              "min                    0.000000                     0.00000   \n",
              "25%                    0.000000                     0.00000   \n",
              "50%                    0.000000                     0.00000   \n",
              "75%                    0.000000                     0.00000   \n",
              "max                    1.000000                    40.00000   \n",
              "\n",
              "       NUMBER OF MOTORIST KILLED  COLLISION_ID  \n",
              "count              281177.000000  2.811770e+05  \n",
              "mean                    0.001216  4.420471e+06  \n",
              "std                     0.038537  8.188197e+04  \n",
              "min                     0.000000  3.456194e+06  \n",
              "25%                     0.000000  4.350230e+06  \n",
              "50%                     0.000000  4.420621e+06  \n",
              "75%                     0.000000  4.490936e+06  \n",
              "max                     4.000000  4.707503e+06  "
            ],
            "text/html": [
              "\n",
              "  <div id=\"df-8db89f08-61ef-4a18-90a4-725e356aa112\" class=\"colab-df-container\">\n",
              "    <div>\n",
              "<style scoped>\n",
              "    .dataframe tbody tr th:only-of-type {\n",
              "        vertical-align: middle;\n",
              "    }\n",
              "\n",
              "    .dataframe tbody tr th {\n",
              "        vertical-align: top;\n",
              "    }\n",
              "\n",
              "    .dataframe thead th {\n",
              "        text-align: right;\n",
              "    }\n",
              "</style>\n",
              "<table border=\"1\" class=\"dataframe\">\n",
              "  <thead>\n",
              "    <tr style=\"text-align: right;\">\n",
              "      <th></th>\n",
              "      <th>ZIP CODE</th>\n",
              "      <th>LATITUDE</th>\n",
              "      <th>LONGITUDE</th>\n",
              "      <th>NUMBER OF PERSONS INJURED</th>\n",
              "      <th>NUMBER OF PERSONS KILLED</th>\n",
              "      <th>NUMBER OF PEDESTRIANS INJURED</th>\n",
              "      <th>NUMBER OF PEDESTRIANS KILLED</th>\n",
              "      <th>NUMBER OF CYCLIST INJURED</th>\n",
              "      <th>NUMBER OF CYCLIST KILLED</th>\n",
              "      <th>NUMBER OF MOTORIST INJURED</th>\n",
              "      <th>NUMBER OF MOTORIST KILLED</th>\n",
              "      <th>COLLISION_ID</th>\n",
              "    </tr>\n",
              "  </thead>\n",
              "  <tbody>\n",
              "    <tr>\n",
              "      <th>count</th>\n",
              "      <td>184077.000000</td>\n",
              "      <td>257982.000000</td>\n",
              "      <td>257982.000000</td>\n",
              "      <td>281176.000000</td>\n",
              "      <td>281177.000000</td>\n",
              "      <td>281177.000000</td>\n",
              "      <td>281177.000000</td>\n",
              "      <td>281177.000000</td>\n",
              "      <td>281177.000000</td>\n",
              "      <td>281177.00000</td>\n",
              "      <td>281177.000000</td>\n",
              "      <td>2.811770e+05</td>\n",
              "    </tr>\n",
              "    <tr>\n",
              "      <th>mean</th>\n",
              "      <td>10898.332817</td>\n",
              "      <td>40.337203</td>\n",
              "      <td>-73.209394</td>\n",
              "      <td>0.452279</td>\n",
              "      <td>0.002543</td>\n",
              "      <td>0.067388</td>\n",
              "      <td>0.001024</td>\n",
              "      <td>0.048571</td>\n",
              "      <td>0.000210</td>\n",
              "      <td>0.32296</td>\n",
              "      <td>0.001216</td>\n",
              "      <td>4.420471e+06</td>\n",
              "    </tr>\n",
              "    <tr>\n",
              "      <th>std</th>\n",
              "      <td>519.632842</td>\n",
              "      <td>3.959513</td>\n",
              "      <td>7.185202</td>\n",
              "      <td>0.787367</td>\n",
              "      <td>0.053313</td>\n",
              "      <td>0.263368</td>\n",
              "      <td>0.032320</td>\n",
              "      <td>0.219196</td>\n",
              "      <td>0.014484</td>\n",
              "      <td>0.75722</td>\n",
              "      <td>0.038537</td>\n",
              "      <td>8.188197e+04</td>\n",
              "    </tr>\n",
              "    <tr>\n",
              "      <th>min</th>\n",
              "      <td>10000.000000</td>\n",
              "      <td>0.000000</td>\n",
              "      <td>-74.254845</td>\n",
              "      <td>0.000000</td>\n",
              "      <td>0.000000</td>\n",
              "      <td>0.000000</td>\n",
              "      <td>0.000000</td>\n",
              "      <td>0.000000</td>\n",
              "      <td>0.000000</td>\n",
              "      <td>0.00000</td>\n",
              "      <td>0.000000</td>\n",
              "      <td>3.456194e+06</td>\n",
              "    </tr>\n",
              "    <tr>\n",
              "      <th>25%</th>\n",
              "      <td>10457.000000</td>\n",
              "      <td>40.665794</td>\n",
              "      <td>-73.960170</td>\n",
              "      <td>0.000000</td>\n",
              "      <td>0.000000</td>\n",
              "      <td>0.000000</td>\n",
              "      <td>0.000000</td>\n",
              "      <td>0.000000</td>\n",
              "      <td>0.000000</td>\n",
              "      <td>0.00000</td>\n",
              "      <td>0.000000</td>\n",
              "      <td>4.350230e+06</td>\n",
              "    </tr>\n",
              "    <tr>\n",
              "      <th>50%</th>\n",
              "      <td>11208.000000</td>\n",
              "      <td>40.714066</td>\n",
              "      <td>-73.918250</td>\n",
              "      <td>0.000000</td>\n",
              "      <td>0.000000</td>\n",
              "      <td>0.000000</td>\n",
              "      <td>0.000000</td>\n",
              "      <td>0.000000</td>\n",
              "      <td>0.000000</td>\n",
              "      <td>0.00000</td>\n",
              "      <td>0.000000</td>\n",
              "      <td>4.420621e+06</td>\n",
              "    </tr>\n",
              "    <tr>\n",
              "      <th>75%</th>\n",
              "      <td>11238.000000</td>\n",
              "      <td>40.787790</td>\n",
              "      <td>-73.865230</td>\n",
              "      <td>1.000000</td>\n",
              "      <td>0.000000</td>\n",
              "      <td>0.000000</td>\n",
              "      <td>0.000000</td>\n",
              "      <td>0.000000</td>\n",
              "      <td>0.000000</td>\n",
              "      <td>0.00000</td>\n",
              "      <td>0.000000</td>\n",
              "      <td>4.490936e+06</td>\n",
              "    </tr>\n",
              "    <tr>\n",
              "      <th>max</th>\n",
              "      <td>11697.000000</td>\n",
              "      <td>40.912884</td>\n",
              "      <td>0.000000</td>\n",
              "      <td>40.000000</td>\n",
              "      <td>4.000000</td>\n",
              "      <td>7.000000</td>\n",
              "      <td>2.000000</td>\n",
              "      <td>3.000000</td>\n",
              "      <td>1.000000</td>\n",
              "      <td>40.00000</td>\n",
              "      <td>4.000000</td>\n",
              "      <td>4.707503e+06</td>\n",
              "    </tr>\n",
              "  </tbody>\n",
              "</table>\n",
              "</div>\n",
              "    <div class=\"colab-df-buttons\">\n",
              "\n",
              "  <div class=\"colab-df-container\">\n",
              "    <button class=\"colab-df-convert\" onclick=\"convertToInteractive('df-8db89f08-61ef-4a18-90a4-725e356aa112')\"\n",
              "            title=\"Convert this dataframe to an interactive table.\"\n",
              "            style=\"display:none;\">\n",
              "\n",
              "  <svg xmlns=\"http://www.w3.org/2000/svg\" height=\"24px\" viewBox=\"0 -960 960 960\">\n",
              "    <path d=\"M120-120v-720h720v720H120Zm60-500h600v-160H180v160Zm220 220h160v-160H400v160Zm0 220h160v-160H400v160ZM180-400h160v-160H180v160Zm440 0h160v-160H620v160ZM180-180h160v-160H180v160Zm440 0h160v-160H620v160Z\"/>\n",
              "  </svg>\n",
              "    </button>\n",
              "\n",
              "  <style>\n",
              "    .colab-df-container {\n",
              "      display:flex;\n",
              "      gap: 12px;\n",
              "    }\n",
              "\n",
              "    .colab-df-convert {\n",
              "      background-color: #E8F0FE;\n",
              "      border: none;\n",
              "      border-radius: 50%;\n",
              "      cursor: pointer;\n",
              "      display: none;\n",
              "      fill: #1967D2;\n",
              "      height: 32px;\n",
              "      padding: 0 0 0 0;\n",
              "      width: 32px;\n",
              "    }\n",
              "\n",
              "    .colab-df-convert:hover {\n",
              "      background-color: #E2EBFA;\n",
              "      box-shadow: 0px 1px 2px rgba(60, 64, 67, 0.3), 0px 1px 3px 1px rgba(60, 64, 67, 0.15);\n",
              "      fill: #174EA6;\n",
              "    }\n",
              "\n",
              "    .colab-df-buttons div {\n",
              "      margin-bottom: 4px;\n",
              "    }\n",
              "\n",
              "    [theme=dark] .colab-df-convert {\n",
              "      background-color: #3B4455;\n",
              "      fill: #D2E3FC;\n",
              "    }\n",
              "\n",
              "    [theme=dark] .colab-df-convert:hover {\n",
              "      background-color: #434B5C;\n",
              "      box-shadow: 0px 1px 3px 1px rgba(0, 0, 0, 0.15);\n",
              "      filter: drop-shadow(0px 1px 2px rgba(0, 0, 0, 0.3));\n",
              "      fill: #FFFFFF;\n",
              "    }\n",
              "  </style>\n",
              "\n",
              "    <script>\n",
              "      const buttonEl =\n",
              "        document.querySelector('#df-8db89f08-61ef-4a18-90a4-725e356aa112 button.colab-df-convert');\n",
              "      buttonEl.style.display =\n",
              "        google.colab.kernel.accessAllowed ? 'block' : 'none';\n",
              "\n",
              "      async function convertToInteractive(key) {\n",
              "        const element = document.querySelector('#df-8db89f08-61ef-4a18-90a4-725e356aa112');\n",
              "        const dataTable =\n",
              "          await google.colab.kernel.invokeFunction('convertToInteractive',\n",
              "                                                    [key], {});\n",
              "        if (!dataTable) return;\n",
              "\n",
              "        const docLinkHtml = 'Like what you see? Visit the ' +\n",
              "          '<a target=\"_blank\" href=https://colab.research.google.com/notebooks/data_table.ipynb>data table notebook</a>'\n",
              "          + ' to learn more about interactive tables.';\n",
              "        element.innerHTML = '';\n",
              "        dataTable['output_type'] = 'display_data';\n",
              "        await google.colab.output.renderOutput(dataTable, element);\n",
              "        const docLink = document.createElement('div');\n",
              "        docLink.innerHTML = docLinkHtml;\n",
              "        element.appendChild(docLink);\n",
              "      }\n",
              "    </script>\n",
              "  </div>\n",
              "\n",
              "\n",
              "<div id=\"df-21614edf-b1dc-4efb-bfed-3756209cd32e\">\n",
              "  <button class=\"colab-df-quickchart\" onclick=\"quickchart('df-21614edf-b1dc-4efb-bfed-3756209cd32e')\"\n",
              "            title=\"Suggest charts\"\n",
              "            style=\"display:none;\">\n",
              "\n",
              "<svg xmlns=\"http://www.w3.org/2000/svg\" height=\"24px\"viewBox=\"0 0 24 24\"\n",
              "     width=\"24px\">\n",
              "    <g>\n",
              "        <path d=\"M19 3H5c-1.1 0-2 .9-2 2v14c0 1.1.9 2 2 2h14c1.1 0 2-.9 2-2V5c0-1.1-.9-2-2-2zM9 17H7v-7h2v7zm4 0h-2V7h2v10zm4 0h-2v-4h2v4z\"/>\n",
              "    </g>\n",
              "</svg>\n",
              "  </button>\n",
              "\n",
              "<style>\n",
              "  .colab-df-quickchart {\n",
              "      --bg-color: #E8F0FE;\n",
              "      --fill-color: #1967D2;\n",
              "      --hover-bg-color: #E2EBFA;\n",
              "      --hover-fill-color: #174EA6;\n",
              "      --disabled-fill-color: #AAA;\n",
              "      --disabled-bg-color: #DDD;\n",
              "  }\n",
              "\n",
              "  [theme=dark] .colab-df-quickchart {\n",
              "      --bg-color: #3B4455;\n",
              "      --fill-color: #D2E3FC;\n",
              "      --hover-bg-color: #434B5C;\n",
              "      --hover-fill-color: #FFFFFF;\n",
              "      --disabled-bg-color: #3B4455;\n",
              "      --disabled-fill-color: #666;\n",
              "  }\n",
              "\n",
              "  .colab-df-quickchart {\n",
              "    background-color: var(--bg-color);\n",
              "    border: none;\n",
              "    border-radius: 50%;\n",
              "    cursor: pointer;\n",
              "    display: none;\n",
              "    fill: var(--fill-color);\n",
              "    height: 32px;\n",
              "    padding: 0;\n",
              "    width: 32px;\n",
              "  }\n",
              "\n",
              "  .colab-df-quickchart:hover {\n",
              "    background-color: var(--hover-bg-color);\n",
              "    box-shadow: 0 1px 2px rgba(60, 64, 67, 0.3), 0 1px 3px 1px rgba(60, 64, 67, 0.15);\n",
              "    fill: var(--button-hover-fill-color);\n",
              "  }\n",
              "\n",
              "  .colab-df-quickchart-complete:disabled,\n",
              "  .colab-df-quickchart-complete:disabled:hover {\n",
              "    background-color: var(--disabled-bg-color);\n",
              "    fill: var(--disabled-fill-color);\n",
              "    box-shadow: none;\n",
              "  }\n",
              "\n",
              "  .colab-df-spinner {\n",
              "    border: 2px solid var(--fill-color);\n",
              "    border-color: transparent;\n",
              "    border-bottom-color: var(--fill-color);\n",
              "    animation:\n",
              "      spin 1s steps(1) infinite;\n",
              "  }\n",
              "\n",
              "  @keyframes spin {\n",
              "    0% {\n",
              "      border-color: transparent;\n",
              "      border-bottom-color: var(--fill-color);\n",
              "      border-left-color: var(--fill-color);\n",
              "    }\n",
              "    20% {\n",
              "      border-color: transparent;\n",
              "      border-left-color: var(--fill-color);\n",
              "      border-top-color: var(--fill-color);\n",
              "    }\n",
              "    30% {\n",
              "      border-color: transparent;\n",
              "      border-left-color: var(--fill-color);\n",
              "      border-top-color: var(--fill-color);\n",
              "      border-right-color: var(--fill-color);\n",
              "    }\n",
              "    40% {\n",
              "      border-color: transparent;\n",
              "      border-right-color: var(--fill-color);\n",
              "      border-top-color: var(--fill-color);\n",
              "    }\n",
              "    60% {\n",
              "      border-color: transparent;\n",
              "      border-right-color: var(--fill-color);\n",
              "    }\n",
              "    80% {\n",
              "      border-color: transparent;\n",
              "      border-right-color: var(--fill-color);\n",
              "      border-bottom-color: var(--fill-color);\n",
              "    }\n",
              "    90% {\n",
              "      border-color: transparent;\n",
              "      border-bottom-color: var(--fill-color);\n",
              "    }\n",
              "  }\n",
              "</style>\n",
              "\n",
              "  <script>\n",
              "    async function quickchart(key) {\n",
              "      const quickchartButtonEl =\n",
              "        document.querySelector('#' + key + ' button');\n",
              "      quickchartButtonEl.disabled = true;  // To prevent multiple clicks.\n",
              "      quickchartButtonEl.classList.add('colab-df-spinner');\n",
              "      try {\n",
              "        const charts = await google.colab.kernel.invokeFunction(\n",
              "            'suggestCharts', [key], {});\n",
              "      } catch (error) {\n",
              "        console.error('Error during call to suggestCharts:', error);\n",
              "      }\n",
              "      quickchartButtonEl.classList.remove('colab-df-spinner');\n",
              "      quickchartButtonEl.classList.add('colab-df-quickchart-complete');\n",
              "    }\n",
              "    (() => {\n",
              "      let quickchartButtonEl =\n",
              "        document.querySelector('#df-21614edf-b1dc-4efb-bfed-3756209cd32e button');\n",
              "      quickchartButtonEl.style.display =\n",
              "        google.colab.kernel.accessAllowed ? 'block' : 'none';\n",
              "    })();\n",
              "  </script>\n",
              "</div>\n",
              "\n",
              "    </div>\n",
              "  </div>\n"
            ],
            "application/vnd.google.colaboratory.intrinsic+json": {
              "type": "dataframe",
              "summary": "{\n  \"name\": \"df\",\n  \"rows\": 8,\n  \"fields\": [\n    {\n      \"column\": \"ZIP CODE\",\n      \"properties\": {\n        \"dtype\": \"number\",\n        \"std\": 61855.857431923076,\n        \"min\": 519.632842078242,\n        \"max\": 184077.0,\n        \"num_unique_values\": 8,\n        \"samples\": [\n          10898.332817244956,\n          11208.0,\n          184077.0\n        ],\n        \"semantic_type\": \"\",\n        \"description\": \"\"\n      }\n    },\n    {\n      \"column\": \"LATITUDE\",\n      \"properties\": {\n        \"dtype\": \"number\",\n        \"std\": 91199.93836149965,\n        \"min\": 0.0,\n        \"max\": 257982.0,\n        \"num_unique_values\": 8,\n        \"samples\": [\n          40.33720349910302,\n          40.714066,\n          257982.0\n        ],\n        \"semantic_type\": \"\",\n        \"description\": \"\"\n      }\n    },\n    {\n      \"column\": \"LONGITUDE\",\n      \"properties\": {\n        \"dtype\": \"number\",\n        \"std\": 91228.70244631277,\n        \"min\": -74.254845,\n        \"max\": 257982.0,\n        \"num_unique_values\": 8,\n        \"samples\": [\n          -73.20939399201379,\n          -73.91825,\n          257982.0\n        ],\n        \"semantic_type\": \"\",\n        \"description\": \"\"\n      }\n    },\n    {\n      \"column\": \"NUMBER OF PERSONS INJURED\",\n      \"properties\": {\n        \"dtype\": \"number\",\n        \"std\": 99408.59569696811,\n        \"min\": 0.0,\n        \"max\": 281176.0,\n        \"num_unique_values\": 6,\n        \"samples\": [\n          281176.0,\n          0.4522789996301249,\n          40.0\n        ],\n        \"semantic_type\": \"\",\n        \"description\": \"\"\n      }\n    },\n    {\n      \"column\": \"NUMBER OF PERSONS KILLED\",\n      \"properties\": {\n        \"dtype\": \"number\",\n        \"std\": 99410.87686499432,\n        \"min\": 0.0,\n        \"max\": 281177.0,\n        \"num_unique_values\": 5,\n        \"samples\": [\n          0.0025428822414351104,\n          4.0,\n          0.053313068421965384\n        ],\n        \"semantic_type\": \"\",\n        \"description\": \"\"\n      }\n    },\n    {\n      \"column\": \"NUMBER OF PEDESTRIANS INJURED\",\n      \"properties\": {\n        \"dtype\": \"number\",\n        \"std\": 99410.71147748944,\n        \"min\": 0.0,\n        \"max\": 281177.0,\n        \"num_unique_values\": 5,\n        \"samples\": [\n          0.0673881576373601,\n          7.0,\n          0.26336801141848476\n        ],\n        \"semantic_type\": \"\",\n        \"description\": \"\"\n      }\n    },\n    {\n      \"column\": \"NUMBER OF PEDESTRIANS KILLED\",\n      \"properties\": {\n        \"dtype\": \"number\",\n        \"std\": 99410.9790099192,\n        \"min\": 0.0,\n        \"max\": 281177.0,\n        \"num_unique_values\": 5,\n        \"samples\": [\n          0.0010242658538927437,\n          2.0,\n          0.03231964294763052\n        ],\n        \"semantic_type\": \"\",\n        \"description\": \"\"\n      }\n    },\n    {\n      \"column\": \"NUMBER OF CYCLIST INJURED\",\n      \"properties\": {\n        \"dtype\": \"number\",\n        \"std\": 99410.91666508776,\n        \"min\": 0.0,\n        \"max\": 281177.0,\n        \"num_unique_values\": 5,\n        \"samples\": [\n          0.04857082905074028,\n          3.0,\n          0.2191962989707647\n        ],\n        \"semantic_type\": \"\",\n        \"description\": \"\"\n      }\n    },\n    {\n      \"column\": \"NUMBER OF CYCLIST KILLED\",\n      \"properties\": {\n        \"dtype\": \"number\",\n        \"std\": 99411.03045767538,\n        \"min\": 0.0,\n        \"max\": 281177.0,\n        \"num_unique_values\": 5,\n        \"samples\": [\n          0.00020983224090163847,\n          1.0,\n          0.014484093255784666\n        ],\n        \"semantic_type\": \"\",\n        \"description\": \"\"\n      }\n    },\n    {\n      \"column\": \"NUMBER OF MOTORIST INJURED\",\n      \"properties\": {\n        \"dtype\": \"number\",\n        \"std\": 99409.00782132502,\n        \"min\": 0.0,\n        \"max\": 281177.0,\n        \"num_unique_values\": 5,\n        \"samples\": [\n          0.3229602705768964,\n          40.0,\n          0.7572200175053097\n        ],\n        \"semantic_type\": \"\",\n        \"description\": \"\"\n      }\n    },\n    {\n      \"column\": \"NUMBER OF MOTORIST KILLED\",\n      \"properties\": {\n        \"dtype\": \"number\",\n        \"std\": 99410.87767829059,\n        \"min\": 0.0,\n        \"max\": 281177.0,\n        \"num_unique_values\": 5,\n        \"samples\": [\n          0.0012163157014976331,\n          4.0,\n          0.03853743553442112\n        ],\n        \"semantic_type\": \"\",\n        \"description\": \"\"\n      }\n    },\n    {\n      \"column\": \"COLLISION_ID\",\n      \"properties\": {\n        \"dtype\": \"number\",\n        \"std\": 1945802.7040978558,\n        \"min\": 81881.97296732609,\n        \"max\": 4707503.0,\n        \"num_unique_values\": 8,\n        \"samples\": [\n          4420471.481661018,\n          4420621.0,\n          281177.0\n        ],\n        \"semantic_type\": \"\",\n        \"description\": \"\"\n      }\n    }\n  ]\n}"
            }
          },
          "metadata": {},
          "execution_count": 9
        }
      ]
    },
    {
      "cell_type": "markdown",
      "source": [
        "### Summary of categorical columns"
      ],
      "metadata": {
        "id": "t5n0KYhJf9sX"
      }
    },
    {
      "cell_type": "code",
      "source": [
        "df.describe(include='object')"
      ],
      "metadata": {
        "execution": {
          "iopub.status.busy": "2024-04-20T12:06:29.348988Z",
          "iopub.execute_input": "2024-04-20T12:06:29.349726Z",
          "iopub.status.idle": "2024-04-20T12:06:37.091196Z",
          "shell.execute_reply.started": "2024-04-20T12:06:29.349694Z",
          "shell.execute_reply": "2024-04-20T12:06:37.090294Z"
        },
        "trusted": true,
        "colab": {
          "base_uri": "https://localhost:8080/",
          "height": 264
        },
        "id": "avi8RAW8f9sX",
        "outputId": "3d3acc36-54aa-4763-cbfd-4412b651fe38"
      },
      "execution_count": 10,
      "outputs": [
        {
          "output_type": "execute_result",
          "data": {
            "text/plain": [
              "        CRASH DATE CRASH TIME   BOROUGH    LOCATION ON STREET NAME  \\\n",
              "count       281177     281177    184108      257982         205549   \n",
              "unique        1127       1440         5       95682           9748   \n",
              "top     03/06/2020       0:00  BROOKLYN  (0.0, 0.0)   BELT PARKWAY   \n",
              "freq           673       4629     63741        2461           2356   \n",
              "\n",
              "       CROSS STREET NAME            OFF STREET NAME  \\\n",
              "count             130645                      75625   \n",
              "unique              6955                      64258   \n",
              "top             3 AVENUE  450       FLATBUSH AVENUE   \n",
              "freq                1229                         38   \n",
              "\n",
              "       CONTRIBUTING FACTOR VEHICLE 1 CONTRIBUTING FACTOR VEHICLE 2  \\\n",
              "count                         279798                        217747   \n",
              "unique                            55                            52   \n",
              "top                      Unspecified                   Unspecified   \n",
              "freq                           71045                        185625   \n",
              "\n",
              "       CONTRIBUTING FACTOR VEHICLE 3 CONTRIBUTING FACTOR VEHICLE 4  \\\n",
              "count                          27991                          7638   \n",
              "unique                            36                            22   \n",
              "top                      Unspecified                   Unspecified   \n",
              "freq                           26286                          7237   \n",
              "\n",
              "       CONTRIBUTING FACTOR VEHICLE 5 VEHICLE TYPE CODE 1 VEHICLE TYPE CODE 2  \\\n",
              "count                           2289              278019              189662   \n",
              "unique                            13                 669                 743   \n",
              "top                      Unspecified               Sedan               Sedan   \n",
              "freq                            2161              132869               81840   \n",
              "\n",
              "       VEHICLE TYPE CODE 3 VEHICLE TYPE CODE 4 VEHICLE TYPE CODE 5  \n",
              "count                26133                7251                2215  \n",
              "unique                 121                  57                  31  \n",
              "top                  Sedan               Sedan               Sedan  \n",
              "freq                 13018                3623                1093  "
            ],
            "text/html": [
              "\n",
              "  <div id=\"df-b9ac61f0-c5fb-4d42-9fef-3e8f6107c1c1\" class=\"colab-df-container\">\n",
              "    <div>\n",
              "<style scoped>\n",
              "    .dataframe tbody tr th:only-of-type {\n",
              "        vertical-align: middle;\n",
              "    }\n",
              "\n",
              "    .dataframe tbody tr th {\n",
              "        vertical-align: top;\n",
              "    }\n",
              "\n",
              "    .dataframe thead th {\n",
              "        text-align: right;\n",
              "    }\n",
              "</style>\n",
              "<table border=\"1\" class=\"dataframe\">\n",
              "  <thead>\n",
              "    <tr style=\"text-align: right;\">\n",
              "      <th></th>\n",
              "      <th>CRASH DATE</th>\n",
              "      <th>CRASH TIME</th>\n",
              "      <th>BOROUGH</th>\n",
              "      <th>LOCATION</th>\n",
              "      <th>ON STREET NAME</th>\n",
              "      <th>CROSS STREET NAME</th>\n",
              "      <th>OFF STREET NAME</th>\n",
              "      <th>CONTRIBUTING FACTOR VEHICLE 1</th>\n",
              "      <th>CONTRIBUTING FACTOR VEHICLE 2</th>\n",
              "      <th>CONTRIBUTING FACTOR VEHICLE 3</th>\n",
              "      <th>CONTRIBUTING FACTOR VEHICLE 4</th>\n",
              "      <th>CONTRIBUTING FACTOR VEHICLE 5</th>\n",
              "      <th>VEHICLE TYPE CODE 1</th>\n",
              "      <th>VEHICLE TYPE CODE 2</th>\n",
              "      <th>VEHICLE TYPE CODE 3</th>\n",
              "      <th>VEHICLE TYPE CODE 4</th>\n",
              "      <th>VEHICLE TYPE CODE 5</th>\n",
              "    </tr>\n",
              "  </thead>\n",
              "  <tbody>\n",
              "    <tr>\n",
              "      <th>count</th>\n",
              "      <td>281177</td>\n",
              "      <td>281177</td>\n",
              "      <td>184108</td>\n",
              "      <td>257982</td>\n",
              "      <td>205549</td>\n",
              "      <td>130645</td>\n",
              "      <td>75625</td>\n",
              "      <td>279798</td>\n",
              "      <td>217747</td>\n",
              "      <td>27991</td>\n",
              "      <td>7638</td>\n",
              "      <td>2289</td>\n",
              "      <td>278019</td>\n",
              "      <td>189662</td>\n",
              "      <td>26133</td>\n",
              "      <td>7251</td>\n",
              "      <td>2215</td>\n",
              "    </tr>\n",
              "    <tr>\n",
              "      <th>unique</th>\n",
              "      <td>1127</td>\n",
              "      <td>1440</td>\n",
              "      <td>5</td>\n",
              "      <td>95682</td>\n",
              "      <td>9748</td>\n",
              "      <td>6955</td>\n",
              "      <td>64258</td>\n",
              "      <td>55</td>\n",
              "      <td>52</td>\n",
              "      <td>36</td>\n",
              "      <td>22</td>\n",
              "      <td>13</td>\n",
              "      <td>669</td>\n",
              "      <td>743</td>\n",
              "      <td>121</td>\n",
              "      <td>57</td>\n",
              "      <td>31</td>\n",
              "    </tr>\n",
              "    <tr>\n",
              "      <th>top</th>\n",
              "      <td>03/06/2020</td>\n",
              "      <td>0:00</td>\n",
              "      <td>BROOKLYN</td>\n",
              "      <td>(0.0, 0.0)</td>\n",
              "      <td>BELT PARKWAY</td>\n",
              "      <td>3 AVENUE</td>\n",
              "      <td>450       FLATBUSH AVENUE</td>\n",
              "      <td>Unspecified</td>\n",
              "      <td>Unspecified</td>\n",
              "      <td>Unspecified</td>\n",
              "      <td>Unspecified</td>\n",
              "      <td>Unspecified</td>\n",
              "      <td>Sedan</td>\n",
              "      <td>Sedan</td>\n",
              "      <td>Sedan</td>\n",
              "      <td>Sedan</td>\n",
              "      <td>Sedan</td>\n",
              "    </tr>\n",
              "    <tr>\n",
              "      <th>freq</th>\n",
              "      <td>673</td>\n",
              "      <td>4629</td>\n",
              "      <td>63741</td>\n",
              "      <td>2461</td>\n",
              "      <td>2356</td>\n",
              "      <td>1229</td>\n",
              "      <td>38</td>\n",
              "      <td>71045</td>\n",
              "      <td>185625</td>\n",
              "      <td>26286</td>\n",
              "      <td>7237</td>\n",
              "      <td>2161</td>\n",
              "      <td>132869</td>\n",
              "      <td>81840</td>\n",
              "      <td>13018</td>\n",
              "      <td>3623</td>\n",
              "      <td>1093</td>\n",
              "    </tr>\n",
              "  </tbody>\n",
              "</table>\n",
              "</div>\n",
              "    <div class=\"colab-df-buttons\">\n",
              "\n",
              "  <div class=\"colab-df-container\">\n",
              "    <button class=\"colab-df-convert\" onclick=\"convertToInteractive('df-b9ac61f0-c5fb-4d42-9fef-3e8f6107c1c1')\"\n",
              "            title=\"Convert this dataframe to an interactive table.\"\n",
              "            style=\"display:none;\">\n",
              "\n",
              "  <svg xmlns=\"http://www.w3.org/2000/svg\" height=\"24px\" viewBox=\"0 -960 960 960\">\n",
              "    <path d=\"M120-120v-720h720v720H120Zm60-500h600v-160H180v160Zm220 220h160v-160H400v160Zm0 220h160v-160H400v160ZM180-400h160v-160H180v160Zm440 0h160v-160H620v160ZM180-180h160v-160H180v160Zm440 0h160v-160H620v160Z\"/>\n",
              "  </svg>\n",
              "    </button>\n",
              "\n",
              "  <style>\n",
              "    .colab-df-container {\n",
              "      display:flex;\n",
              "      gap: 12px;\n",
              "    }\n",
              "\n",
              "    .colab-df-convert {\n",
              "      background-color: #E8F0FE;\n",
              "      border: none;\n",
              "      border-radius: 50%;\n",
              "      cursor: pointer;\n",
              "      display: none;\n",
              "      fill: #1967D2;\n",
              "      height: 32px;\n",
              "      padding: 0 0 0 0;\n",
              "      width: 32px;\n",
              "    }\n",
              "\n",
              "    .colab-df-convert:hover {\n",
              "      background-color: #E2EBFA;\n",
              "      box-shadow: 0px 1px 2px rgba(60, 64, 67, 0.3), 0px 1px 3px 1px rgba(60, 64, 67, 0.15);\n",
              "      fill: #174EA6;\n",
              "    }\n",
              "\n",
              "    .colab-df-buttons div {\n",
              "      margin-bottom: 4px;\n",
              "    }\n",
              "\n",
              "    [theme=dark] .colab-df-convert {\n",
              "      background-color: #3B4455;\n",
              "      fill: #D2E3FC;\n",
              "    }\n",
              "\n",
              "    [theme=dark] .colab-df-convert:hover {\n",
              "      background-color: #434B5C;\n",
              "      box-shadow: 0px 1px 3px 1px rgba(0, 0, 0, 0.15);\n",
              "      filter: drop-shadow(0px 1px 2px rgba(0, 0, 0, 0.3));\n",
              "      fill: #FFFFFF;\n",
              "    }\n",
              "  </style>\n",
              "\n",
              "    <script>\n",
              "      const buttonEl =\n",
              "        document.querySelector('#df-b9ac61f0-c5fb-4d42-9fef-3e8f6107c1c1 button.colab-df-convert');\n",
              "      buttonEl.style.display =\n",
              "        google.colab.kernel.accessAllowed ? 'block' : 'none';\n",
              "\n",
              "      async function convertToInteractive(key) {\n",
              "        const element = document.querySelector('#df-b9ac61f0-c5fb-4d42-9fef-3e8f6107c1c1');\n",
              "        const dataTable =\n",
              "          await google.colab.kernel.invokeFunction('convertToInteractive',\n",
              "                                                    [key], {});\n",
              "        if (!dataTable) return;\n",
              "\n",
              "        const docLinkHtml = 'Like what you see? Visit the ' +\n",
              "          '<a target=\"_blank\" href=https://colab.research.google.com/notebooks/data_table.ipynb>data table notebook</a>'\n",
              "          + ' to learn more about interactive tables.';\n",
              "        element.innerHTML = '';\n",
              "        dataTable['output_type'] = 'display_data';\n",
              "        await google.colab.output.renderOutput(dataTable, element);\n",
              "        const docLink = document.createElement('div');\n",
              "        docLink.innerHTML = docLinkHtml;\n",
              "        element.appendChild(docLink);\n",
              "      }\n",
              "    </script>\n",
              "  </div>\n",
              "\n",
              "\n",
              "<div id=\"df-0dd95268-2886-4740-b339-73402914d1dd\">\n",
              "  <button class=\"colab-df-quickchart\" onclick=\"quickchart('df-0dd95268-2886-4740-b339-73402914d1dd')\"\n",
              "            title=\"Suggest charts\"\n",
              "            style=\"display:none;\">\n",
              "\n",
              "<svg xmlns=\"http://www.w3.org/2000/svg\" height=\"24px\"viewBox=\"0 0 24 24\"\n",
              "     width=\"24px\">\n",
              "    <g>\n",
              "        <path d=\"M19 3H5c-1.1 0-2 .9-2 2v14c0 1.1.9 2 2 2h14c1.1 0 2-.9 2-2V5c0-1.1-.9-2-2-2zM9 17H7v-7h2v7zm4 0h-2V7h2v10zm4 0h-2v-4h2v4z\"/>\n",
              "    </g>\n",
              "</svg>\n",
              "  </button>\n",
              "\n",
              "<style>\n",
              "  .colab-df-quickchart {\n",
              "      --bg-color: #E8F0FE;\n",
              "      --fill-color: #1967D2;\n",
              "      --hover-bg-color: #E2EBFA;\n",
              "      --hover-fill-color: #174EA6;\n",
              "      --disabled-fill-color: #AAA;\n",
              "      --disabled-bg-color: #DDD;\n",
              "  }\n",
              "\n",
              "  [theme=dark] .colab-df-quickchart {\n",
              "      --bg-color: #3B4455;\n",
              "      --fill-color: #D2E3FC;\n",
              "      --hover-bg-color: #434B5C;\n",
              "      --hover-fill-color: #FFFFFF;\n",
              "      --disabled-bg-color: #3B4455;\n",
              "      --disabled-fill-color: #666;\n",
              "  }\n",
              "\n",
              "  .colab-df-quickchart {\n",
              "    background-color: var(--bg-color);\n",
              "    border: none;\n",
              "    border-radius: 50%;\n",
              "    cursor: pointer;\n",
              "    display: none;\n",
              "    fill: var(--fill-color);\n",
              "    height: 32px;\n",
              "    padding: 0;\n",
              "    width: 32px;\n",
              "  }\n",
              "\n",
              "  .colab-df-quickchart:hover {\n",
              "    background-color: var(--hover-bg-color);\n",
              "    box-shadow: 0 1px 2px rgba(60, 64, 67, 0.3), 0 1px 3px 1px rgba(60, 64, 67, 0.15);\n",
              "    fill: var(--button-hover-fill-color);\n",
              "  }\n",
              "\n",
              "  .colab-df-quickchart-complete:disabled,\n",
              "  .colab-df-quickchart-complete:disabled:hover {\n",
              "    background-color: var(--disabled-bg-color);\n",
              "    fill: var(--disabled-fill-color);\n",
              "    box-shadow: none;\n",
              "  }\n",
              "\n",
              "  .colab-df-spinner {\n",
              "    border: 2px solid var(--fill-color);\n",
              "    border-color: transparent;\n",
              "    border-bottom-color: var(--fill-color);\n",
              "    animation:\n",
              "      spin 1s steps(1) infinite;\n",
              "  }\n",
              "\n",
              "  @keyframes spin {\n",
              "    0% {\n",
              "      border-color: transparent;\n",
              "      border-bottom-color: var(--fill-color);\n",
              "      border-left-color: var(--fill-color);\n",
              "    }\n",
              "    20% {\n",
              "      border-color: transparent;\n",
              "      border-left-color: var(--fill-color);\n",
              "      border-top-color: var(--fill-color);\n",
              "    }\n",
              "    30% {\n",
              "      border-color: transparent;\n",
              "      border-left-color: var(--fill-color);\n",
              "      border-top-color: var(--fill-color);\n",
              "      border-right-color: var(--fill-color);\n",
              "    }\n",
              "    40% {\n",
              "      border-color: transparent;\n",
              "      border-right-color: var(--fill-color);\n",
              "      border-top-color: var(--fill-color);\n",
              "    }\n",
              "    60% {\n",
              "      border-color: transparent;\n",
              "      border-right-color: var(--fill-color);\n",
              "    }\n",
              "    80% {\n",
              "      border-color: transparent;\n",
              "      border-right-color: var(--fill-color);\n",
              "      border-bottom-color: var(--fill-color);\n",
              "    }\n",
              "    90% {\n",
              "      border-color: transparent;\n",
              "      border-bottom-color: var(--fill-color);\n",
              "    }\n",
              "  }\n",
              "</style>\n",
              "\n",
              "  <script>\n",
              "    async function quickchart(key) {\n",
              "      const quickchartButtonEl =\n",
              "        document.querySelector('#' + key + ' button');\n",
              "      quickchartButtonEl.disabled = true;  // To prevent multiple clicks.\n",
              "      quickchartButtonEl.classList.add('colab-df-spinner');\n",
              "      try {\n",
              "        const charts = await google.colab.kernel.invokeFunction(\n",
              "            'suggestCharts', [key], {});\n",
              "      } catch (error) {\n",
              "        console.error('Error during call to suggestCharts:', error);\n",
              "      }\n",
              "      quickchartButtonEl.classList.remove('colab-df-spinner');\n",
              "      quickchartButtonEl.classList.add('colab-df-quickchart-complete');\n",
              "    }\n",
              "    (() => {\n",
              "      let quickchartButtonEl =\n",
              "        document.querySelector('#df-0dd95268-2886-4740-b339-73402914d1dd button');\n",
              "      quickchartButtonEl.style.display =\n",
              "        google.colab.kernel.accessAllowed ? 'block' : 'none';\n",
              "    })();\n",
              "  </script>\n",
              "</div>\n",
              "\n",
              "    </div>\n",
              "  </div>\n"
            ],
            "application/vnd.google.colaboratory.intrinsic+json": {
              "type": "dataframe",
              "summary": "{\n  \"name\": \"df\",\n  \"rows\": 4,\n  \"fields\": [\n    {\n      \"column\": \"CRASH DATE\",\n      \"properties\": {\n        \"dtype\": \"date\",\n        \"min\": \"1970-01-01 00:00:00.000000673\",\n        \"max\": \"2020-03-06 00:00:00\",\n        \"num_unique_values\": 4,\n        \"samples\": [\n          1127,\n          \"673\",\n          \"281177\"\n        ],\n        \"semantic_type\": \"\",\n        \"description\": \"\"\n      }\n    },\n    {\n      \"column\": \"CRASH TIME\",\n      \"properties\": {\n        \"dtype\": \"date\",\n        \"min\": \"1970-01-01 00:00:00.000001440\",\n        \"max\": \"2024-05-04 00:00:00\",\n        \"num_unique_values\": 4,\n        \"samples\": [\n          1440,\n          \"4629\",\n          \"281177\"\n        ],\n        \"semantic_type\": \"\",\n        \"description\": \"\"\n      }\n    },\n    {\n      \"column\": \"BOROUGH\",\n      \"properties\": {\n        \"dtype\": \"string\",\n        \"num_unique_values\": 4,\n        \"samples\": [\n          5,\n          \"63741\",\n          \"184108\"\n        ],\n        \"semantic_type\": \"\",\n        \"description\": \"\"\n      }\n    },\n    {\n      \"column\": \"LOCATION\",\n      \"properties\": {\n        \"dtype\": \"string\",\n        \"num_unique_values\": 4,\n        \"samples\": [\n          95682,\n          \"2461\",\n          \"257982\"\n        ],\n        \"semantic_type\": \"\",\n        \"description\": \"\"\n      }\n    },\n    {\n      \"column\": \"ON STREET NAME\",\n      \"properties\": {\n        \"dtype\": \"string\",\n        \"num_unique_values\": 4,\n        \"samples\": [\n          9748,\n          \"2356\",\n          \"205549\"\n        ],\n        \"semantic_type\": \"\",\n        \"description\": \"\"\n      }\n    },\n    {\n      \"column\": \"CROSS STREET NAME\",\n      \"properties\": {\n        \"dtype\": \"string\",\n        \"num_unique_values\": 4,\n        \"samples\": [\n          6955,\n          \"1229\",\n          \"130645\"\n        ],\n        \"semantic_type\": \"\",\n        \"description\": \"\"\n      }\n    },\n    {\n      \"column\": \"OFF STREET NAME\",\n      \"properties\": {\n        \"dtype\": \"string\",\n        \"num_unique_values\": 4,\n        \"samples\": [\n          64258,\n          \"38\",\n          \"75625\"\n        ],\n        \"semantic_type\": \"\",\n        \"description\": \"\"\n      }\n    },\n    {\n      \"column\": \"CONTRIBUTING FACTOR VEHICLE 1\",\n      \"properties\": {\n        \"dtype\": \"string\",\n        \"num_unique_values\": 4,\n        \"samples\": [\n          55,\n          \"71045\",\n          \"279798\"\n        ],\n        \"semantic_type\": \"\",\n        \"description\": \"\"\n      }\n    },\n    {\n      \"column\": \"CONTRIBUTING FACTOR VEHICLE 2\",\n      \"properties\": {\n        \"dtype\": \"string\",\n        \"num_unique_values\": 4,\n        \"samples\": [\n          52,\n          \"185625\",\n          \"217747\"\n        ],\n        \"semantic_type\": \"\",\n        \"description\": \"\"\n      }\n    },\n    {\n      \"column\": \"CONTRIBUTING FACTOR VEHICLE 3\",\n      \"properties\": {\n        \"dtype\": \"string\",\n        \"num_unique_values\": 4,\n        \"samples\": [\n          36,\n          \"26286\",\n          \"27991\"\n        ],\n        \"semantic_type\": \"\",\n        \"description\": \"\"\n      }\n    },\n    {\n      \"column\": \"CONTRIBUTING FACTOR VEHICLE 4\",\n      \"properties\": {\n        \"dtype\": \"string\",\n        \"num_unique_values\": 4,\n        \"samples\": [\n          22,\n          \"7237\",\n          \"7638\"\n        ],\n        \"semantic_type\": \"\",\n        \"description\": \"\"\n      }\n    },\n    {\n      \"column\": \"CONTRIBUTING FACTOR VEHICLE 5\",\n      \"properties\": {\n        \"dtype\": \"string\",\n        \"num_unique_values\": 4,\n        \"samples\": [\n          13,\n          \"2161\",\n          \"2289\"\n        ],\n        \"semantic_type\": \"\",\n        \"description\": \"\"\n      }\n    },\n    {\n      \"column\": \"VEHICLE TYPE CODE 1\",\n      \"properties\": {\n        \"dtype\": \"string\",\n        \"num_unique_values\": 4,\n        \"samples\": [\n          669,\n          \"132869\",\n          \"278019\"\n        ],\n        \"semantic_type\": \"\",\n        \"description\": \"\"\n      }\n    },\n    {\n      \"column\": \"VEHICLE TYPE CODE 2\",\n      \"properties\": {\n        \"dtype\": \"string\",\n        \"num_unique_values\": 4,\n        \"samples\": [\n          743,\n          \"81840\",\n          \"189662\"\n        ],\n        \"semantic_type\": \"\",\n        \"description\": \"\"\n      }\n    },\n    {\n      \"column\": \"VEHICLE TYPE CODE 3\",\n      \"properties\": {\n        \"dtype\": \"string\",\n        \"num_unique_values\": 4,\n        \"samples\": [\n          121,\n          \"13018\",\n          \"26133\"\n        ],\n        \"semantic_type\": \"\",\n        \"description\": \"\"\n      }\n    },\n    {\n      \"column\": \"VEHICLE TYPE CODE 4\",\n      \"properties\": {\n        \"dtype\": \"string\",\n        \"num_unique_values\": 4,\n        \"samples\": [\n          57,\n          \"3623\",\n          \"7251\"\n        ],\n        \"semantic_type\": \"\",\n        \"description\": \"\"\n      }\n    },\n    {\n      \"column\": \"VEHICLE TYPE CODE 5\",\n      \"properties\": {\n        \"dtype\": \"string\",\n        \"num_unique_values\": 4,\n        \"samples\": [\n          31,\n          \"1093\",\n          \"2215\"\n        ],\n        \"semantic_type\": \"\",\n        \"description\": \"\"\n      }\n    }\n  ]\n}"
            }
          },
          "metadata": {},
          "execution_count": 10
        }
      ]
    },
    {
      "cell_type": "markdown",
      "source": [
        "### Some columns are filled with null values, so we will drop those columns"
      ],
      "metadata": {
        "id": "1d7B5g-9f9sY"
      }
    },
    {
      "cell_type": "code",
      "source": [
        "df.drop(columns=['OFF STREET NAME','LATITUDE','LONGITUDE','LOCATION','CONTRIBUTING FACTOR VEHICLE 3','CONTRIBUTING FACTOR VEHICLE 4',\n",
        "                'CONTRIBUTING FACTOR VEHICLE 5','COLLISION_ID','VEHICLE TYPE CODE 3','VEHICLE TYPE CODE 4',\n",
        "                'VEHICLE TYPE CODE 5'],axis=1,inplace=True)\n",
        "df.shape"
      ],
      "metadata": {
        "execution": {
          "iopub.status.busy": "2024-04-20T12:06:48.957235Z",
          "iopub.execute_input": "2024-04-20T12:06:48.957888Z",
          "iopub.status.idle": "2024-04-20T12:06:49.166451Z",
          "shell.execute_reply.started": "2024-04-20T12:06:48.957856Z",
          "shell.execute_reply": "2024-04-20T12:06:49.165506Z"
        },
        "trusted": true,
        "colab": {
          "base_uri": "https://localhost:8080/"
        },
        "id": "F2gWDif6f9sY",
        "outputId": "101f466f-7590-432d-b433-096594bed65e"
      },
      "execution_count": 11,
      "outputs": [
        {
          "output_type": "execute_result",
          "data": {
            "text/plain": [
              "(281177, 18)"
            ]
          },
          "metadata": {},
          "execution_count": 11
        }
      ]
    },
    {
      "cell_type": "markdown",
      "source": [
        "### Relationship between numerical variables"
      ],
      "metadata": {
        "id": "EM27TjV2f9sZ"
      }
    },
    {
      "cell_type": "code",
      "source": [
        "corr = df.corr(numeric_only=True)\n",
        "corr"
      ],
      "metadata": {
        "execution": {
          "iopub.status.busy": "2024-04-20T12:06:53.257104Z",
          "iopub.execute_input": "2024-04-20T12:06:53.257450Z",
          "iopub.status.idle": "2024-04-20T12:06:53.684577Z",
          "shell.execute_reply.started": "2024-04-20T12:06:53.257424Z",
          "shell.execute_reply": "2024-04-20T12:06:53.683605Z"
        },
        "trusted": true,
        "colab": {
          "base_uri": "https://localhost:8080/",
          "height": 644
        },
        "id": "xIA230xYf9sZ",
        "outputId": "6fdab3e6-e820-4073-ab0c-82dc21e96c50"
      },
      "execution_count": 12,
      "outputs": [
        {
          "output_type": "execute_result",
          "data": {
            "text/plain": [
              "                               ZIP CODE  NUMBER OF PERSONS INJURED  \\\n",
              "ZIP CODE                       1.000000                   0.014725   \n",
              "NUMBER OF PERSONS INJURED      0.014725                   1.000000   \n",
              "NUMBER OF PERSONS KILLED      -0.001339                   0.007085   \n",
              "NUMBER OF PEDESTRIANS INJURED -0.022177                   0.223426   \n",
              "NUMBER OF PEDESTRIANS KILLED  -0.001949                  -0.006465   \n",
              "NUMBER OF CYCLIST INJURED     -0.043565                   0.172252   \n",
              "NUMBER OF CYCLIST KILLED      -0.005343                  -0.006451   \n",
              "NUMBER OF MOTORIST INJURED     0.039375                   0.896959   \n",
              "NUMBER OF MOTORIST KILLED      0.002624                   0.018908   \n",
              "\n",
              "                               NUMBER OF PERSONS KILLED  \\\n",
              "ZIP CODE                                      -0.001339   \n",
              "NUMBER OF PERSONS INJURED                      0.007085   \n",
              "NUMBER OF PERSONS KILLED                       1.000000   \n",
              "NUMBER OF PEDESTRIANS INJURED                 -0.003592   \n",
              "NUMBER OF PEDESTRIANS KILLED                   0.609449   \n",
              "NUMBER OF CYCLIST INJURED                     -0.008134   \n",
              "NUMBER OF CYCLIST KILLED                       0.275652   \n",
              "NUMBER OF MOTORIST INJURED                     0.011636   \n",
              "NUMBER OF MOTORIST KILLED                      0.723797   \n",
              "\n",
              "                               NUMBER OF PEDESTRIANS INJURED  \\\n",
              "ZIP CODE                                           -0.022177   \n",
              "NUMBER OF PERSONS INJURED                           0.223426   \n",
              "NUMBER OF PERSONS KILLED                           -0.003592   \n",
              "NUMBER OF PEDESTRIANS INJURED                       1.000000   \n",
              "NUMBER OF PEDESTRIANS KILLED                        0.003590   \n",
              "NUMBER OF CYCLIST INJURED                          -0.048689   \n",
              "NUMBER OF CYCLIST KILLED                           -0.002775   \n",
              "NUMBER OF MOTORIST INJURED                         -0.097700   \n",
              "NUMBER OF MOTORIST KILLED                          -0.006324   \n",
              "\n",
              "                               NUMBER OF PEDESTRIANS KILLED  \\\n",
              "ZIP CODE                                          -0.001949   \n",
              "NUMBER OF PERSONS INJURED                         -0.006465   \n",
              "NUMBER OF PERSONS KILLED                           0.609449   \n",
              "NUMBER OF PEDESTRIANS INJURED                      0.003590   \n",
              "NUMBER OF PEDESTRIANS KILLED                       1.000000   \n",
              "NUMBER OF CYCLIST INJURED                         -0.005014   \n",
              "NUMBER OF CYCLIST KILLED                           0.007138   \n",
              "NUMBER OF MOTORIST INJURED                        -0.005960   \n",
              "NUMBER OF MOTORIST KILLED                          0.001855   \n",
              "\n",
              "                               NUMBER OF CYCLIST INJURED  \\\n",
              "ZIP CODE                                       -0.043565   \n",
              "NUMBER OF PERSONS INJURED                       0.172252   \n",
              "NUMBER OF PERSONS KILLED                       -0.008134   \n",
              "NUMBER OF PEDESTRIANS INJURED                  -0.048689   \n",
              "NUMBER OF PEDESTRIANS KILLED                   -0.005014   \n",
              "NUMBER OF CYCLIST INJURED                       1.000000   \n",
              "NUMBER OF CYCLIST KILLED                        0.001271   \n",
              "NUMBER OF MOTORIST INJURED                     -0.090287   \n",
              "NUMBER OF MOTORIST KILLED                      -0.006994   \n",
              "\n",
              "                               NUMBER OF CYCLIST KILLED  \\\n",
              "ZIP CODE                                      -0.005343   \n",
              "NUMBER OF PERSONS INJURED                     -0.006451   \n",
              "NUMBER OF PERSONS KILLED                       0.275652   \n",
              "NUMBER OF PEDESTRIANS INJURED                 -0.002775   \n",
              "NUMBER OF PEDESTRIANS KILLED                   0.007138   \n",
              "NUMBER OF CYCLIST INJURED                      0.001271   \n",
              "NUMBER OF CYCLIST KILLED                       1.000000   \n",
              "NUMBER OF MOTORIST INJURED                    -0.005855   \n",
              "NUMBER OF MOTORIST KILLED                     -0.000457   \n",
              "\n",
              "                               NUMBER OF MOTORIST INJURED  \\\n",
              "ZIP CODE                                         0.039375   \n",
              "NUMBER OF PERSONS INJURED                        0.896959   \n",
              "NUMBER OF PERSONS KILLED                         0.011636   \n",
              "NUMBER OF PEDESTRIANS INJURED                   -0.097700   \n",
              "NUMBER OF PEDESTRIANS KILLED                    -0.005960   \n",
              "NUMBER OF CYCLIST INJURED                       -0.090287   \n",
              "NUMBER OF CYCLIST KILLED                        -0.005855   \n",
              "NUMBER OF MOTORIST INJURED                       1.000000   \n",
              "NUMBER OF MOTORIST KILLED                        0.024320   \n",
              "\n",
              "                               NUMBER OF MOTORIST KILLED  \n",
              "ZIP CODE                                        0.002624  \n",
              "NUMBER OF PERSONS INJURED                       0.018908  \n",
              "NUMBER OF PERSONS KILLED                        0.723797  \n",
              "NUMBER OF PEDESTRIANS INJURED                  -0.006324  \n",
              "NUMBER OF PEDESTRIANS KILLED                    0.001855  \n",
              "NUMBER OF CYCLIST INJURED                      -0.006994  \n",
              "NUMBER OF CYCLIST KILLED                       -0.000457  \n",
              "NUMBER OF MOTORIST INJURED                      0.024320  \n",
              "NUMBER OF MOTORIST KILLED                       1.000000  "
            ],
            "text/html": [
              "\n",
              "  <div id=\"df-8b408482-41b3-4818-b9af-e78103d356cc\" class=\"colab-df-container\">\n",
              "    <div>\n",
              "<style scoped>\n",
              "    .dataframe tbody tr th:only-of-type {\n",
              "        vertical-align: middle;\n",
              "    }\n",
              "\n",
              "    .dataframe tbody tr th {\n",
              "        vertical-align: top;\n",
              "    }\n",
              "\n",
              "    .dataframe thead th {\n",
              "        text-align: right;\n",
              "    }\n",
              "</style>\n",
              "<table border=\"1\" class=\"dataframe\">\n",
              "  <thead>\n",
              "    <tr style=\"text-align: right;\">\n",
              "      <th></th>\n",
              "      <th>ZIP CODE</th>\n",
              "      <th>NUMBER OF PERSONS INJURED</th>\n",
              "      <th>NUMBER OF PERSONS KILLED</th>\n",
              "      <th>NUMBER OF PEDESTRIANS INJURED</th>\n",
              "      <th>NUMBER OF PEDESTRIANS KILLED</th>\n",
              "      <th>NUMBER OF CYCLIST INJURED</th>\n",
              "      <th>NUMBER OF CYCLIST KILLED</th>\n",
              "      <th>NUMBER OF MOTORIST INJURED</th>\n",
              "      <th>NUMBER OF MOTORIST KILLED</th>\n",
              "    </tr>\n",
              "  </thead>\n",
              "  <tbody>\n",
              "    <tr>\n",
              "      <th>ZIP CODE</th>\n",
              "      <td>1.000000</td>\n",
              "      <td>0.014725</td>\n",
              "      <td>-0.001339</td>\n",
              "      <td>-0.022177</td>\n",
              "      <td>-0.001949</td>\n",
              "      <td>-0.043565</td>\n",
              "      <td>-0.005343</td>\n",
              "      <td>0.039375</td>\n",
              "      <td>0.002624</td>\n",
              "    </tr>\n",
              "    <tr>\n",
              "      <th>NUMBER OF PERSONS INJURED</th>\n",
              "      <td>0.014725</td>\n",
              "      <td>1.000000</td>\n",
              "      <td>0.007085</td>\n",
              "      <td>0.223426</td>\n",
              "      <td>-0.006465</td>\n",
              "      <td>0.172252</td>\n",
              "      <td>-0.006451</td>\n",
              "      <td>0.896959</td>\n",
              "      <td>0.018908</td>\n",
              "    </tr>\n",
              "    <tr>\n",
              "      <th>NUMBER OF PERSONS KILLED</th>\n",
              "      <td>-0.001339</td>\n",
              "      <td>0.007085</td>\n",
              "      <td>1.000000</td>\n",
              "      <td>-0.003592</td>\n",
              "      <td>0.609449</td>\n",
              "      <td>-0.008134</td>\n",
              "      <td>0.275652</td>\n",
              "      <td>0.011636</td>\n",
              "      <td>0.723797</td>\n",
              "    </tr>\n",
              "    <tr>\n",
              "      <th>NUMBER OF PEDESTRIANS INJURED</th>\n",
              "      <td>-0.022177</td>\n",
              "      <td>0.223426</td>\n",
              "      <td>-0.003592</td>\n",
              "      <td>1.000000</td>\n",
              "      <td>0.003590</td>\n",
              "      <td>-0.048689</td>\n",
              "      <td>-0.002775</td>\n",
              "      <td>-0.097700</td>\n",
              "      <td>-0.006324</td>\n",
              "    </tr>\n",
              "    <tr>\n",
              "      <th>NUMBER OF PEDESTRIANS KILLED</th>\n",
              "      <td>-0.001949</td>\n",
              "      <td>-0.006465</td>\n",
              "      <td>0.609449</td>\n",
              "      <td>0.003590</td>\n",
              "      <td>1.000000</td>\n",
              "      <td>-0.005014</td>\n",
              "      <td>0.007138</td>\n",
              "      <td>-0.005960</td>\n",
              "      <td>0.001855</td>\n",
              "    </tr>\n",
              "    <tr>\n",
              "      <th>NUMBER OF CYCLIST INJURED</th>\n",
              "      <td>-0.043565</td>\n",
              "      <td>0.172252</td>\n",
              "      <td>-0.008134</td>\n",
              "      <td>-0.048689</td>\n",
              "      <td>-0.005014</td>\n",
              "      <td>1.000000</td>\n",
              "      <td>0.001271</td>\n",
              "      <td>-0.090287</td>\n",
              "      <td>-0.006994</td>\n",
              "    </tr>\n",
              "    <tr>\n",
              "      <th>NUMBER OF CYCLIST KILLED</th>\n",
              "      <td>-0.005343</td>\n",
              "      <td>-0.006451</td>\n",
              "      <td>0.275652</td>\n",
              "      <td>-0.002775</td>\n",
              "      <td>0.007138</td>\n",
              "      <td>0.001271</td>\n",
              "      <td>1.000000</td>\n",
              "      <td>-0.005855</td>\n",
              "      <td>-0.000457</td>\n",
              "    </tr>\n",
              "    <tr>\n",
              "      <th>NUMBER OF MOTORIST INJURED</th>\n",
              "      <td>0.039375</td>\n",
              "      <td>0.896959</td>\n",
              "      <td>0.011636</td>\n",
              "      <td>-0.097700</td>\n",
              "      <td>-0.005960</td>\n",
              "      <td>-0.090287</td>\n",
              "      <td>-0.005855</td>\n",
              "      <td>1.000000</td>\n",
              "      <td>0.024320</td>\n",
              "    </tr>\n",
              "    <tr>\n",
              "      <th>NUMBER OF MOTORIST KILLED</th>\n",
              "      <td>0.002624</td>\n",
              "      <td>0.018908</td>\n",
              "      <td>0.723797</td>\n",
              "      <td>-0.006324</td>\n",
              "      <td>0.001855</td>\n",
              "      <td>-0.006994</td>\n",
              "      <td>-0.000457</td>\n",
              "      <td>0.024320</td>\n",
              "      <td>1.000000</td>\n",
              "    </tr>\n",
              "  </tbody>\n",
              "</table>\n",
              "</div>\n",
              "    <div class=\"colab-df-buttons\">\n",
              "\n",
              "  <div class=\"colab-df-container\">\n",
              "    <button class=\"colab-df-convert\" onclick=\"convertToInteractive('df-8b408482-41b3-4818-b9af-e78103d356cc')\"\n",
              "            title=\"Convert this dataframe to an interactive table.\"\n",
              "            style=\"display:none;\">\n",
              "\n",
              "  <svg xmlns=\"http://www.w3.org/2000/svg\" height=\"24px\" viewBox=\"0 -960 960 960\">\n",
              "    <path d=\"M120-120v-720h720v720H120Zm60-500h600v-160H180v160Zm220 220h160v-160H400v160Zm0 220h160v-160H400v160ZM180-400h160v-160H180v160Zm440 0h160v-160H620v160ZM180-180h160v-160H180v160Zm440 0h160v-160H620v160Z\"/>\n",
              "  </svg>\n",
              "    </button>\n",
              "\n",
              "  <style>\n",
              "    .colab-df-container {\n",
              "      display:flex;\n",
              "      gap: 12px;\n",
              "    }\n",
              "\n",
              "    .colab-df-convert {\n",
              "      background-color: #E8F0FE;\n",
              "      border: none;\n",
              "      border-radius: 50%;\n",
              "      cursor: pointer;\n",
              "      display: none;\n",
              "      fill: #1967D2;\n",
              "      height: 32px;\n",
              "      padding: 0 0 0 0;\n",
              "      width: 32px;\n",
              "    }\n",
              "\n",
              "    .colab-df-convert:hover {\n",
              "      background-color: #E2EBFA;\n",
              "      box-shadow: 0px 1px 2px rgba(60, 64, 67, 0.3), 0px 1px 3px 1px rgba(60, 64, 67, 0.15);\n",
              "      fill: #174EA6;\n",
              "    }\n",
              "\n",
              "    .colab-df-buttons div {\n",
              "      margin-bottom: 4px;\n",
              "    }\n",
              "\n",
              "    [theme=dark] .colab-df-convert {\n",
              "      background-color: #3B4455;\n",
              "      fill: #D2E3FC;\n",
              "    }\n",
              "\n",
              "    [theme=dark] .colab-df-convert:hover {\n",
              "      background-color: #434B5C;\n",
              "      box-shadow: 0px 1px 3px 1px rgba(0, 0, 0, 0.15);\n",
              "      filter: drop-shadow(0px 1px 2px rgba(0, 0, 0, 0.3));\n",
              "      fill: #FFFFFF;\n",
              "    }\n",
              "  </style>\n",
              "\n",
              "    <script>\n",
              "      const buttonEl =\n",
              "        document.querySelector('#df-8b408482-41b3-4818-b9af-e78103d356cc button.colab-df-convert');\n",
              "      buttonEl.style.display =\n",
              "        google.colab.kernel.accessAllowed ? 'block' : 'none';\n",
              "\n",
              "      async function convertToInteractive(key) {\n",
              "        const element = document.querySelector('#df-8b408482-41b3-4818-b9af-e78103d356cc');\n",
              "        const dataTable =\n",
              "          await google.colab.kernel.invokeFunction('convertToInteractive',\n",
              "                                                    [key], {});\n",
              "        if (!dataTable) return;\n",
              "\n",
              "        const docLinkHtml = 'Like what you see? Visit the ' +\n",
              "          '<a target=\"_blank\" href=https://colab.research.google.com/notebooks/data_table.ipynb>data table notebook</a>'\n",
              "          + ' to learn more about interactive tables.';\n",
              "        element.innerHTML = '';\n",
              "        dataTable['output_type'] = 'display_data';\n",
              "        await google.colab.output.renderOutput(dataTable, element);\n",
              "        const docLink = document.createElement('div');\n",
              "        docLink.innerHTML = docLinkHtml;\n",
              "        element.appendChild(docLink);\n",
              "      }\n",
              "    </script>\n",
              "  </div>\n",
              "\n",
              "\n",
              "<div id=\"df-6551a7aa-4e01-46ca-9c95-007b2f579a23\">\n",
              "  <button class=\"colab-df-quickchart\" onclick=\"quickchart('df-6551a7aa-4e01-46ca-9c95-007b2f579a23')\"\n",
              "            title=\"Suggest charts\"\n",
              "            style=\"display:none;\">\n",
              "\n",
              "<svg xmlns=\"http://www.w3.org/2000/svg\" height=\"24px\"viewBox=\"0 0 24 24\"\n",
              "     width=\"24px\">\n",
              "    <g>\n",
              "        <path d=\"M19 3H5c-1.1 0-2 .9-2 2v14c0 1.1.9 2 2 2h14c1.1 0 2-.9 2-2V5c0-1.1-.9-2-2-2zM9 17H7v-7h2v7zm4 0h-2V7h2v10zm4 0h-2v-4h2v4z\"/>\n",
              "    </g>\n",
              "</svg>\n",
              "  </button>\n",
              "\n",
              "<style>\n",
              "  .colab-df-quickchart {\n",
              "      --bg-color: #E8F0FE;\n",
              "      --fill-color: #1967D2;\n",
              "      --hover-bg-color: #E2EBFA;\n",
              "      --hover-fill-color: #174EA6;\n",
              "      --disabled-fill-color: #AAA;\n",
              "      --disabled-bg-color: #DDD;\n",
              "  }\n",
              "\n",
              "  [theme=dark] .colab-df-quickchart {\n",
              "      --bg-color: #3B4455;\n",
              "      --fill-color: #D2E3FC;\n",
              "      --hover-bg-color: #434B5C;\n",
              "      --hover-fill-color: #FFFFFF;\n",
              "      --disabled-bg-color: #3B4455;\n",
              "      --disabled-fill-color: #666;\n",
              "  }\n",
              "\n",
              "  .colab-df-quickchart {\n",
              "    background-color: var(--bg-color);\n",
              "    border: none;\n",
              "    border-radius: 50%;\n",
              "    cursor: pointer;\n",
              "    display: none;\n",
              "    fill: var(--fill-color);\n",
              "    height: 32px;\n",
              "    padding: 0;\n",
              "    width: 32px;\n",
              "  }\n",
              "\n",
              "  .colab-df-quickchart:hover {\n",
              "    background-color: var(--hover-bg-color);\n",
              "    box-shadow: 0 1px 2px rgba(60, 64, 67, 0.3), 0 1px 3px 1px rgba(60, 64, 67, 0.15);\n",
              "    fill: var(--button-hover-fill-color);\n",
              "  }\n",
              "\n",
              "  .colab-df-quickchart-complete:disabled,\n",
              "  .colab-df-quickchart-complete:disabled:hover {\n",
              "    background-color: var(--disabled-bg-color);\n",
              "    fill: var(--disabled-fill-color);\n",
              "    box-shadow: none;\n",
              "  }\n",
              "\n",
              "  .colab-df-spinner {\n",
              "    border: 2px solid var(--fill-color);\n",
              "    border-color: transparent;\n",
              "    border-bottom-color: var(--fill-color);\n",
              "    animation:\n",
              "      spin 1s steps(1) infinite;\n",
              "  }\n",
              "\n",
              "  @keyframes spin {\n",
              "    0% {\n",
              "      border-color: transparent;\n",
              "      border-bottom-color: var(--fill-color);\n",
              "      border-left-color: var(--fill-color);\n",
              "    }\n",
              "    20% {\n",
              "      border-color: transparent;\n",
              "      border-left-color: var(--fill-color);\n",
              "      border-top-color: var(--fill-color);\n",
              "    }\n",
              "    30% {\n",
              "      border-color: transparent;\n",
              "      border-left-color: var(--fill-color);\n",
              "      border-top-color: var(--fill-color);\n",
              "      border-right-color: var(--fill-color);\n",
              "    }\n",
              "    40% {\n",
              "      border-color: transparent;\n",
              "      border-right-color: var(--fill-color);\n",
              "      border-top-color: var(--fill-color);\n",
              "    }\n",
              "    60% {\n",
              "      border-color: transparent;\n",
              "      border-right-color: var(--fill-color);\n",
              "    }\n",
              "    80% {\n",
              "      border-color: transparent;\n",
              "      border-right-color: var(--fill-color);\n",
              "      border-bottom-color: var(--fill-color);\n",
              "    }\n",
              "    90% {\n",
              "      border-color: transparent;\n",
              "      border-bottom-color: var(--fill-color);\n",
              "    }\n",
              "  }\n",
              "</style>\n",
              "\n",
              "  <script>\n",
              "    async function quickchart(key) {\n",
              "      const quickchartButtonEl =\n",
              "        document.querySelector('#' + key + ' button');\n",
              "      quickchartButtonEl.disabled = true;  // To prevent multiple clicks.\n",
              "      quickchartButtonEl.classList.add('colab-df-spinner');\n",
              "      try {\n",
              "        const charts = await google.colab.kernel.invokeFunction(\n",
              "            'suggestCharts', [key], {});\n",
              "      } catch (error) {\n",
              "        console.error('Error during call to suggestCharts:', error);\n",
              "      }\n",
              "      quickchartButtonEl.classList.remove('colab-df-spinner');\n",
              "      quickchartButtonEl.classList.add('colab-df-quickchart-complete');\n",
              "    }\n",
              "    (() => {\n",
              "      let quickchartButtonEl =\n",
              "        document.querySelector('#df-6551a7aa-4e01-46ca-9c95-007b2f579a23 button');\n",
              "      quickchartButtonEl.style.display =\n",
              "        google.colab.kernel.accessAllowed ? 'block' : 'none';\n",
              "    })();\n",
              "  </script>\n",
              "</div>\n",
              "\n",
              "  <div id=\"id_afd7ed8d-53db-44ec-805b-451bccd4191d\">\n",
              "    <style>\n",
              "      .colab-df-generate {\n",
              "        background-color: #E8F0FE;\n",
              "        border: none;\n",
              "        border-radius: 50%;\n",
              "        cursor: pointer;\n",
              "        display: none;\n",
              "        fill: #1967D2;\n",
              "        height: 32px;\n",
              "        padding: 0 0 0 0;\n",
              "        width: 32px;\n",
              "      }\n",
              "\n",
              "      .colab-df-generate:hover {\n",
              "        background-color: #E2EBFA;\n",
              "        box-shadow: 0px 1px 2px rgba(60, 64, 67, 0.3), 0px 1px 3px 1px rgba(60, 64, 67, 0.15);\n",
              "        fill: #174EA6;\n",
              "      }\n",
              "\n",
              "      [theme=dark] .colab-df-generate {\n",
              "        background-color: #3B4455;\n",
              "        fill: #D2E3FC;\n",
              "      }\n",
              "\n",
              "      [theme=dark] .colab-df-generate:hover {\n",
              "        background-color: #434B5C;\n",
              "        box-shadow: 0px 1px 3px 1px rgba(0, 0, 0, 0.15);\n",
              "        filter: drop-shadow(0px 1px 2px rgba(0, 0, 0, 0.3));\n",
              "        fill: #FFFFFF;\n",
              "      }\n",
              "    </style>\n",
              "    <button class=\"colab-df-generate\" onclick=\"generateWithVariable('corr')\"\n",
              "            title=\"Generate code using this dataframe.\"\n",
              "            style=\"display:none;\">\n",
              "\n",
              "  <svg xmlns=\"http://www.w3.org/2000/svg\" height=\"24px\"viewBox=\"0 0 24 24\"\n",
              "       width=\"24px\">\n",
              "    <path d=\"M7,19H8.4L18.45,9,17,7.55,7,17.6ZM5,21V16.75L18.45,3.32a2,2,0,0,1,2.83,0l1.4,1.43a1.91,1.91,0,0,1,.58,1.4,1.91,1.91,0,0,1-.58,1.4L9.25,21ZM18.45,9,17,7.55Zm-12,3A5.31,5.31,0,0,0,4.9,8.1,5.31,5.31,0,0,0,1,6.5,5.31,5.31,0,0,0,4.9,4.9,5.31,5.31,0,0,0,6.5,1,5.31,5.31,0,0,0,8.1,4.9,5.31,5.31,0,0,0,12,6.5,5.46,5.46,0,0,0,6.5,12Z\"/>\n",
              "  </svg>\n",
              "    </button>\n",
              "    <script>\n",
              "      (() => {\n",
              "      const buttonEl =\n",
              "        document.querySelector('#id_afd7ed8d-53db-44ec-805b-451bccd4191d button.colab-df-generate');\n",
              "      buttonEl.style.display =\n",
              "        google.colab.kernel.accessAllowed ? 'block' : 'none';\n",
              "\n",
              "      buttonEl.onclick = () => {\n",
              "        google.colab.notebook.generateWithVariable('corr');\n",
              "      }\n",
              "      })();\n",
              "    </script>\n",
              "  </div>\n",
              "\n",
              "    </div>\n",
              "  </div>\n"
            ],
            "application/vnd.google.colaboratory.intrinsic+json": {
              "type": "dataframe",
              "variable_name": "corr",
              "summary": "{\n  \"name\": \"corr\",\n  \"rows\": 9,\n  \"fields\": [\n    {\n      \"column\": \"ZIP CODE\",\n      \"properties\": {\n        \"dtype\": \"number\",\n        \"std\": 0.3348459067580364,\n        \"min\": -0.043565115910112376,\n        \"max\": 1.0,\n        \"num_unique_values\": 9,\n        \"samples\": [\n          0.03937450226066672,\n          0.014725341458226092,\n          -0.043565115910112376\n        ],\n        \"semantic_type\": \"\",\n        \"description\": \"\"\n      }\n    },\n    {\n      \"column\": \"NUMBER OF PERSONS INJURED\",\n      \"properties\": {\n        \"dtype\": \"number\",\n        \"std\": 0.4010240986578441,\n        \"min\": -0.00646472365900999,\n        \"max\": 1.0,\n        \"num_unique_values\": 9,\n        \"samples\": [\n          0.8969594938748348,\n          1.0,\n          0.17225191876686208\n        ],\n        \"semantic_type\": \"\",\n        \"description\": \"\"\n      }\n    },\n    {\n      \"column\": \"NUMBER OF PERSONS KILLED\",\n      \"properties\": {\n        \"dtype\": \"number\",\n        \"std\": 0.3892328140854161,\n        \"min\": -0.008134364666970968,\n        \"max\": 1.0,\n        \"num_unique_values\": 9,\n        \"samples\": [\n          0.011636282267384574,\n          0.0070847462927866095,\n          -0.008134364666970968\n        ],\n        \"semantic_type\": \"\",\n        \"description\": \"\"\n      }\n    },\n    {\n      \"column\": \"NUMBER OF PEDESTRIANS INJURED\",\n      \"properties\": {\n        \"dtype\": \"number\",\n        \"std\": 0.342944559725836,\n        \"min\": -0.09769997190001803,\n        \"max\": 1.0,\n        \"num_unique_values\": 9,\n        \"samples\": [\n          -0.09769997190001803,\n          0.2234260620940078,\n          -0.04868873826911967\n        ],\n        \"semantic_type\": \"\",\n        \"description\": \"\"\n      }\n    },\n    {\n      \"column\": \"NUMBER OF PEDESTRIANS KILLED\",\n      \"properties\": {\n        \"dtype\": \"number\",\n        \"std\": 0.36847936282982086,\n        \"min\": -0.00646472365900999,\n        \"max\": 1.0,\n        \"num_unique_values\": 9,\n        \"samples\": [\n          -0.00596005088910035,\n          -0.00646472365900999,\n          -0.005014387044487337\n        ],\n        \"semantic_type\": \"\",\n        \"description\": \"\"\n      }\n    },\n    {\n      \"column\": \"NUMBER OF CYCLIST INJURED\",\n      \"properties\": {\n        \"dtype\": \"number\",\n        \"std\": 0.342327970197393,\n        \"min\": -0.09028732897138982,\n        \"max\": 1.0,\n        \"num_unique_values\": 9,\n        \"samples\": [\n          -0.09028732897138982,\n          0.17225191876686208,\n          1.0\n        ],\n        \"semantic_type\": \"\",\n        \"description\": \"\"\n      }\n    },\n    {\n      \"column\": \"NUMBER OF CYCLIST KILLED\",\n      \"properties\": {\n        \"dtype\": \"number\",\n        \"std\": 0.335197170083652,\n        \"min\": -0.006450569166098146,\n        \"max\": 1.0,\n        \"num_unique_values\": 9,\n        \"samples\": [\n          -0.005854604608591377,\n          -0.006450569166098146,\n          0.0012706713196179243\n        ],\n        \"semantic_type\": \"\",\n        \"description\": \"\"\n      }\n    },\n    {\n      \"column\": \"NUMBER OF MOTORIST INJURED\",\n      \"properties\": {\n        \"dtype\": \"number\",\n        \"std\": 0.42946201985739313,\n        \"min\": -0.09769997190001803,\n        \"max\": 1.0,\n        \"num_unique_values\": 9,\n        \"samples\": [\n          1.0,\n          0.8969594938748348,\n          -0.09028732897138982\n        ],\n        \"semantic_type\": \"\",\n        \"description\": \"\"\n      }\n    },\n    {\n      \"column\": \"NUMBER OF MOTORIST KILLED\",\n      \"properties\": {\n        \"dtype\": \"number\",\n        \"std\": 0.3843241191640041,\n        \"min\": -0.006993705586339907,\n        \"max\": 1.0,\n        \"num_unique_values\": 9,\n        \"samples\": [\n          0.024319986842806427,\n          0.018908283730442153,\n          -0.006993705586339907\n        ],\n        \"semantic_type\": \"\",\n        \"description\": \"\"\n      }\n    }\n  ]\n}"
            }
          },
          "metadata": {},
          "execution_count": 12
        }
      ]
    },
    {
      "cell_type": "markdown",
      "source": [
        "##### Relation between columns\n",
        "       no of persons injured - no of motorist injured ---> 0.9\n",
        "\n",
        "      no of persons killed - no of pedestrains killed ---> 0.68\n",
        "                             no of motorist killed ---> 0.66\n",
        "                             no of cyclist killed --->0.27"
      ],
      "metadata": {
        "id": "u-BG981Mf9sa"
      }
    },
    {
      "cell_type": "code",
      "source": [
        "df.head()"
      ],
      "metadata": {
        "execution": {
          "iopub.status.busy": "2024-04-20T12:06:57.616687Z",
          "iopub.execute_input": "2024-04-20T12:06:57.617295Z",
          "iopub.status.idle": "2024-04-20T12:06:57.638350Z",
          "shell.execute_reply.started": "2024-04-20T12:06:57.617267Z",
          "shell.execute_reply": "2024-04-20T12:06:57.637413Z"
        },
        "trusted": true,
        "colab": {
          "base_uri": "https://localhost:8080/",
          "height": 382
        },
        "id": "l5JS-Nsbf9sb",
        "outputId": "7bc4c484-4e72-44a0-e12a-8ecc96d74bbb"
      },
      "execution_count": 13,
      "outputs": [
        {
          "output_type": "execute_result",
          "data": {
            "text/plain": [
              "   CRASH DATE CRASH TIME   BOROUGH  ZIP CODE           ON STREET NAME  \\\n",
              "0  09/11/2021       2:39       NaN       NaN    WHITESTONE EXPRESSWAY   \n",
              "1  03/26/2022      11:45       NaN       NaN  QUEENSBORO BRIDGE UPPER   \n",
              "2  06/29/2022       6:55       NaN       NaN       THROGS NECK BRIDGE   \n",
              "3  09/11/2021       9:35  BROOKLYN   11208.0                      NaN   \n",
              "4  12/14/2021       8:13  BROOKLYN   11233.0          SARATOGA AVENUE   \n",
              "\n",
              "  CROSS STREET NAME  NUMBER OF PERSONS INJURED  NUMBER OF PERSONS KILLED  \\\n",
              "0         20 AVENUE                        2.0                         0   \n",
              "1               NaN                        1.0                         0   \n",
              "2               NaN                        0.0                         0   \n",
              "3               NaN                        0.0                         0   \n",
              "4    DECATUR STREET                        0.0                         0   \n",
              "\n",
              "   NUMBER OF PEDESTRIANS INJURED  NUMBER OF PEDESTRIANS KILLED  \\\n",
              "0                              0                             0   \n",
              "1                              0                             0   \n",
              "2                              0                             0   \n",
              "3                              0                             0   \n",
              "4                              0                             0   \n",
              "\n",
              "   NUMBER OF CYCLIST INJURED  NUMBER OF CYCLIST KILLED  \\\n",
              "0                          0                         0   \n",
              "1                          0                         0   \n",
              "2                          0                         0   \n",
              "3                          0                         0   \n",
              "4                          0                         0   \n",
              "\n",
              "   NUMBER OF MOTORIST INJURED  NUMBER OF MOTORIST KILLED  \\\n",
              "0                           2                          0   \n",
              "1                           1                          0   \n",
              "2                           0                          0   \n",
              "3                           0                          0   \n",
              "4                           0                          0   \n",
              "\n",
              "  CONTRIBUTING FACTOR VEHICLE 1 CONTRIBUTING FACTOR VEHICLE 2  \\\n",
              "0  Aggressive Driving/Road Rage                   Unspecified   \n",
              "1             Pavement Slippery                           NaN   \n",
              "2         Following Too Closely                   Unspecified   \n",
              "3                   Unspecified                           NaN   \n",
              "4                           NaN                           NaN   \n",
              "\n",
              "  VEHICLE TYPE CODE 1 VEHICLE TYPE CODE 2  \n",
              "0               Sedan               Sedan  \n",
              "1               Sedan                 NaN  \n",
              "2               Sedan       Pick-up Truck  \n",
              "3               Sedan                 NaN  \n",
              "4                 NaN                 NaN  "
            ],
            "text/html": [
              "\n",
              "  <div id=\"df-82fae615-e544-40c1-b888-5da34c07461a\" class=\"colab-df-container\">\n",
              "    <div>\n",
              "<style scoped>\n",
              "    .dataframe tbody tr th:only-of-type {\n",
              "        vertical-align: middle;\n",
              "    }\n",
              "\n",
              "    .dataframe tbody tr th {\n",
              "        vertical-align: top;\n",
              "    }\n",
              "\n",
              "    .dataframe thead th {\n",
              "        text-align: right;\n",
              "    }\n",
              "</style>\n",
              "<table border=\"1\" class=\"dataframe\">\n",
              "  <thead>\n",
              "    <tr style=\"text-align: right;\">\n",
              "      <th></th>\n",
              "      <th>CRASH DATE</th>\n",
              "      <th>CRASH TIME</th>\n",
              "      <th>BOROUGH</th>\n",
              "      <th>ZIP CODE</th>\n",
              "      <th>ON STREET NAME</th>\n",
              "      <th>CROSS STREET NAME</th>\n",
              "      <th>NUMBER OF PERSONS INJURED</th>\n",
              "      <th>NUMBER OF PERSONS KILLED</th>\n",
              "      <th>NUMBER OF PEDESTRIANS INJURED</th>\n",
              "      <th>NUMBER OF PEDESTRIANS KILLED</th>\n",
              "      <th>NUMBER OF CYCLIST INJURED</th>\n",
              "      <th>NUMBER OF CYCLIST KILLED</th>\n",
              "      <th>NUMBER OF MOTORIST INJURED</th>\n",
              "      <th>NUMBER OF MOTORIST KILLED</th>\n",
              "      <th>CONTRIBUTING FACTOR VEHICLE 1</th>\n",
              "      <th>CONTRIBUTING FACTOR VEHICLE 2</th>\n",
              "      <th>VEHICLE TYPE CODE 1</th>\n",
              "      <th>VEHICLE TYPE CODE 2</th>\n",
              "    </tr>\n",
              "  </thead>\n",
              "  <tbody>\n",
              "    <tr>\n",
              "      <th>0</th>\n",
              "      <td>09/11/2021</td>\n",
              "      <td>2:39</td>\n",
              "      <td>NaN</td>\n",
              "      <td>NaN</td>\n",
              "      <td>WHITESTONE EXPRESSWAY</td>\n",
              "      <td>20 AVENUE</td>\n",
              "      <td>2.0</td>\n",
              "      <td>0</td>\n",
              "      <td>0</td>\n",
              "      <td>0</td>\n",
              "      <td>0</td>\n",
              "      <td>0</td>\n",
              "      <td>2</td>\n",
              "      <td>0</td>\n",
              "      <td>Aggressive Driving/Road Rage</td>\n",
              "      <td>Unspecified</td>\n",
              "      <td>Sedan</td>\n",
              "      <td>Sedan</td>\n",
              "    </tr>\n",
              "    <tr>\n",
              "      <th>1</th>\n",
              "      <td>03/26/2022</td>\n",
              "      <td>11:45</td>\n",
              "      <td>NaN</td>\n",
              "      <td>NaN</td>\n",
              "      <td>QUEENSBORO BRIDGE UPPER</td>\n",
              "      <td>NaN</td>\n",
              "      <td>1.0</td>\n",
              "      <td>0</td>\n",
              "      <td>0</td>\n",
              "      <td>0</td>\n",
              "      <td>0</td>\n",
              "      <td>0</td>\n",
              "      <td>1</td>\n",
              "      <td>0</td>\n",
              "      <td>Pavement Slippery</td>\n",
              "      <td>NaN</td>\n",
              "      <td>Sedan</td>\n",
              "      <td>NaN</td>\n",
              "    </tr>\n",
              "    <tr>\n",
              "      <th>2</th>\n",
              "      <td>06/29/2022</td>\n",
              "      <td>6:55</td>\n",
              "      <td>NaN</td>\n",
              "      <td>NaN</td>\n",
              "      <td>THROGS NECK BRIDGE</td>\n",
              "      <td>NaN</td>\n",
              "      <td>0.0</td>\n",
              "      <td>0</td>\n",
              "      <td>0</td>\n",
              "      <td>0</td>\n",
              "      <td>0</td>\n",
              "      <td>0</td>\n",
              "      <td>0</td>\n",
              "      <td>0</td>\n",
              "      <td>Following Too Closely</td>\n",
              "      <td>Unspecified</td>\n",
              "      <td>Sedan</td>\n",
              "      <td>Pick-up Truck</td>\n",
              "    </tr>\n",
              "    <tr>\n",
              "      <th>3</th>\n",
              "      <td>09/11/2021</td>\n",
              "      <td>9:35</td>\n",
              "      <td>BROOKLYN</td>\n",
              "      <td>11208.0</td>\n",
              "      <td>NaN</td>\n",
              "      <td>NaN</td>\n",
              "      <td>0.0</td>\n",
              "      <td>0</td>\n",
              "      <td>0</td>\n",
              "      <td>0</td>\n",
              "      <td>0</td>\n",
              "      <td>0</td>\n",
              "      <td>0</td>\n",
              "      <td>0</td>\n",
              "      <td>Unspecified</td>\n",
              "      <td>NaN</td>\n",
              "      <td>Sedan</td>\n",
              "      <td>NaN</td>\n",
              "    </tr>\n",
              "    <tr>\n",
              "      <th>4</th>\n",
              "      <td>12/14/2021</td>\n",
              "      <td>8:13</td>\n",
              "      <td>BROOKLYN</td>\n",
              "      <td>11233.0</td>\n",
              "      <td>SARATOGA AVENUE</td>\n",
              "      <td>DECATUR STREET</td>\n",
              "      <td>0.0</td>\n",
              "      <td>0</td>\n",
              "      <td>0</td>\n",
              "      <td>0</td>\n",
              "      <td>0</td>\n",
              "      <td>0</td>\n",
              "      <td>0</td>\n",
              "      <td>0</td>\n",
              "      <td>NaN</td>\n",
              "      <td>NaN</td>\n",
              "      <td>NaN</td>\n",
              "      <td>NaN</td>\n",
              "    </tr>\n",
              "  </tbody>\n",
              "</table>\n",
              "</div>\n",
              "    <div class=\"colab-df-buttons\">\n",
              "\n",
              "  <div class=\"colab-df-container\">\n",
              "    <button class=\"colab-df-convert\" onclick=\"convertToInteractive('df-82fae615-e544-40c1-b888-5da34c07461a')\"\n",
              "            title=\"Convert this dataframe to an interactive table.\"\n",
              "            style=\"display:none;\">\n",
              "\n",
              "  <svg xmlns=\"http://www.w3.org/2000/svg\" height=\"24px\" viewBox=\"0 -960 960 960\">\n",
              "    <path d=\"M120-120v-720h720v720H120Zm60-500h600v-160H180v160Zm220 220h160v-160H400v160Zm0 220h160v-160H400v160ZM180-400h160v-160H180v160Zm440 0h160v-160H620v160ZM180-180h160v-160H180v160Zm440 0h160v-160H620v160Z\"/>\n",
              "  </svg>\n",
              "    </button>\n",
              "\n",
              "  <style>\n",
              "    .colab-df-container {\n",
              "      display:flex;\n",
              "      gap: 12px;\n",
              "    }\n",
              "\n",
              "    .colab-df-convert {\n",
              "      background-color: #E8F0FE;\n",
              "      border: none;\n",
              "      border-radius: 50%;\n",
              "      cursor: pointer;\n",
              "      display: none;\n",
              "      fill: #1967D2;\n",
              "      height: 32px;\n",
              "      padding: 0 0 0 0;\n",
              "      width: 32px;\n",
              "    }\n",
              "\n",
              "    .colab-df-convert:hover {\n",
              "      background-color: #E2EBFA;\n",
              "      box-shadow: 0px 1px 2px rgba(60, 64, 67, 0.3), 0px 1px 3px 1px rgba(60, 64, 67, 0.15);\n",
              "      fill: #174EA6;\n",
              "    }\n",
              "\n",
              "    .colab-df-buttons div {\n",
              "      margin-bottom: 4px;\n",
              "    }\n",
              "\n",
              "    [theme=dark] .colab-df-convert {\n",
              "      background-color: #3B4455;\n",
              "      fill: #D2E3FC;\n",
              "    }\n",
              "\n",
              "    [theme=dark] .colab-df-convert:hover {\n",
              "      background-color: #434B5C;\n",
              "      box-shadow: 0px 1px 3px 1px rgba(0, 0, 0, 0.15);\n",
              "      filter: drop-shadow(0px 1px 2px rgba(0, 0, 0, 0.3));\n",
              "      fill: #FFFFFF;\n",
              "    }\n",
              "  </style>\n",
              "\n",
              "    <script>\n",
              "      const buttonEl =\n",
              "        document.querySelector('#df-82fae615-e544-40c1-b888-5da34c07461a button.colab-df-convert');\n",
              "      buttonEl.style.display =\n",
              "        google.colab.kernel.accessAllowed ? 'block' : 'none';\n",
              "\n",
              "      async function convertToInteractive(key) {\n",
              "        const element = document.querySelector('#df-82fae615-e544-40c1-b888-5da34c07461a');\n",
              "        const dataTable =\n",
              "          await google.colab.kernel.invokeFunction('convertToInteractive',\n",
              "                                                    [key], {});\n",
              "        if (!dataTable) return;\n",
              "\n",
              "        const docLinkHtml = 'Like what you see? Visit the ' +\n",
              "          '<a target=\"_blank\" href=https://colab.research.google.com/notebooks/data_table.ipynb>data table notebook</a>'\n",
              "          + ' to learn more about interactive tables.';\n",
              "        element.innerHTML = '';\n",
              "        dataTable['output_type'] = 'display_data';\n",
              "        await google.colab.output.renderOutput(dataTable, element);\n",
              "        const docLink = document.createElement('div');\n",
              "        docLink.innerHTML = docLinkHtml;\n",
              "        element.appendChild(docLink);\n",
              "      }\n",
              "    </script>\n",
              "  </div>\n",
              "\n",
              "\n",
              "<div id=\"df-08eaa371-3d37-46e8-9409-5f118d5d107c\">\n",
              "  <button class=\"colab-df-quickchart\" onclick=\"quickchart('df-08eaa371-3d37-46e8-9409-5f118d5d107c')\"\n",
              "            title=\"Suggest charts\"\n",
              "            style=\"display:none;\">\n",
              "\n",
              "<svg xmlns=\"http://www.w3.org/2000/svg\" height=\"24px\"viewBox=\"0 0 24 24\"\n",
              "     width=\"24px\">\n",
              "    <g>\n",
              "        <path d=\"M19 3H5c-1.1 0-2 .9-2 2v14c0 1.1.9 2 2 2h14c1.1 0 2-.9 2-2V5c0-1.1-.9-2-2-2zM9 17H7v-7h2v7zm4 0h-2V7h2v10zm4 0h-2v-4h2v4z\"/>\n",
              "    </g>\n",
              "</svg>\n",
              "  </button>\n",
              "\n",
              "<style>\n",
              "  .colab-df-quickchart {\n",
              "      --bg-color: #E8F0FE;\n",
              "      --fill-color: #1967D2;\n",
              "      --hover-bg-color: #E2EBFA;\n",
              "      --hover-fill-color: #174EA6;\n",
              "      --disabled-fill-color: #AAA;\n",
              "      --disabled-bg-color: #DDD;\n",
              "  }\n",
              "\n",
              "  [theme=dark] .colab-df-quickchart {\n",
              "      --bg-color: #3B4455;\n",
              "      --fill-color: #D2E3FC;\n",
              "      --hover-bg-color: #434B5C;\n",
              "      --hover-fill-color: #FFFFFF;\n",
              "      --disabled-bg-color: #3B4455;\n",
              "      --disabled-fill-color: #666;\n",
              "  }\n",
              "\n",
              "  .colab-df-quickchart {\n",
              "    background-color: var(--bg-color);\n",
              "    border: none;\n",
              "    border-radius: 50%;\n",
              "    cursor: pointer;\n",
              "    display: none;\n",
              "    fill: var(--fill-color);\n",
              "    height: 32px;\n",
              "    padding: 0;\n",
              "    width: 32px;\n",
              "  }\n",
              "\n",
              "  .colab-df-quickchart:hover {\n",
              "    background-color: var(--hover-bg-color);\n",
              "    box-shadow: 0 1px 2px rgba(60, 64, 67, 0.3), 0 1px 3px 1px rgba(60, 64, 67, 0.15);\n",
              "    fill: var(--button-hover-fill-color);\n",
              "  }\n",
              "\n",
              "  .colab-df-quickchart-complete:disabled,\n",
              "  .colab-df-quickchart-complete:disabled:hover {\n",
              "    background-color: var(--disabled-bg-color);\n",
              "    fill: var(--disabled-fill-color);\n",
              "    box-shadow: none;\n",
              "  }\n",
              "\n",
              "  .colab-df-spinner {\n",
              "    border: 2px solid var(--fill-color);\n",
              "    border-color: transparent;\n",
              "    border-bottom-color: var(--fill-color);\n",
              "    animation:\n",
              "      spin 1s steps(1) infinite;\n",
              "  }\n",
              "\n",
              "  @keyframes spin {\n",
              "    0% {\n",
              "      border-color: transparent;\n",
              "      border-bottom-color: var(--fill-color);\n",
              "      border-left-color: var(--fill-color);\n",
              "    }\n",
              "    20% {\n",
              "      border-color: transparent;\n",
              "      border-left-color: var(--fill-color);\n",
              "      border-top-color: var(--fill-color);\n",
              "    }\n",
              "    30% {\n",
              "      border-color: transparent;\n",
              "      border-left-color: var(--fill-color);\n",
              "      border-top-color: var(--fill-color);\n",
              "      border-right-color: var(--fill-color);\n",
              "    }\n",
              "    40% {\n",
              "      border-color: transparent;\n",
              "      border-right-color: var(--fill-color);\n",
              "      border-top-color: var(--fill-color);\n",
              "    }\n",
              "    60% {\n",
              "      border-color: transparent;\n",
              "      border-right-color: var(--fill-color);\n",
              "    }\n",
              "    80% {\n",
              "      border-color: transparent;\n",
              "      border-right-color: var(--fill-color);\n",
              "      border-bottom-color: var(--fill-color);\n",
              "    }\n",
              "    90% {\n",
              "      border-color: transparent;\n",
              "      border-bottom-color: var(--fill-color);\n",
              "    }\n",
              "  }\n",
              "</style>\n",
              "\n",
              "  <script>\n",
              "    async function quickchart(key) {\n",
              "      const quickchartButtonEl =\n",
              "        document.querySelector('#' + key + ' button');\n",
              "      quickchartButtonEl.disabled = true;  // To prevent multiple clicks.\n",
              "      quickchartButtonEl.classList.add('colab-df-spinner');\n",
              "      try {\n",
              "        const charts = await google.colab.kernel.invokeFunction(\n",
              "            'suggestCharts', [key], {});\n",
              "      } catch (error) {\n",
              "        console.error('Error during call to suggestCharts:', error);\n",
              "      }\n",
              "      quickchartButtonEl.classList.remove('colab-df-spinner');\n",
              "      quickchartButtonEl.classList.add('colab-df-quickchart-complete');\n",
              "    }\n",
              "    (() => {\n",
              "      let quickchartButtonEl =\n",
              "        document.querySelector('#df-08eaa371-3d37-46e8-9409-5f118d5d107c button');\n",
              "      quickchartButtonEl.style.display =\n",
              "        google.colab.kernel.accessAllowed ? 'block' : 'none';\n",
              "    })();\n",
              "  </script>\n",
              "</div>\n",
              "\n",
              "    </div>\n",
              "  </div>\n"
            ],
            "application/vnd.google.colaboratory.intrinsic+json": {
              "type": "dataframe",
              "variable_name": "df"
            }
          },
          "metadata": {},
          "execution_count": 13
        }
      ]
    },
    {
      "cell_type": "markdown",
      "source": [
        "## Univariate"
      ],
      "metadata": {
        "id": "kZE7TQoAf9sb"
      }
    },
    {
      "cell_type": "code",
      "source": [
        "import matplotlib.pyplot as plt\n",
        "import seaborn as sns"
      ],
      "metadata": {
        "execution": {
          "iopub.status.busy": "2024-04-20T12:07:00.762565Z",
          "iopub.execute_input": "2024-04-20T12:07:00.762918Z",
          "iopub.status.idle": "2024-04-20T12:07:02.134118Z",
          "shell.execute_reply.started": "2024-04-20T12:07:00.762891Z",
          "shell.execute_reply": "2024-04-20T12:07:02.133145Z"
        },
        "trusted": true,
        "id": "KMatJJZCf9sb"
      },
      "execution_count": 14,
      "outputs": []
    },
    {
      "cell_type": "markdown",
      "source": [
        "### Continuous Columns\n",
        "\n",
        "#### Box plot and Hist plot"
      ],
      "metadata": {
        "id": "rn5-GvUef9sc"
      }
    },
    {
      "cell_type": "code",
      "source": [
        "def cont_visua(col):\n",
        "    fig,ax=plt.subplots(ncols=2,nrows=1,figsize=(10,4))\n",
        "    sns.boxplot(data=df,x=col,ax=ax[0])\n",
        "    sns.histplot(data=df,x=col,kde=True,bins=20,ax=ax[1])\n",
        "    plt.subplots_adjust(wspace=0.6)\n",
        "\n",
        "cont_visua('NUMBER OF PERSONS INJURED')\n",
        "cont_visua('NUMBER OF PERSONS KILLED')\n",
        "cont_visua('NUMBER OF PEDESTRIANS INJURED')\n",
        "cont_visua('NUMBER OF PEDESTRIANS KILLED')\n",
        "cont_visua('NUMBER OF CYCLIST INJURED')\n",
        "cont_visua('NUMBER OF CYCLIST KILLED')\n",
        "cont_visua('NUMBER OF MOTORIST INJURED')\n",
        "cont_visua('NUMBER OF MOTORIST KILLED')\n"
      ],
      "metadata": {
        "execution": {
          "iopub.status.busy": "2024-04-20T12:07:02.382206Z",
          "iopub.execute_input": "2024-04-20T12:07:02.383209Z",
          "iopub.status.idle": "2024-04-20T12:08:11.230004Z",
          "shell.execute_reply.started": "2024-04-20T12:07:02.383176Z",
          "shell.execute_reply": "2024-04-20T12:08:11.228829Z"
        },
        "trusted": true,
        "colab": {
          "base_uri": "https://localhost:8080/",
          "height": 1000
        },
        "id": "i2JD2cVWf9sc",
        "outputId": "47961cc3-a47f-472a-b9c6-d116b3faabc2"
      },
      "execution_count": 15,
      "outputs": [
        {
          "output_type": "display_data",
          "data": {
            "text/plain": [
              "<Figure size 1000x400 with 2 Axes>"
            ],
            "image/png": "[encoded data removed]"
          },
          "metadata": {}
        },
        {
          "output_type": "display_data",
          "data": {
            "text/plain": [
              "<Figure size 1000x400 with 2 Axes>"
            ],
            "image/png": "[encoded data removed]"
          },
          "metadata": {}
        },
        {
          "output_type": "display_data",
          "data": {
            "text/plain": [
              "<Figure size 1000x400 with 2 Axes>"
            ],
            "image/png": "[encoded data removed]"
          },
          "metadata": {}
        },
        {
          "output_type": "display_data",
          "data": {
            "text/plain": [
              "<Figure size 1000x400 with 2 Axes>"
            ],
            "image/png": "[encoded data removed]"
          },
          "metadata": {}
        },
        {
          "output_type": "display_data",
          "data": {
            "text/plain": [
              "<Figure size 1000x400 with 2 Axes>"
            ],
            "image/png": "[encoded data removed]"
          },
          "metadata": {}
        },
        {
          "output_type": "display_data",
          "data": {
            "text/plain": [
              "<Figure size 1000x400 with 2 Axes>"
            ],
            "image/png": "[encoded data removed]"
          },
          "metadata": {}
        },
        {
          "output_type": "display_data",
          "data": {
            "text/plain": [
              "<Figure size 1000x400 with 2 Axes>"
            ],
            "image/png": "[encoded data removed]"
          },
          "metadata": {}
        },
        {
          "output_type": "display_data",
          "data": {
            "text/plain": [
              "<Figure size 1000x400 with 2 Axes>"
            ],
            "image/png": "[encoded data removed]"
          },
          "metadata": {}
        }
      ]
    },
    {
      "cell_type": "markdown",
      "source": [
        "  Continuous columns are zero and remaining are seems to be outliers,those outliers are important to this data so we can't remove them"
      ],
      "metadata": {
        "id": "woZ4ZQdqf9sd"
      }
    },
    {
      "cell_type": "code",
      "source": [
        "# cat = df.select_dtypes(include='object')\n",
        "# cat"
      ],
      "metadata": {
        "execution": {
          "iopub.status.busy": "2024-04-20T12:08:11.231505Z",
          "iopub.execute_input": "2024-04-20T12:08:11.231826Z",
          "iopub.status.idle": "2024-04-20T12:08:11.235897Z",
          "shell.execute_reply.started": "2024-04-20T12:08:11.231800Z",
          "shell.execute_reply": "2024-04-20T12:08:11.234960Z"
        },
        "trusted": true,
        "id": "5LTqL5FDf9sd"
      },
      "execution_count": 16,
      "outputs": []
    },
    {
      "cell_type": "markdown",
      "source": [
        "### Converting 'CRASH DATE' and \"CRASH TIME' columns into datetime columns"
      ],
      "metadata": {
        "id": "4ipFh4dqf9se"
      }
    },
    {
      "cell_type": "code",
      "source": [
        "df['CRASH DATE']=pd.to_datetime(df['CRASH DATE'])\n",
        "df['YEAR']=df['CRASH DATE'].dt.year\n",
        "df['MONTH']=df['CRASH DATE'].dt.month\n",
        "df['DAY']=df['CRASH DATE'].dt.day\n"
      ],
      "metadata": {
        "execution": {
          "iopub.status.busy": "2024-04-20T12:08:53.756619Z",
          "iopub.execute_input": "2024-04-20T12:08:53.756996Z",
          "iopub.status.idle": "2024-04-20T12:08:54.318238Z",
          "shell.execute_reply.started": "2024-04-20T12:08:53.756966Z",
          "shell.execute_reply": "2024-04-20T12:08:54.317159Z"
        },
        "trusted": true,
        "id": "FdRM3yikf9se"
      },
      "execution_count": 17,
      "outputs": []
    },
    {
      "cell_type": "code",
      "source": [
        "df['CRASH TIME']=pd.to_datetime(df['CRASH TIME'])\n",
        "df['HOUR']=df['CRASH TIME'].dt.hour"
      ],
      "metadata": {
        "execution": {
          "iopub.status.busy": "2024-04-20T12:08:56.876891Z",
          "iopub.execute_input": "2024-04-20T12:08:56.877257Z",
          "iopub.status.idle": "2024-04-20T12:08:57.364768Z",
          "shell.execute_reply.started": "2024-04-20T12:08:56.877222Z",
          "shell.execute_reply": "2024-04-20T12:08:57.363774Z"
        },
        "trusted": true,
        "colab": {
          "base_uri": "https://localhost:8080/"
        },
        "id": "59Qwi8x7f9se",
        "outputId": "9ea69375-2b3e-417a-b770-f301b261f23e"
      },
      "execution_count": 18,
      "outputs": [
        {
          "output_type": "stream",
          "name": "stderr",
          "text": [
            "<ipython-input-18-c393f5e5aebd>:1: UserWarning: Could not infer format, so each element will be parsed individually, falling back to `dateutil`. To ensure parsing is consistent and as-expected, please specify a format.\n",
            "  df['CRASH TIME']=pd.to_datetime(df['CRASH TIME'])\n"
          ]
        }
      ]
    },
    {
      "cell_type": "code",
      "source": [
        "df.shape"
      ],
      "metadata": {
        "execution": {
          "iopub.status.busy": "2024-04-20T12:08:58.537001Z",
          "iopub.execute_input": "2024-04-20T12:08:58.537686Z",
          "iopub.status.idle": "2024-04-20T12:08:58.543720Z",
          "shell.execute_reply.started": "2024-04-20T12:08:58.537654Z",
          "shell.execute_reply": "2024-04-20T12:08:58.542757Z"
        },
        "trusted": true,
        "colab": {
          "base_uri": "https://localhost:8080/"
        },
        "id": "RHNM3hn8f9sf",
        "outputId": "e42ef8c0-dc8b-40a7-a07c-576f91d39d8f"
      },
      "execution_count": 19,
      "outputs": [
        {
          "output_type": "execute_result",
          "data": {
            "text/plain": [
              "(281177, 22)"
            ]
          },
          "metadata": {},
          "execution_count": 19
        }
      ]
    },
    {
      "cell_type": "code",
      "source": [
        "ax=sns.countplot(x='BOROUGH', data=df)\n",
        "for i in ax.containers:\n",
        "    ax.bar_label(i,fmt=\"%.f\")"
      ],
      "metadata": {
        "execution": {
          "iopub.status.busy": "2024-04-20T12:09:00.187877Z",
          "iopub.execute_input": "2024-04-20T12:09:00.188608Z",
          "iopub.status.idle": "2024-04-20T12:09:02.519031Z",
          "shell.execute_reply.started": "2024-04-20T12:09:00.188578Z",
          "shell.execute_reply": "2024-04-20T12:09:02.518046Z"
        },
        "trusted": true,
        "colab": {
          "base_uri": "https://localhost:8080/",
          "height": 449
        },
        "id": "pEJCijiVf9sg",
        "outputId": "1a09a555-2f69-4f82-8ed1-c9a9537446a2"
      },
      "execution_count": 20,
      "outputs": [
        {
          "output_type": "display_data",
          "data": {
            "text/plain": [
              "<Figure size 640x480 with 1 Axes>"
            ],
            "image/png": "[encoded data removed]"
          },
          "metadata": {}
        }
      ]
    },
    {
      "cell_type": "markdown",
      "source": [
        "more accidents occured in BROOKLYN , QUEENS , and MANHATTAN BOROUGH island compared to BRONX and STATEN ISLAND"
      ],
      "metadata": {
        "id": "d-3fpLYxf9sg"
      }
    },
    {
      "cell_type": "markdown",
      "source": [
        "### **Plot countplots for each variable**\n",
        "### **Create a 2x2 grid of subplots**"
      ],
      "metadata": {
        "id": "mlsJcyaCf9sh"
      }
    },
    {
      "cell_type": "code",
      "source": [
        "import matplotlib.pyplot as plt\n",
        "import seaborn as sns\n",
        "\n",
        "fig, axes = plt.subplots(2,2, figsize=(18, 10))\n",
        "\n",
        "sns.countplot(x='YEAR', data=df, ax=axes[0, 0])\n",
        "sns.countplot(x='MONTH', data=df, ax=axes[0,1])\n",
        "sns.countplot(x='DAY', data=df, ax=axes[1, 0])\n",
        "sns.countplot(x='HOUR', data=df, ax=axes[1,1])\n",
        "\n",
        "\n",
        "# Adjust layout\n",
        "plt.tight_layout()\n",
        "\n",
        "# Show plot\n",
        "plt.show()\n"
      ],
      "metadata": {
        "execution": {
          "iopub.status.busy": "2024-04-20T12:09:08.482712Z",
          "iopub.execute_input": "2024-04-20T12:09:08.483437Z",
          "iopub.status.idle": "2024-04-20T12:09:10.426576Z",
          "shell.execute_reply.started": "2024-04-20T12:09:08.483404Z",
          "shell.execute_reply": "2024-04-20T12:09:10.425553Z"
        },
        "trusted": true,
        "colab": {
          "base_uri": "https://localhost:8080/",
          "height": 554
        },
        "id": "XhThh8H-f9sh",
        "outputId": "efa9e70b-d283-422b-cc0d-f7a06069403d"
      },
      "execution_count": 21,
      "outputs": [
        {
          "output_type": "display_data",
          "data": {
            "text/plain": [
              "<Figure size 1800x1000 with 4 Axes>"
            ],
            "image/png": "[encoded data removed]"
          },
          "metadata": {}
        }
      ]
    },
    {
      "cell_type": "markdown",
      "source": [
        "Year-->from 2013 to 2019 more accidents occured**\n",
        "\n",
        "Hour-->from 9:00 to 19:00 more accidents occured**"
      ],
      "metadata": {
        "id": "ZBIabAuLf9si"
      }
    },
    {
      "cell_type": "code",
      "source": [
        "top_20_cat=df['CONTRIBUTING FACTOR VEHICLE 1'].value_counts().nlargest(20).index.tolist()\n",
        "top_20_cat"
      ],
      "metadata": {
        "execution": {
          "iopub.status.busy": "2024-04-20T12:09:15.347428Z",
          "iopub.execute_input": "2024-04-20T12:09:15.347811Z",
          "iopub.status.idle": "2024-04-20T12:09:15.704365Z",
          "shell.execute_reply.started": "2024-04-20T12:09:15.347781Z",
          "shell.execute_reply": "2024-04-20T12:09:15.703365Z"
        },
        "trusted": true,
        "colab": {
          "base_uri": "https://localhost:8080/"
        },
        "id": "QuNKg2qAf9tE",
        "outputId": "b8a3091c-f6d7-4eeb-d104-de6ac82cb974"
      },
      "execution_count": 22,
      "outputs": [
        {
          "output_type": "execute_result",
          "data": {
            "text/plain": [
              "['Unspecified',\n",
              " 'Driver Inattention/Distraction',\n",
              " 'Following Too Closely',\n",
              " 'Failure to Yield Right-of-Way',\n",
              " 'Passing or Lane Usage Improper',\n",
              " 'Passing Too Closely',\n",
              " 'Unsafe Speed',\n",
              " 'Backing Unsafely',\n",
              " 'Other Vehicular',\n",
              " 'Traffic Control Disregarded',\n",
              " 'Unsafe Lane Changing',\n",
              " 'Turning Improperly',\n",
              " 'Driver Inexperience',\n",
              " 'Alcohol Involvement',\n",
              " 'Reaction to Uninvolved Vehicle',\n",
              " 'Pavement Slippery',\n",
              " 'Pedestrian/Bicyclist/Other Pedestrian Error/Confusion',\n",
              " 'View Obstructed/Limited',\n",
              " 'Aggressive Driving/Road Rage',\n",
              " 'Oversized Vehicle']"
            ]
          },
          "metadata": {},
          "execution_count": 22
        }
      ]
    },
    {
      "cell_type": "code",
      "source": [
        "df1 = df[df['CONTRIBUTING FACTOR VEHICLE 1'].isin(top_20_cat)]\n",
        "df1.shape"
      ],
      "metadata": {
        "execution": {
          "iopub.status.busy": "2024-04-20T12:09:16.512052Z",
          "iopub.execute_input": "2024-04-20T12:09:16.512452Z",
          "iopub.status.idle": "2024-04-20T12:09:16.947440Z",
          "shell.execute_reply.started": "2024-04-20T12:09:16.512421Z",
          "shell.execute_reply": "2024-04-20T12:09:16.946385Z"
        },
        "trusted": true,
        "colab": {
          "base_uri": "https://localhost:8080/"
        },
        "id": "_oOpeml2f9tF",
        "outputId": "e3776a2b-fe79-4c55-ae69-1f1726ecec07"
      },
      "execution_count": 23,
      "outputs": [
        {
          "output_type": "execute_result",
          "data": {
            "text/plain": [
              "(270145, 22)"
            ]
          },
          "metadata": {},
          "execution_count": 23
        }
      ]
    },
    {
      "cell_type": "code",
      "source": [],
      "metadata": {
        "id": "842wU3jSf9tG"
      },
      "execution_count": 23,
      "outputs": []
    },
    {
      "cell_type": "code",
      "source": [
        "sns.countplot(data=df1,x='CONTRIBUTING FACTOR VEHICLE 1')\n",
        "plt.xticks(rotation=90)"
      ],
      "metadata": {
        "execution": {
          "iopub.status.busy": "2024-04-20T12:09:19.956891Z",
          "iopub.execute_input": "2024-04-20T12:09:19.957747Z",
          "iopub.status.idle": "2024-04-20T12:09:22.417843Z",
          "shell.execute_reply.started": "2024-04-20T12:09:19.957715Z",
          "shell.execute_reply": "2024-04-20T12:09:22.416796Z"
        },
        "trusted": true,
        "colab": {
          "base_uri": "https://localhost:8080/",
          "height": 1000
        },
        "id": "AnIDd_rXf9tG",
        "outputId": "5c76208d-4c2a-4285-b0fa-78f4c3d111c3"
      },
      "execution_count": 24,
      "outputs": [
        {
          "output_type": "execute_result",
          "data": {
            "text/plain": [
              "([0, 1, 2, 3, 4, 5, 6, 7, 8, 9, 10, 11, 12, 13, 14, 15, 16, 17, 18, 19],\n",
              " [Text(0, 0, 'Aggressive Driving/Road Rage'),\n",
              "  Text(1, 0, 'Pavement Slippery'),\n",
              "  Text(2, 0, 'Following Too Closely'),\n",
              "  Text(3, 0, 'Unspecified'),\n",
              "  Text(4, 0, 'Passing Too Closely'),\n",
              "  Text(5, 0, 'Driver Inexperience'),\n",
              "  Text(6, 0, 'Passing or Lane Usage Improper'),\n",
              "  Text(7, 0, 'Turning Improperly'),\n",
              "  Text(8, 0, 'Unsafe Lane Changing'),\n",
              "  Text(9, 0, 'Unsafe Speed'),\n",
              "  Text(10, 0, 'Reaction to Uninvolved Vehicle'),\n",
              "  Text(11, 0, 'Traffic Control Disregarded'),\n",
              "  Text(12, 0, 'Other Vehicular'),\n",
              "  Text(13, 0, 'Driver Inattention/Distraction'),\n",
              "  Text(14, 0, 'Oversized Vehicle'),\n",
              "  Text(15, 0, 'Pedestrian/Bicyclist/Other Pedestrian Error/Confusion'),\n",
              "  Text(16, 0, 'Alcohol Involvement'),\n",
              "  Text(17, 0, 'View Obstructed/Limited'),\n",
              "  Text(18, 0, 'Failure to Yield Right-of-Way'),\n",
              "  Text(19, 0, 'Backing Unsafely')])"
            ]
          },
          "metadata": {},
          "execution_count": 24
        },
        {
          "output_type": "display_data",
          "data": {
            "text/plain": [
              "<Figure size 640x480 with 1 Axes>"
            ],
            "image/png": "[encoded data removed]"
          },
          "metadata": {}
        }
      ]
    },
    {
      "cell_type": "code",
      "source": [
        "df['CONTRIBUTING FACTOR VEHICLE 1'].value_counts().nlargest(15)"
      ],
      "metadata": {
        "execution": {
          "iopub.status.busy": "2024-04-20T12:09:22.566988Z",
          "iopub.execute_input": "2024-04-20T12:09:22.567676Z",
          "iopub.status.idle": "2024-04-20T12:09:22.923444Z",
          "shell.execute_reply.started": "2024-04-20T12:09:22.567643Z",
          "shell.execute_reply": "2024-04-20T12:09:22.922459Z"
        },
        "trusted": true,
        "colab": {
          "base_uri": "https://localhost:8080/"
        },
        "id": "eOJvUxu9f9tH",
        "outputId": "c79ef59a-3f59-4ad6-99ce-241c317f9cf3"
      },
      "execution_count": 25,
      "outputs": [
        {
          "output_type": "execute_result",
          "data": {
            "text/plain": [
              "CONTRIBUTING FACTOR VEHICLE 1\n",
              "Unspecified                       71045\n",
              "Driver Inattention/Distraction    69276\n",
              "Following Too Closely             18561\n",
              "Failure to Yield Right-of-Way     18539\n",
              "Passing or Lane Usage Improper    11903\n",
              "Passing Too Closely               10530\n",
              "Unsafe Speed                       9352\n",
              "Backing Unsafely                   9238\n",
              "Other Vehicular                    7805\n",
              "Traffic Control Disregarded        7415\n",
              "Unsafe Lane Changing               6074\n",
              "Turning Improperly                 5898\n",
              "Driver Inexperience                5209\n",
              "Alcohol Involvement                4351\n",
              "Reaction to Uninvolved Vehicle     4079\n",
              "Name: count, dtype: int64"
            ]
          },
          "metadata": {},
          "execution_count": 25
        }
      ]
    },
    {
      "cell_type": "code",
      "source": [
        "df['CONTRIBUTING FACTOR VEHICLE 1'].value_counts()"
      ],
      "metadata": {
        "execution": {
          "iopub.status.busy": "2024-04-20T12:09:30.717642Z",
          "iopub.execute_input": "2024-04-20T12:09:30.718243Z",
          "iopub.status.idle": "2024-04-20T12:09:31.081903Z",
          "shell.execute_reply.started": "2024-04-20T12:09:30.718217Z",
          "shell.execute_reply": "2024-04-20T12:09:31.080900Z"
        },
        "trusted": true,
        "colab": {
          "base_uri": "https://localhost:8080/"
        },
        "id": "B4tVT5U0f9tH",
        "outputId": "b6286e29-168f-4fa7-92fd-86dc01083bfa"
      },
      "execution_count": 26,
      "outputs": [
        {
          "output_type": "execute_result",
          "data": {
            "text/plain": [
              "CONTRIBUTING FACTOR VEHICLE 1\n",
              "Unspecified                                              71045\n",
              "Driver Inattention/Distraction                           69276\n",
              "Following Too Closely                                    18561\n",
              "Failure to Yield Right-of-Way                            18539\n",
              "Passing or Lane Usage Improper                           11903\n",
              "Passing Too Closely                                      10530\n",
              "Unsafe Speed                                              9352\n",
              "Backing Unsafely                                          9238\n",
              "Other Vehicular                                           7805\n",
              "Traffic Control Disregarded                               7415\n",
              "Unsafe Lane Changing                                      6074\n",
              "Turning Improperly                                        5898\n",
              "Driver Inexperience                                       5209\n",
              "Alcohol Involvement                                       4351\n",
              "Reaction to Uninvolved Vehicle                            4079\n",
              "Pavement Slippery                                         2482\n",
              "Pedestrian/Bicyclist/Other Pedestrian Error/Confusion     2471\n",
              "View Obstructed/Limited                                   2452\n",
              "Aggressive Driving/Road Rage                              2171\n",
              "Oversized Vehicle                                         1294\n",
              "Brakes Defective                                          1157\n",
              "Fell Asleep                                               1114\n",
              "Passenger Distraction                                      682\n",
              "Steering Failure                                           680\n",
              "Obstruction/Debris                                         650\n",
              "Outside Car Distraction                                    582\n",
              "Lost Consciousness                                         506\n",
              "Tire Failure/Inadequate                                    491\n",
              "Glare                                                      466\n",
              "Illnes                                                     464\n",
              "Pavement Defective                                         356\n",
              "Fatigued/Drowsy                                            350\n",
              "Failure to Keep Right                                      322\n",
              "Driverless/Runaway Vehicle                                 279\n",
              "Drugs (illegal)                                            267\n",
              "Animals Action                                             259\n",
              "Accelerator Defective                                      198\n",
              "Cell Phone (hand-Held)                                     133\n",
              "Traffic Control Device Improper/Non-Working                131\n",
              "Physical Disability                                        131\n",
              "Lane Marking Improper/Inadequate                            86\n",
              "Tinted Windows                                              57\n",
              "Using On Board Navigation Device                            35\n",
              "Prescription Medication                                     33\n",
              "Other Lighting Defects                                      31\n",
              "Tow Hitch Defective                                         31\n",
              "Headlights Defective                                        30\n",
              "Vehicle Vandalism                                           30\n",
              "Eating or Drinking                                          28\n",
              "Other Electronic Device                                     27\n",
              "Shoulders Defective/Improper                                14\n",
              "Cell Phone (hands-free)                                     12\n",
              "Texting                                                     10\n",
              "Listening/Using Headphones                                   6\n",
              "Windshield Inadequate                                        5\n",
              "Name: count, dtype: int64"
            ]
          },
          "metadata": {},
          "execution_count": 26
        }
      ]
    },
    {
      "cell_type": "code",
      "source": [
        "df['CONTRIBUTING FACTOR VEHICLE 2'].value_counts()"
      ],
      "metadata": {
        "execution": {
          "iopub.status.busy": "2024-04-20T12:09:31.466926Z",
          "iopub.execute_input": "2024-04-20T12:09:31.467311Z",
          "iopub.status.idle": "2024-04-20T12:09:31.802426Z",
          "shell.execute_reply.started": "2024-04-20T12:09:31.467281Z",
          "shell.execute_reply": "2024-04-20T12:09:31.801309Z"
        },
        "trusted": true,
        "colab": {
          "base_uri": "https://localhost:8080/"
        },
        "id": "HWr-PuxIf9tI",
        "outputId": "5e85b9f3-742c-458b-c201-a9e1a056bf11"
      },
      "execution_count": 27,
      "outputs": [
        {
          "output_type": "execute_result",
          "data": {
            "text/plain": [
              "CONTRIBUTING FACTOR VEHICLE 2\n",
              "Unspecified                                              185625\n",
              "Driver Inattention/Distraction                            12116\n",
              "Following Too Closely                                      3208\n",
              "Other Vehicular                                            3006\n",
              "Passing or Lane Usage Improper                             1951\n",
              "Failure to Yield Right-of-Way                              1854\n",
              "Unsafe Speed                                               1425\n",
              "Traffic Control Disregarded                                1237\n",
              "Passing Too Closely                                        1220\n",
              "Unsafe Lane Changing                                        860\n",
              "Driver Inexperience                                         693\n",
              "Pedestrian/Bicyclist/Other Pedestrian Error/Confusion       665\n",
              "Turning Improperly                                          582\n",
              "View Obstructed/Limited                                     555\n",
              "Backing Unsafely                                            510\n",
              "Reaction to Uninvolved Vehicle                              497\n",
              "Pavement Slippery                                           386\n",
              "Aggressive Driving/Road Rage                                244\n",
              "Oversized Vehicle                                           231\n",
              "Alcohol Involvement                                         188\n",
              "Obstruction/Debris                                           95\n",
              "Passenger Distraction                                        81\n",
              "Failure to Keep Right                                        78\n",
              "Outside Car Distraction                                      74\n",
              "Traffic Control Device Improper/Non-Working                  60\n",
              "Brakes Defective                                             42\n",
              "Lane Marking Improper/Inadequate                             39\n",
              "Glare                                                        35\n",
              "Fell Asleep                                                  22\n",
              "Driverless/Runaway Vehicle                                   18\n",
              "Pavement Defective                                           17\n",
              "Tinted Windows                                               14\n",
              "Other Lighting Defects                                       14\n",
              "Cell Phone (hand-Held)                                       13\n",
              "Headlights Defective                                         11\n",
              "Tire Failure/Inadequate                                      11\n",
              "Steering Failure                                              9\n",
              "Illnes                                                        8\n",
              "Drugs (illegal)                                               7\n",
              "Vehicle Vandalism                                             6\n",
              "Fatigued/Drowsy                                               6\n",
              "Accelerator Defective                                         5\n",
              "Listening/Using Headphones                                    5\n",
              "Tow Hitch Defective                                           4\n",
              "Lost Consciousness                                            4\n",
              "Other Electronic Device                                       4\n",
              "Using On Board Navigation Device                              3\n",
              "Animals Action                                                3\n",
              "Cell Phone (hands-free)                                       2\n",
              "Prescription Medication                                       2\n",
              "Shoulders Defective/Improper                                  1\n",
              "Physical Disability                                           1\n",
              "Name: count, dtype: int64"
            ]
          },
          "metadata": {},
          "execution_count": 27
        }
      ]
    },
    {
      "cell_type": "markdown",
      "source": [
        "## Bivariate Analysis"
      ],
      "metadata": {
        "id": "Mxu7eFRff9tJ"
      }
    },
    {
      "cell_type": "code",
      "source": [
        "grouped_data = df1.groupby(['BOROUGH','CONTRIBUTING FACTOR VEHICLE 1']).size().reset_index(name='count')\n",
        "grouped_data"
      ],
      "metadata": {
        "execution": {
          "iopub.status.busy": "2024-04-20T12:09:36.657230Z",
          "iopub.execute_input": "2024-04-20T12:09:36.658093Z",
          "iopub.status.idle": "2024-04-20T12:09:37.254467Z",
          "shell.execute_reply.started": "2024-04-20T12:09:36.658060Z",
          "shell.execute_reply": "2024-04-20T12:09:37.253553Z"
        },
        "trusted": true,
        "colab": {
          "base_uri": "https://localhost:8080/",
          "height": 423
        },
        "id": "wp64yeMuf9tJ",
        "outputId": "54334cd6-7dd1-4c79-9223-6025906cd4d5"
      },
      "execution_count": 28,
      "outputs": [
        {
          "output_type": "execute_result",
          "data": {
            "text/plain": [
              "          BOROUGH   CONTRIBUTING FACTOR VEHICLE 1  count\n",
              "0           BRONX    Aggressive Driving/Road Rage    329\n",
              "1           BRONX             Alcohol Involvement    574\n",
              "2           BRONX                Backing Unsafely   1348\n",
              "3           BRONX  Driver Inattention/Distraction   6899\n",
              "4           BRONX             Driver Inexperience    594\n",
              "..            ...                             ...    ...\n",
              "95  STATEN ISLAND              Turning Improperly    164\n",
              "96  STATEN ISLAND            Unsafe Lane Changing     66\n",
              "97  STATEN ISLAND                    Unsafe Speed    175\n",
              "98  STATEN ISLAND                     Unspecified   1755\n",
              "99  STATEN ISLAND         View Obstructed/Limited     51\n",
              "\n",
              "[100 rows x 3 columns]"
            ],
            "text/html": [
              "\n",
              "  <div id=\"df-0b03af40-1b0d-4925-926b-30092efa368e\" class=\"colab-df-container\">\n",
              "    <div>\n",
              "<style scoped>\n",
              "    .dataframe tbody tr th:only-of-type {\n",
              "        vertical-align: middle;\n",
              "    }\n",
              "\n",
              "    .dataframe tbody tr th {\n",
              "        vertical-align: top;\n",
              "    }\n",
              "\n",
              "    .dataframe thead th {\n",
              "        text-align: right;\n",
              "    }\n",
              "</style>\n",
              "<table border=\"1\" class=\"dataframe\">\n",
              "  <thead>\n",
              "    <tr style=\"text-align: right;\">\n",
              "      <th></th>\n",
              "      <th>BOROUGH</th>\n",
              "      <th>CONTRIBUTING FACTOR VEHICLE 1</th>\n",
              "      <th>count</th>\n",
              "    </tr>\n",
              "  </thead>\n",
              "  <tbody>\n",
              "    <tr>\n",
              "      <th>0</th>\n",
              "      <td>BRONX</td>\n",
              "      <td>Aggressive Driving/Road Rage</td>\n",
              "      <td>329</td>\n",
              "    </tr>\n",
              "    <tr>\n",
              "      <th>1</th>\n",
              "      <td>BRONX</td>\n",
              "      <td>Alcohol Involvement</td>\n",
              "      <td>574</td>\n",
              "    </tr>\n",
              "    <tr>\n",
              "      <th>2</th>\n",
              "      <td>BRONX</td>\n",
              "      <td>Backing Unsafely</td>\n",
              "      <td>1348</td>\n",
              "    </tr>\n",
              "    <tr>\n",
              "      <th>3</th>\n",
              "      <td>BRONX</td>\n",
              "      <td>Driver Inattention/Distraction</td>\n",
              "      <td>6899</td>\n",
              "    </tr>\n",
              "    <tr>\n",
              "      <th>4</th>\n",
              "      <td>BRONX</td>\n",
              "      <td>Driver Inexperience</td>\n",
              "      <td>594</td>\n",
              "    </tr>\n",
              "    <tr>\n",
              "      <th>...</th>\n",
              "      <td>...</td>\n",
              "      <td>...</td>\n",
              "      <td>...</td>\n",
              "    </tr>\n",
              "    <tr>\n",
              "      <th>95</th>\n",
              "      <td>STATEN ISLAND</td>\n",
              "      <td>Turning Improperly</td>\n",
              "      <td>164</td>\n",
              "    </tr>\n",
              "    <tr>\n",
              "      <th>96</th>\n",
              "      <td>STATEN ISLAND</td>\n",
              "      <td>Unsafe Lane Changing</td>\n",
              "      <td>66</td>\n",
              "    </tr>\n",
              "    <tr>\n",
              "      <th>97</th>\n",
              "      <td>STATEN ISLAND</td>\n",
              "      <td>Unsafe Speed</td>\n",
              "      <td>175</td>\n",
              "    </tr>\n",
              "    <tr>\n",
              "      <th>98</th>\n",
              "      <td>STATEN ISLAND</td>\n",
              "      <td>Unspecified</td>\n",
              "      <td>1755</td>\n",
              "    </tr>\n",
              "    <tr>\n",
              "      <th>99</th>\n",
              "      <td>STATEN ISLAND</td>\n",
              "      <td>View Obstructed/Limited</td>\n",
              "      <td>51</td>\n",
              "    </tr>\n",
              "  </tbody>\n",
              "</table>\n",
              "<p>100 rows × 3 columns</p>\n",
              "</div>\n",
              "    <div class=\"colab-df-buttons\">\n",
              "\n",
              "  <div class=\"colab-df-container\">\n",
              "    <button class=\"colab-df-convert\" onclick=\"convertToInteractive('df-0b03af40-1b0d-4925-926b-30092efa368e')\"\n",
              "            title=\"Convert this dataframe to an interactive table.\"\n",
              "            style=\"display:none;\">\n",
              "\n",
              "  <svg xmlns=\"http://www.w3.org/2000/svg\" height=\"24px\" viewBox=\"0 -960 960 960\">\n",
              "    <path d=\"M120-120v-720h720v720H120Zm60-500h600v-160H180v160Zm220 220h160v-160H400v160Zm0 220h160v-160H400v160ZM180-400h160v-160H180v160Zm440 0h160v-160H620v160ZM180-180h160v-160H180v160Zm440 0h160v-160H620v160Z\"/>\n",
              "  </svg>\n",
              "    </button>\n",
              "\n",
              "  <style>\n",
              "    .colab-df-container {\n",
              "      display:flex;\n",
              "      gap: 12px;\n",
              "    }\n",
              "\n",
              "    .colab-df-convert {\n",
              "      background-color: #E8F0FE;\n",
              "      border: none;\n",
              "      border-radius: 50%;\n",
              "      cursor: pointer;\n",
              "      display: none;\n",
              "      fill: #1967D2;\n",
              "      height: 32px;\n",
              "      padding: 0 0 0 0;\n",
              "      width: 32px;\n",
              "    }\n",
              "\n",
              "    .colab-df-convert:hover {\n",
              "      background-color: #E2EBFA;\n",
              "      box-shadow: 0px 1px 2px rgba(60, 64, 67, 0.3), 0px 1px 3px 1px rgba(60, 64, 67, 0.15);\n",
              "      fill: #174EA6;\n",
              "    }\n",
              "\n",
              "    .colab-df-buttons div {\n",
              "      margin-bottom: 4px;\n",
              "    }\n",
              "\n",
              "    [theme=dark] .colab-df-convert {\n",
              "      background-color: #3B4455;\n",
              "      fill: #D2E3FC;\n",
              "    }\n",
              "\n",
              "    [theme=dark] .colab-df-convert:hover {\n",
              "      background-color: #434B5C;\n",
              "      box-shadow: 0px 1px 3px 1px rgba(0, 0, 0, 0.15);\n",
              "      filter: drop-shadow(0px 1px 2px rgba(0, 0, 0, 0.3));\n",
              "      fill: #FFFFFF;\n",
              "    }\n",
              "  </style>\n",
              "\n",
              "    <script>\n",
              "      const buttonEl =\n",
              "        document.querySelector('#df-0b03af40-1b0d-4925-926b-30092efa368e button.colab-df-convert');\n",
              "      buttonEl.style.display =\n",
              "        google.colab.kernel.accessAllowed ? 'block' : 'none';\n",
              "\n",
              "      async function convertToInteractive(key) {\n",
              "        const element = document.querySelector('#df-0b03af40-1b0d-4925-926b-30092efa368e');\n",
              "        const dataTable =\n",
              "          await google.colab.kernel.invokeFunction('convertToInteractive',\n",
              "                                                    [key], {});\n",
              "        if (!dataTable) return;\n",
              "\n",
              "        const docLinkHtml = 'Like what you see? Visit the ' +\n",
              "          '<a target=\"_blank\" href=https://colab.research.google.com/notebooks/data_table.ipynb>data table notebook</a>'\n",
              "          + ' to learn more about interactive tables.';\n",
              "        element.innerHTML = '';\n",
              "        dataTable['output_type'] = 'display_data';\n",
              "        await google.colab.output.renderOutput(dataTable, element);\n",
              "        const docLink = document.createElement('div');\n",
              "        docLink.innerHTML = docLinkHtml;\n",
              "        element.appendChild(docLink);\n",
              "      }\n",
              "    </script>\n",
              "  </div>\n",
              "\n",
              "\n",
              "<div id=\"df-e4f39695-8102-42f6-9997-e456b0f7b83f\">\n",
              "  <button class=\"colab-df-quickchart\" onclick=\"quickchart('df-e4f39695-8102-42f6-9997-e456b0f7b83f')\"\n",
              "            title=\"Suggest charts\"\n",
              "            style=\"display:none;\">\n",
              "\n",
              "<svg xmlns=\"http://www.w3.org/2000/svg\" height=\"24px\"viewBox=\"0 0 24 24\"\n",
              "     width=\"24px\">\n",
              "    <g>\n",
              "        <path d=\"M19 3H5c-1.1 0-2 .9-2 2v14c0 1.1.9 2 2 2h14c1.1 0 2-.9 2-2V5c0-1.1-.9-2-2-2zM9 17H7v-7h2v7zm4 0h-2V7h2v10zm4 0h-2v-4h2v4z\"/>\n",
              "    </g>\n",
              "</svg>\n",
              "  </button>\n",
              "\n",
              "<style>\n",
              "  .colab-df-quickchart {\n",
              "      --bg-color: #E8F0FE;\n",
              "      --fill-color: #1967D2;\n",
              "      --hover-bg-color: #E2EBFA;\n",
              "      --hover-fill-color: #174EA6;\n",
              "      --disabled-fill-color: #AAA;\n",
              "      --disabled-bg-color: #DDD;\n",
              "  }\n",
              "\n",
              "  [theme=dark] .colab-df-quickchart {\n",
              "      --bg-color: #3B4455;\n",
              "      --fill-color: #D2E3FC;\n",
              "      --hover-bg-color: #434B5C;\n",
              "      --hover-fill-color: #FFFFFF;\n",
              "      --disabled-bg-color: #3B4455;\n",
              "      --disabled-fill-color: #666;\n",
              "  }\n",
              "\n",
              "  .colab-df-quickchart {\n",
              "    background-color: var(--bg-color);\n",
              "    border: none;\n",
              "    border-radius: 50%;\n",
              "    cursor: pointer;\n",
              "    display: none;\n",
              "    fill: var(--fill-color);\n",
              "    height: 32px;\n",
              "    padding: 0;\n",
              "    width: 32px;\n",
              "  }\n",
              "\n",
              "  .colab-df-quickchart:hover {\n",
              "    background-color: var(--hover-bg-color);\n",
              "    box-shadow: 0 1px 2px rgba(60, 64, 67, 0.3), 0 1px 3px 1px rgba(60, 64, 67, 0.15);\n",
              "    fill: var(--button-hover-fill-color);\n",
              "  }\n",
              "\n",
              "  .colab-df-quickchart-complete:disabled,\n",
              "  .colab-df-quickchart-complete:disabled:hover {\n",
              "    background-color: var(--disabled-bg-color);\n",
              "    fill: var(--disabled-fill-color);\n",
              "    box-shadow: none;\n",
              "  }\n",
              "\n",
              "  .colab-df-spinner {\n",
              "    border: 2px solid var(--fill-color);\n",
              "    border-color: transparent;\n",
              "    border-bottom-color: var(--fill-color);\n",
              "    animation:\n",
              "      spin 1s steps(1) infinite;\n",
              "  }\n",
              "\n",
              "  @keyframes spin {\n",
              "    0% {\n",
              "      border-color: transparent;\n",
              "      border-bottom-color: var(--fill-color);\n",
              "      border-left-color: var(--fill-color);\n",
              "    }\n",
              "    20% {\n",
              "      border-color: transparent;\n",
              "      border-left-color: var(--fill-color);\n",
              "      border-top-color: var(--fill-color);\n",
              "    }\n",
              "    30% {\n",
              "      border-color: transparent;\n",
              "      border-left-color: var(--fill-color);\n",
              "      border-top-color: var(--fill-color);\n",
              "      border-right-color: var(--fill-color);\n",
              "    }\n",
              "    40% {\n",
              "      border-color: transparent;\n",
              "      border-right-color: var(--fill-color);\n",
              "      border-top-color: var(--fill-color);\n",
              "    }\n",
              "    60% {\n",
              "      border-color: transparent;\n",
              "      border-right-color: var(--fill-color);\n",
              "    }\n",
              "    80% {\n",
              "      border-color: transparent;\n",
              "      border-right-color: var(--fill-color);\n",
              "      border-bottom-color: var(--fill-color);\n",
              "    }\n",
              "    90% {\n",
              "      border-color: transparent;\n",
              "      border-bottom-color: var(--fill-color);\n",
              "    }\n",
              "  }\n",
              "</style>\n",
              "\n",
              "  <script>\n",
              "    async function quickchart(key) {\n",
              "      const quickchartButtonEl =\n",
              "        document.querySelector('#' + key + ' button');\n",
              "      quickchartButtonEl.disabled = true;  // To prevent multiple clicks.\n",
              "      quickchartButtonEl.classList.add('colab-df-spinner');\n",
              "      try {\n",
              "        const charts = await google.colab.kernel.invokeFunction(\n",
              "            'suggestCharts', [key], {});\n",
              "      } catch (error) {\n",
              "        console.error('Error during call to suggestCharts:', error);\n",
              "      }\n",
              "      quickchartButtonEl.classList.remove('colab-df-spinner');\n",
              "      quickchartButtonEl.classList.add('colab-df-quickchart-complete');\n",
              "    }\n",
              "    (() => {\n",
              "      let quickchartButtonEl =\n",
              "        document.querySelector('#df-e4f39695-8102-42f6-9997-e456b0f7b83f button');\n",
              "      quickchartButtonEl.style.display =\n",
              "        google.colab.kernel.accessAllowed ? 'block' : 'none';\n",
              "    })();\n",
              "  </script>\n",
              "</div>\n",
              "\n",
              "  <div id=\"id_9867f862-cc98-4d27-ab0c-2c4dded2caea\">\n",
              "    <style>\n",
              "      .colab-df-generate {\n",
              "        background-color: #E8F0FE;\n",
              "        border: none;\n",
              "        border-radius: 50%;\n",
              "        cursor: pointer;\n",
              "        display: none;\n",
              "        fill: #1967D2;\n",
              "        height: 32px;\n",
              "        padding: 0 0 0 0;\n",
              "        width: 32px;\n",
              "      }\n",
              "\n",
              "      .colab-df-generate:hover {\n",
              "        background-color: #E2EBFA;\n",
              "        box-shadow: 0px 1px 2px rgba(60, 64, 67, 0.3), 0px 1px 3px 1px rgba(60, 64, 67, 0.15);\n",
              "        fill: #174EA6;\n",
              "      }\n",
              "\n",
              "      [theme=dark] .colab-df-generate {\n",
              "        background-color: #3B4455;\n",
              "        fill: #D2E3FC;\n",
              "      }\n",
              "\n",
              "      [theme=dark] .colab-df-generate:hover {\n",
              "        background-color: #434B5C;\n",
              "        box-shadow: 0px 1px 3px 1px rgba(0, 0, 0, 0.15);\n",
              "        filter: drop-shadow(0px 1px 2px rgba(0, 0, 0, 0.3));\n",
              "        fill: #FFFFFF;\n",
              "      }\n",
              "    </style>\n",
              "    <button class=\"colab-df-generate\" onclick=\"generateWithVariable('grouped_data')\"\n",
              "            title=\"Generate code using this dataframe.\"\n",
              "            style=\"display:none;\">\n",
              "\n",
              "  <svg xmlns=\"http://www.w3.org/2000/svg\" height=\"24px\"viewBox=\"0 0 24 24\"\n",
              "       width=\"24px\">\n",
              "    <path d=\"M7,19H8.4L18.45,9,17,7.55,7,17.6ZM5,21V16.75L18.45,3.32a2,2,0,0,1,2.83,0l1.4,1.43a1.91,1.91,0,0,1,.58,1.4,1.91,1.91,0,0,1-.58,1.4L9.25,21ZM18.45,9,17,7.55Zm-12,3A5.31,5.31,0,0,0,4.9,8.1,5.31,5.31,0,0,0,1,6.5,5.31,5.31,0,0,0,4.9,4.9,5.31,5.31,0,0,0,6.5,1,5.31,5.31,0,0,0,8.1,4.9,5.31,5.31,0,0,0,12,6.5,5.46,5.46,0,0,0,6.5,12Z\"/>\n",
              "  </svg>\n",
              "    </button>\n",
              "    <script>\n",
              "      (() => {\n",
              "      const buttonEl =\n",
              "        document.querySelector('#id_9867f862-cc98-4d27-ab0c-2c4dded2caea button.colab-df-generate');\n",
              "      buttonEl.style.display =\n",
              "        google.colab.kernel.accessAllowed ? 'block' : 'none';\n",
              "\n",
              "      buttonEl.onclick = () => {\n",
              "        google.colab.notebook.generateWithVariable('grouped_data');\n",
              "      }\n",
              "      })();\n",
              "    </script>\n",
              "  </div>\n",
              "\n",
              "    </div>\n",
              "  </div>\n"
            ],
            "application/vnd.google.colaboratory.intrinsic+json": {
              "type": "dataframe",
              "variable_name": "grouped_data",
              "summary": "{\n  \"name\": \"grouped_data\",\n  \"rows\": 100,\n  \"fields\": [\n    {\n      \"column\": \"BOROUGH\",\n      \"properties\": {\n        \"dtype\": \"category\",\n        \"num_unique_values\": 5,\n        \"samples\": [\n          \"BROOKLYN\",\n          \"STATEN ISLAND\",\n          \"MANHATTAN\"\n        ],\n        \"semantic_type\": \"\",\n        \"description\": \"\"\n      }\n    },\n    {\n      \"column\": \"CONTRIBUTING FACTOR VEHICLE 1\",\n      \"properties\": {\n        \"dtype\": \"category\",\n        \"num_unique_values\": 20,\n        \"samples\": [\n          \"Aggressive Driving/Road Rage\",\n          \"Unsafe Speed\",\n          \"Turning Improperly\"\n        ],\n        \"semantic_type\": \"\",\n        \"description\": \"\"\n      }\n    },\n    {\n      \"column\": \"count\",\n      \"properties\": {\n        \"dtype\": \"number\",\n        \"std\": 3343,\n        \"min\": 21,\n        \"max\": 21052,\n        \"num_unique_values\": 97,\n        \"samples\": [\n          13069,\n          224,\n          66\n        ],\n        \"semantic_type\": \"\",\n        \"description\": \"\"\n      }\n    }\n  ]\n}"
            }
          },
          "metadata": {},
          "execution_count": 28
        }
      ]
    },
    {
      "cell_type": "code",
      "source": [
        "plt.figure(figsize=(15,10))\n",
        "sns.countplot(x='CONTRIBUTING FACTOR VEHICLE 1',hue='BOROUGH',data=df1)\n",
        "plt.xticks(rotation=60)"
      ],
      "metadata": {
        "execution": {
          "iopub.status.busy": "2024-04-20T12:09:39.877324Z",
          "iopub.execute_input": "2024-04-20T12:09:39.877999Z",
          "iopub.status.idle": "2024-04-20T12:09:45.121974Z",
          "shell.execute_reply.started": "2024-04-20T12:09:39.877966Z",
          "shell.execute_reply": "2024-04-20T12:09:45.120959Z"
        },
        "trusted": true,
        "colab": {
          "base_uri": "https://localhost:8080/",
          "height": 1000
        },
        "id": "kJsYUNVSf9tL",
        "outputId": "196dc689-488d-41b1-8857-5b0b12c9bee5"
      },
      "execution_count": 29,
      "outputs": [
        {
          "output_type": "execute_result",
          "data": {
            "text/plain": [
              "([0, 1, 2, 3, 4, 5, 6, 7, 8, 9, 10, 11, 12, 13, 14, 15, 16, 17, 18, 19],\n",
              " [Text(0, 0, 'Aggressive Driving/Road Rage'),\n",
              "  Text(1, 0, 'Pavement Slippery'),\n",
              "  Text(2, 0, 'Following Too Closely'),\n",
              "  Text(3, 0, 'Unspecified'),\n",
              "  Text(4, 0, 'Passing Too Closely'),\n",
              "  Text(5, 0, 'Driver Inexperience'),\n",
              "  Text(6, 0, 'Passing or Lane Usage Improper'),\n",
              "  Text(7, 0, 'Turning Improperly'),\n",
              "  Text(8, 0, 'Unsafe Lane Changing'),\n",
              "  Text(9, 0, 'Unsafe Speed'),\n",
              "  Text(10, 0, 'Reaction to Uninvolved Vehicle'),\n",
              "  Text(11, 0, 'Traffic Control Disregarded'),\n",
              "  Text(12, 0, 'Other Vehicular'),\n",
              "  Text(13, 0, 'Driver Inattention/Distraction'),\n",
              "  Text(14, 0, 'Oversized Vehicle'),\n",
              "  Text(15, 0, 'Pedestrian/Bicyclist/Other Pedestrian Error/Confusion'),\n",
              "  Text(16, 0, 'Alcohol Involvement'),\n",
              "  Text(17, 0, 'View Obstructed/Limited'),\n",
              "  Text(18, 0, 'Failure to Yield Right-of-Way'),\n",
              "  Text(19, 0, 'Backing Unsafely')])"
            ]
          },
          "metadata": {},
          "execution_count": 29
        },
        {
          "output_type": "display_data",
          "data": {
            "text/plain": [
              "<Figure size 1500x1000 with 1 Axes>"
            ],
            "image/png": "[encoded data removed]"
          },
          "metadata": {}
        }
      ]
    },
    {
      "cell_type": "code",
      "source": [
        "df.isna().sum()"
      ],
      "metadata": {
        "execution": {
          "iopub.status.busy": "2024-04-20T12:09:51.232351Z",
          "iopub.execute_input": "2024-04-20T12:09:51.233176Z",
          "iopub.status.idle": "2024-04-20T12:09:52.633634Z",
          "shell.execute_reply.started": "2024-04-20T12:09:51.233143Z",
          "shell.execute_reply": "2024-04-20T12:09:52.632681Z"
        },
        "trusted": true,
        "colab": {
          "base_uri": "https://localhost:8080/"
        },
        "id": "ul6X9zBPf9tM",
        "outputId": "872b84c1-16cb-4523-a6e7-ab13f9485c47"
      },
      "execution_count": 30,
      "outputs": [
        {
          "output_type": "execute_result",
          "data": {
            "text/plain": [
              "CRASH DATE                            0\n",
              "CRASH TIME                            0\n",
              "BOROUGH                           97069\n",
              "ZIP CODE                          97100\n",
              "ON STREET NAME                    75628\n",
              "CROSS STREET NAME                150532\n",
              "NUMBER OF PERSONS INJURED             1\n",
              "NUMBER OF PERSONS KILLED              0\n",
              "NUMBER OF PEDESTRIANS INJURED         0\n",
              "NUMBER OF PEDESTRIANS KILLED          0\n",
              "NUMBER OF CYCLIST INJURED             0\n",
              "NUMBER OF CYCLIST KILLED              0\n",
              "NUMBER OF MOTORIST INJURED            0\n",
              "NUMBER OF MOTORIST KILLED             0\n",
              "CONTRIBUTING FACTOR VEHICLE 1      1379\n",
              "CONTRIBUTING FACTOR VEHICLE 2     63430\n",
              "VEHICLE TYPE CODE 1                3158\n",
              "VEHICLE TYPE CODE 2               91515\n",
              "YEAR                                  0\n",
              "MONTH                                 0\n",
              "DAY                                   0\n",
              "HOUR                                  0\n",
              "dtype: int64"
            ]
          },
          "metadata": {},
          "execution_count": 30
        }
      ]
    },
    {
      "cell_type": "markdown",
      "source": [
        "## Data Cleaning"
      ],
      "metadata": {
        "id": "Ewn-E37vf9tM"
      }
    },
    {
      "cell_type": "code",
      "source": [
        "df2 = df1.dropna()"
      ],
      "metadata": {
        "execution": {
          "iopub.status.busy": "2024-04-20T12:10:00.837472Z",
          "iopub.execute_input": "2024-04-20T12:10:00.838245Z",
          "iopub.status.idle": "2024-04-20T12:10:02.261607Z",
          "shell.execute_reply.started": "2024-04-20T12:10:00.838213Z",
          "shell.execute_reply": "2024-04-20T12:10:02.260523Z"
        },
        "trusted": true,
        "id": "nS7_vyWzf9tO"
      },
      "execution_count": 31,
      "outputs": []
    },
    {
      "cell_type": "code",
      "source": [
        "df2.shape"
      ],
      "metadata": {
        "execution": {
          "iopub.status.busy": "2024-04-20T12:10:04.048032Z",
          "iopub.execute_input": "2024-04-20T12:10:04.048729Z",
          "iopub.status.idle": "2024-04-20T12:10:04.054965Z",
          "shell.execute_reply.started": "2024-04-20T12:10:04.048699Z",
          "shell.execute_reply": "2024-04-20T12:10:04.053759Z"
        },
        "trusted": true,
        "colab": {
          "base_uri": "https://localhost:8080/"
        },
        "id": "zdX99tCEf9tP",
        "outputId": "943ac5dc-0732-45a5-a4df-41e1a5ad1a48"
      },
      "execution_count": 32,
      "outputs": [
        {
          "output_type": "execute_result",
          "data": {
            "text/plain": [
              "(74165, 22)"
            ]
          },
          "metadata": {},
          "execution_count": 32
        }
      ]
    },
    {
      "cell_type": "code",
      "source": [
        "df2.duplicated().value_counts()"
      ],
      "metadata": {
        "execution": {
          "iopub.status.busy": "2024-04-20T12:10:08.167441Z",
          "iopub.execute_input": "2024-04-20T12:10:08.167805Z",
          "iopub.status.idle": "2024-04-20T12:10:09.307834Z",
          "shell.execute_reply.started": "2024-04-20T12:10:08.167776Z",
          "shell.execute_reply": "2024-04-20T12:10:09.306842Z"
        },
        "trusted": true,
        "colab": {
          "base_uri": "https://localhost:8080/"
        },
        "id": "-ltowgxbf9tQ",
        "outputId": "558571e5-e2b5-4894-f913-e634b9334fd2"
      },
      "execution_count": 33,
      "outputs": [
        {
          "output_type": "execute_result",
          "data": {
            "text/plain": [
              "False    74150\n",
              "True        15\n",
              "Name: count, dtype: int64"
            ]
          },
          "metadata": {},
          "execution_count": 33
        }
      ]
    },
    {
      "cell_type": "code",
      "source": [
        "df2=df2.drop_duplicates()"
      ],
      "metadata": {
        "execution": {
          "iopub.status.busy": "2024-04-20T12:10:09.309729Z",
          "iopub.execute_input": "2024-04-20T12:10:09.310063Z",
          "iopub.status.idle": "2024-04-20T12:10:10.681018Z",
          "shell.execute_reply.started": "2024-04-20T12:10:09.310035Z",
          "shell.execute_reply": "2024-04-20T12:10:10.679969Z"
        },
        "trusted": true,
        "id": "1a6SpB8Wf9tR"
      },
      "execution_count": 34,
      "outputs": []
    },
    {
      "cell_type": "code",
      "source": [
        "df2.duplicated().value_counts()"
      ],
      "metadata": {
        "execution": {
          "iopub.status.busy": "2024-04-20T12:10:10.682623Z",
          "iopub.execute_input": "2024-04-20T12:10:10.682926Z",
          "iopub.status.idle": "2024-04-20T12:10:11.740757Z",
          "shell.execute_reply.started": "2024-04-20T12:10:10.682901Z",
          "shell.execute_reply": "2024-04-20T12:10:11.739789Z"
        },
        "trusted": true,
        "colab": {
          "base_uri": "https://localhost:8080/"
        },
        "id": "6MCgZ_eRf9tT",
        "outputId": "89916230-4ce2-4422-f2e1-d82190af4198"
      },
      "execution_count": 35,
      "outputs": [
        {
          "output_type": "execute_result",
          "data": {
            "text/plain": [
              "False    74150\n",
              "Name: count, dtype: int64"
            ]
          },
          "metadata": {},
          "execution_count": 35
        }
      ]
    },
    {
      "cell_type": "code",
      "source": [
        "df2['CONTRIBUTING FACTOR VEHICLE 1'].value_counts().nlargest(20)"
      ],
      "metadata": {
        "execution": {
          "iopub.status.busy": "2024-04-20T12:10:16.267361Z",
          "iopub.execute_input": "2024-04-20T12:10:16.268042Z",
          "iopub.status.idle": "2024-04-20T12:10:16.423133Z",
          "shell.execute_reply.started": "2024-04-20T12:10:16.268015Z",
          "shell.execute_reply": "2024-04-20T12:10:16.421987Z"
        },
        "trusted": true,
        "colab": {
          "base_uri": "https://localhost:8080/"
        },
        "id": "UX2zjTxrf9tU",
        "outputId": "0822efcb-9c57-40ea-c8ef-2f42997827ed"
      },
      "execution_count": 36,
      "outputs": [
        {
          "output_type": "execute_result",
          "data": {
            "text/plain": [
              "CONTRIBUTING FACTOR VEHICLE 1\n",
              "Driver Inattention/Distraction                           20575\n",
              "Unspecified                                              13980\n",
              "Failure to Yield Right-of-Way                             7524\n",
              "Following Too Closely                                     4690\n",
              "Traffic Control Disregarded                               4165\n",
              "Passing or Lane Usage Improper                            3658\n",
              "Unsafe Speed                                              2499\n",
              "Turning Improperly                                        2408\n",
              "Passing Too Closely                                       2345\n",
              "Other Vehicular                                           2116\n",
              "Backing Unsafely                                          1933\n",
              "Driver Inexperience                                       1459\n",
              "Unsafe Lane Changing                                      1447\n",
              "Alcohol Involvement                                       1383\n",
              "View Obstructed/Limited                                    825\n",
              "Reaction to Uninvolved Vehicle                             780\n",
              "Pedestrian/Bicyclist/Other Pedestrian Error/Confusion      745\n",
              "Aggressive Driving/Road Rage                               630\n",
              "Pavement Slippery                                          542\n",
              "Oversized Vehicle                                          446\n",
              "Name: count, dtype: int64"
            ]
          },
          "metadata": {},
          "execution_count": 36
        }
      ]
    },
    {
      "cell_type": "markdown",
      "source": [
        "### Target column CONTRIBUTING FACTOR VEHICLE 1 categories reducing by using mapping-->Traffic_violation,Driving inexperience,Non driving related,Impaired"
      ],
      "metadata": {
        "id": "UG7pD3yCf9tV"
      }
    },
    {
      "cell_type": "code",
      "source": [
        "category_mapping={'Failure to Yield Right-of-Way':'Traffic Violation',\n",
        "                  'Traffic Control Disregarded':'Traffic Violation',\n",
        "                  'Unsafe Lane Changing':'Traffic Violation',\n",
        "                  'Unsafe Speed':'Traffic Violation',\n",
        "\n",
        "                  'Turning Improperly':'Driving Negligence',\n",
        "                  'Following Too Closely':'Driving Negligence',\n",
        "                  'Passing Too Closely':'Driving Negligence',\n",
        "                  'Backing Unsafely':'Driving Negligence',\n",
        "                  'Passing or Lane Usage Improper':'Driving Negligence',\n",
        "                  'Driver Inexperience':'Driving Negligence',\n",
        "\n",
        "                  'Pavement Slippery':'Non Driver Related',\n",
        "                  'View Obstructed/Limited':'Non Driver Related',\n",
        "                  'Reaction to Uninvolved Vehicle':'Non Driver Related',\n",
        "                  'Other Vehicular':'Non Driver Related',\n",
        "\n",
        "                  'Fatigued/Drowsy':'Impaired',\n",
        "                  'Lost Consciousness':'Impaired',\n",
        "                  'Alcohol Involvement':'Impaired',\n",
        "                  'Prescription Medication':'Impaired',\n",
        "\n",
        "}\n",
        "\n",
        "\n",
        "df2['CONTRIBUTING FACTOR VEHICLE 1']=df2['CONTRIBUTING FACTOR VEHICLE 1'].replace(category_mapping)\n",
        "df2['CONTRIBUTING FACTOR VEHICLE 1'].value_counts()"
      ],
      "metadata": {
        "execution": {
          "iopub.status.busy": "2024-04-20T12:12:06.123247Z",
          "iopub.execute_input": "2024-04-20T12:12:06.123607Z",
          "iopub.status.idle": "2024-04-20T12:12:07.208693Z",
          "shell.execute_reply.started": "2024-04-20T12:12:06.123582Z",
          "shell.execute_reply": "2024-04-20T12:12:07.207738Z"
        },
        "trusted": true,
        "colab": {
          "base_uri": "https://localhost:8080/"
        },
        "id": "DzbDL9Acf9tV",
        "outputId": "4d2712dc-2978-42d3-f955-46c79c49184b"
      },
      "execution_count": 37,
      "outputs": [
        {
          "output_type": "execute_result",
          "data": {
            "text/plain": [
              "CONTRIBUTING FACTOR VEHICLE 1\n",
              "Driver Inattention/Distraction                           20575\n",
              "Driving Negligence                                       16493\n",
              "Traffic Violation                                        15635\n",
              "Unspecified                                              13980\n",
              "Non Driver Related                                        4263\n",
              "Impaired                                                  1383\n",
              "Pedestrian/Bicyclist/Other Pedestrian Error/Confusion      745\n",
              "Aggressive Driving/Road Rage                               630\n",
              "Oversized Vehicle                                          446\n",
              "Name: count, dtype: int64"
            ]
          },
          "metadata": {},
          "execution_count": 37
        }
      ]
    },
    {
      "cell_type": "code",
      "source": [
        "df2.columns"
      ],
      "metadata": {
        "execution": {
          "iopub.status.busy": "2024-04-20T12:12:10.757569Z",
          "iopub.execute_input": "2024-04-20T12:12:10.757941Z",
          "iopub.status.idle": "2024-04-20T12:12:10.764581Z",
          "shell.execute_reply.started": "2024-04-20T12:12:10.757912Z",
          "shell.execute_reply": "2024-04-20T12:12:10.763590Z"
        },
        "trusted": true,
        "colab": {
          "base_uri": "https://localhost:8080/"
        },
        "id": "hxiRqw0Qf9tW",
        "outputId": "8e0368c0-6d81-4249-838c-e927f10f4c22"
      },
      "execution_count": 38,
      "outputs": [
        {
          "output_type": "execute_result",
          "data": {
            "text/plain": [
              "Index(['CRASH DATE', 'CRASH TIME', 'BOROUGH', 'ZIP CODE', 'ON STREET NAME',\n",
              "       'CROSS STREET NAME', 'NUMBER OF PERSONS INJURED',\n",
              "       'NUMBER OF PERSONS KILLED', 'NUMBER OF PEDESTRIANS INJURED',\n",
              "       'NUMBER OF PEDESTRIANS KILLED', 'NUMBER OF CYCLIST INJURED',\n",
              "       'NUMBER OF CYCLIST KILLED', 'NUMBER OF MOTORIST INJURED',\n",
              "       'NUMBER OF MOTORIST KILLED', 'CONTRIBUTING FACTOR VEHICLE 1',\n",
              "       'CONTRIBUTING FACTOR VEHICLE 2', 'VEHICLE TYPE CODE 1',\n",
              "       'VEHICLE TYPE CODE 2', 'YEAR', 'MONTH', 'DAY', 'HOUR'],\n",
              "      dtype='object')"
            ]
          },
          "metadata": {},
          "execution_count": 38
        }
      ]
    },
    {
      "cell_type": "code",
      "source": [
        "df2.drop(['CRASH DATE','CRASH TIME'],axis=1,inplace=True)\n",
        "df2.columns"
      ],
      "metadata": {
        "execution": {
          "iopub.status.busy": "2024-04-20T12:12:12.656765Z",
          "iopub.execute_input": "2024-04-20T12:12:12.657083Z",
          "iopub.status.idle": "2024-04-20T12:12:12.789835Z",
          "shell.execute_reply.started": "2024-04-20T12:12:12.657059Z",
          "shell.execute_reply": "2024-04-20T12:12:12.788869Z"
        },
        "trusted": true,
        "colab": {
          "base_uri": "https://localhost:8080/"
        },
        "id": "4F7S6UoDf9tW",
        "outputId": "fb124fbd-f62f-4b26-df3c-e20ec5f3c1a9"
      },
      "execution_count": 39,
      "outputs": [
        {
          "output_type": "execute_result",
          "data": {
            "text/plain": [
              "Index(['BOROUGH', 'ZIP CODE', 'ON STREET NAME', 'CROSS STREET NAME',\n",
              "       'NUMBER OF PERSONS INJURED', 'NUMBER OF PERSONS KILLED',\n",
              "       'NUMBER OF PEDESTRIANS INJURED', 'NUMBER OF PEDESTRIANS KILLED',\n",
              "       'NUMBER OF CYCLIST INJURED', 'NUMBER OF CYCLIST KILLED',\n",
              "       'NUMBER OF MOTORIST INJURED', 'NUMBER OF MOTORIST KILLED',\n",
              "       'CONTRIBUTING FACTOR VEHICLE 1', 'CONTRIBUTING FACTOR VEHICLE 2',\n",
              "       'VEHICLE TYPE CODE 1', 'VEHICLE TYPE CODE 2', 'YEAR', 'MONTH', 'DAY',\n",
              "       'HOUR'],\n",
              "      dtype='object')"
            ]
          },
          "metadata": {},
          "execution_count": 39
        }
      ]
    },
    {
      "cell_type": "markdown",
      "source": [
        "### Data Preprocessing"
      ],
      "metadata": {
        "id": "nw7rl0stf9tX"
      }
    },
    {
      "cell_type": "markdown",
      "source": [
        "#### Label Encoding"
      ],
      "metadata": {
        "id": "purmTnlgf9tY"
      }
    },
    {
      "cell_type": "code",
      "source": [
        "cat_col = df2.select_dtypes(include=['object']).columns.tolist()\n",
        "cat_col"
      ],
      "metadata": {
        "execution": {
          "iopub.status.busy": "2024-04-20T12:12:18.687417Z",
          "iopub.execute_input": "2024-04-20T12:12:18.687785Z",
          "iopub.status.idle": "2024-04-20T12:12:19.036240Z",
          "shell.execute_reply.started": "2024-04-20T12:12:18.687757Z",
          "shell.execute_reply": "2024-04-20T12:12:19.035168Z"
        },
        "trusted": true,
        "colab": {
          "base_uri": "https://localhost:8080/"
        },
        "id": "h1hiPt26f9tY",
        "outputId": "c0ca90c3-3644-42c9-ecf1-dcd16e4743f7"
      },
      "execution_count": 40,
      "outputs": [
        {
          "output_type": "execute_result",
          "data": {
            "text/plain": [
              "['BOROUGH',\n",
              " 'ON STREET NAME',\n",
              " 'CROSS STREET NAME',\n",
              " 'CONTRIBUTING FACTOR VEHICLE 1',\n",
              " 'CONTRIBUTING FACTOR VEHICLE 2',\n",
              " 'VEHICLE TYPE CODE 1',\n",
              " 'VEHICLE TYPE CODE 2']"
            ]
          },
          "metadata": {},
          "execution_count": 40
        }
      ]
    },
    {
      "cell_type": "code",
      "source": [],
      "metadata": {
        "trusted": true,
        "id": "GW-SLTMMf9tZ"
      },
      "execution_count": 40,
      "outputs": []
    },
    {
      "cell_type": "code",
      "source": [
        "from sklearn.preprocessing import LabelEncoder\n",
        "le = LabelEncoder()\n",
        "\n",
        "df2['BOROUGH']=le.fit_transform(df2['BOROUGH'])\n",
        "#df['ZIP CODE']=le.fit_transform(df['ZIP CODE'])\n",
        "df2['ON STREET NAME']=le.fit_transform(df2['ON STREET NAME'])\n",
        "df2['CROSS STREET NAME']=le.fit_transform(df2['CROSS STREET NAME'])\n",
        "df2['CONTRIBUTING FACTOR VEHICLE 1']=le.fit_transform(df2['CONTRIBUTING FACTOR VEHICLE 1'])\n",
        "df2['CONTRIBUTING FACTOR VEHICLE 2']=le.fit_transform(df2['CONTRIBUTING FACTOR VEHICLE 2'])\n",
        "df2['VEHICLE TYPE CODE 1']=le.fit_transform(df2['VEHICLE TYPE CODE 1'])\n",
        "df2['VEHICLE TYPE CODE 2']=le.fit_transform(df2['VEHICLE TYPE CODE 2'])"
      ],
      "metadata": {
        "execution": {
          "iopub.status.busy": "2024-04-20T12:12:21.417342Z",
          "iopub.execute_input": "2024-04-20T12:12:21.418022Z",
          "iopub.status.idle": "2024-04-20T12:12:23.290246Z",
          "shell.execute_reply.started": "2024-04-20T12:12:21.417984Z",
          "shell.execute_reply": "2024-04-20T12:12:23.289208Z"
        },
        "trusted": true,
        "id": "7CUmW90sf9tZ"
      },
      "execution_count": 41,
      "outputs": []
    },
    {
      "cell_type": "code",
      "source": [
        "df2['ZIP CODE'].unique()"
      ],
      "metadata": {
        "execution": {
          "iopub.status.busy": "2024-04-20T12:12:31.057368Z",
          "iopub.execute_input": "2024-04-20T12:12:31.058338Z",
          "iopub.status.idle": "2024-04-20T12:12:31.148114Z",
          "shell.execute_reply.started": "2024-04-20T12:12:31.058304Z",
          "shell.execute_reply": "2024-04-20T12:12:31.147040Z"
        },
        "trusted": true,
        "colab": {
          "base_uri": "https://localhost:8080/"
        },
        "id": "pYtJvH5ff9ta",
        "outputId": "3e89af29-5558-4f58-979b-e9d3be60d818"
      },
      "execution_count": 42,
      "outputs": [
        {
          "output_type": "execute_result",
          "data": {
            "text/plain": [
              "array([10017., 11413., 11434., 10463., 10301., 11217., 11211., 10452.,\n",
              "       10019., 11230., 11221., 11101., 11106., 11418., 11213., 10128.,\n",
              "       11218., 11203., 10025., 11411., 10466., 11236., 11238., 11420.,\n",
              "       10065., 11432., 10032., 11104., 11207., 10002., 11219., 10305.,\n",
              "       11206., 10001., 10458., 10468., 11361., 10467., 11422., 11691.,\n",
              "       11231., 10469., 10459., 10306., 11228., 11372., 11419., 10474.,\n",
              "       11234., 11356., 11416., 10168., 11366., 11222., 11212., 11208.,\n",
              "       11229., 10461., 11204., 11433., 10457., 10473., 10312., 10013.,\n",
              "       11225., 11412., 11385., 11430., 11435., 10310., 10022., 11201.,\n",
              "       10475., 10012., 11377., 11226., 10460., 11102., 10308., 11237.,\n",
              "       10453., 11429., 10016., 11224., 10472., 10027., 11223., 10029.,\n",
              "       11436., 10023., 11369., 11367., 11210., 11249., 10035., 11214.,\n",
              "       11220., 11216., 11423., 11205., 10033., 10454., 11428., 11378.,\n",
              "       10451., 10470., 11357., 11233., 11354., 11103., 11368., 11370.,\n",
              "       11426., 10026., 10456., 11365., 11363., 11209., 10028., 11417.,\n",
              "       10031., 11374., 10036., 10304., 10034., 11379., 11232., 11235.,\n",
              "       11427., 11421., 10462., 10455., 10075., 10010., 11373., 10018.,\n",
              "       11355., 10024., 11375., 10465., 10030., 10464., 10039., 11414.,\n",
              "       11364., 10014., 10309., 10011., 10038., 11693., 11105., 10006.,\n",
              "       11004., 10003., 11692., 11415., 10007., 11215., 10005., 11040.,\n",
              "       11358., 10037., 10069., 10314., 10004., 10021., 10040., 11362.,\n",
              "       11360., 10307., 11239., 10009., 11694., 10471., 11005., 10000.,\n",
              "       10020., 11001., 10278., 10172., 10119., 11109., 10271., 10280.,\n",
              "       10169., 10302., 10115., 10282., 11359., 11697., 10281., 10165.])"
            ]
          },
          "metadata": {},
          "execution_count": 42
        }
      ]
    },
    {
      "cell_type": "code",
      "source": [
        "df2['ZIP CODE']=df2['ZIP CODE'].astype(str)\n",
        "df2['ZIP CODE'].unique()"
      ],
      "metadata": {
        "execution": {
          "iopub.status.busy": "2024-04-20T12:12:35.076923Z",
          "iopub.execute_input": "2024-04-20T12:12:35.077700Z",
          "iopub.status.idle": "2024-04-20T12:12:35.421054Z",
          "shell.execute_reply.started": "2024-04-20T12:12:35.077669Z",
          "shell.execute_reply": "2024-04-20T12:12:35.420109Z"
        },
        "trusted": true,
        "colab": {
          "base_uri": "https://localhost:8080/"
        },
        "id": "D7TwbMlaf9tb",
        "outputId": "a7a4b56f-bee3-4cb7-9c80-74b208534280"
      },
      "execution_count": 43,
      "outputs": [
        {
          "output_type": "execute_result",
          "data": {
            "text/plain": [
              "array(['10017.0', '11413.0', '11434.0', '10463.0', '10301.0', '11217.0',\n",
              "       '11211.0', '10452.0', '10019.0', '11230.0', '11221.0', '11101.0',\n",
              "       '11106.0', '11418.0', '11213.0', '10128.0', '11218.0', '11203.0',\n",
              "       '10025.0', '11411.0', '10466.0', '11236.0', '11238.0', '11420.0',\n",
              "       '10065.0', '11432.0', '10032.0', '11104.0', '11207.0', '10002.0',\n",
              "       '11219.0', '10305.0', '11206.0', '10001.0', '10458.0', '10468.0',\n",
              "       '11361.0', '10467.0', '11422.0', '11691.0', '11231.0', '10469.0',\n",
              "       '10459.0', '10306.0', '11228.0', '11372.0', '11419.0', '10474.0',\n",
              "       '11234.0', '11356.0', '11416.0', '10168.0', '11366.0', '11222.0',\n",
              "       '11212.0', '11208.0', '11229.0', '10461.0', '11204.0', '11433.0',\n",
              "       '10457.0', '10473.0', '10312.0', '10013.0', '11225.0', '11412.0',\n",
              "       '11385.0', '11430.0', '11435.0', '10310.0', '10022.0', '11201.0',\n",
              "       '10475.0', '10012.0', '11377.0', '11226.0', '10460.0', '11102.0',\n",
              "       '10308.0', '11237.0', '10453.0', '11429.0', '10016.0', '11224.0',\n",
              "       '10472.0', '10027.0', '11223.0', '10029.0', '11436.0', '10023.0',\n",
              "       '11369.0', '11367.0', '11210.0', '11249.0', '10035.0', '11214.0',\n",
              "       '11220.0', '11216.0', '11423.0', '11205.0', '10033.0', '10454.0',\n",
              "       '11428.0', '11378.0', '10451.0', '10470.0', '11357.0', '11233.0',\n",
              "       '11354.0', '11103.0', '11368.0', '11370.0', '11426.0', '10026.0',\n",
              "       '10456.0', '11365.0', '11363.0', '11209.0', '10028.0', '11417.0',\n",
              "       '10031.0', '11374.0', '10036.0', '10304.0', '10034.0', '11379.0',\n",
              "       '11232.0', '11235.0', '11427.0', '11421.0', '10462.0', '10455.0',\n",
              "       '10075.0', '10010.0', '11373.0', '10018.0', '11355.0', '10024.0',\n",
              "       '11375.0', '10465.0', '10030.0', '10464.0', '10039.0', '11414.0',\n",
              "       '11364.0', '10014.0', '10309.0', '10011.0', '10038.0', '11693.0',\n",
              "       '11105.0', '10006.0', '11004.0', '10003.0', '11692.0', '11415.0',\n",
              "       '10007.0', '11215.0', '10005.0', '11040.0', '11358.0', '10037.0',\n",
              "       '10069.0', '10314.0', '10004.0', '10021.0', '10040.0', '11362.0',\n",
              "       '11360.0', '10307.0', '11239.0', '10009.0', '11694.0', '10471.0',\n",
              "       '11005.0', '10000.0', '10020.0', '11001.0', '10278.0', '10172.0',\n",
              "       '10119.0', '11109.0', '10271.0', '10280.0', '10169.0', '10302.0',\n",
              "       '10115.0', '10282.0', '11359.0', '11697.0', '10281.0', '10165.0'],\n",
              "      dtype=object)"
            ]
          },
          "metadata": {},
          "execution_count": 43
        }
      ]
    },
    {
      "cell_type": "code",
      "source": [
        "df2['ZIP CODE']=le.fit_transform(df2['ZIP CODE'])"
      ],
      "metadata": {
        "execution": {
          "iopub.status.busy": "2024-04-20T12:12:40.667685Z",
          "iopub.execute_input": "2024-04-20T12:12:40.668753Z",
          "iopub.status.idle": "2024-04-20T12:12:40.932617Z",
          "shell.execute_reply.started": "2024-04-20T12:12:40.668707Z",
          "shell.execute_reply": "2024-04-20T12:12:40.931581Z"
        },
        "trusted": true,
        "id": "VjlHFW44f9tc"
      },
      "execution_count": 44,
      "outputs": []
    },
    {
      "cell_type": "code",
      "source": [
        "df2.info()"
      ],
      "metadata": {
        "execution": {
          "iopub.status.busy": "2024-04-20T12:12:55.260432Z",
          "iopub.execute_input": "2024-04-20T12:12:55.261283Z",
          "iopub.status.idle": "2024-04-20T12:12:55.291811Z",
          "shell.execute_reply.started": "2024-04-20T12:12:55.261251Z",
          "shell.execute_reply": "2024-04-20T12:12:55.290883Z"
        },
        "trusted": true,
        "colab": {
          "base_uri": "https://localhost:8080/"
        },
        "id": "TVjOc1yZf9tc",
        "outputId": "c3645817-c56a-43d2-f003-3d262074b424"
      },
      "execution_count": 45,
      "outputs": [
        {
          "output_type": "stream",
          "name": "stdout",
          "text": [
            "<class 'pandas.core.frame.DataFrame'>\n",
            "Index: 74150 entries, 9 to 281174\n",
            "Data columns (total 20 columns):\n",
            " #   Column                         Non-Null Count  Dtype  \n",
            "---  ------                         --------------  -----  \n",
            " 0   BOROUGH                        74150 non-null  int64  \n",
            " 1   ZIP CODE                       74150 non-null  int64  \n",
            " 2   ON STREET NAME                 74150 non-null  int64  \n",
            " 3   CROSS STREET NAME              74150 non-null  int64  \n",
            " 4   NUMBER OF PERSONS INJURED      74150 non-null  float64\n",
            " 5   NUMBER OF PERSONS KILLED       74150 non-null  int64  \n",
            " 6   NUMBER OF PEDESTRIANS INJURED  74150 non-null  int64  \n",
            " 7   NUMBER OF PEDESTRIANS KILLED   74150 non-null  int64  \n",
            " 8   NUMBER OF CYCLIST INJURED      74150 non-null  int64  \n",
            " 9   NUMBER OF CYCLIST KILLED       74150 non-null  int64  \n",
            " 10  NUMBER OF MOTORIST INJURED     74150 non-null  int64  \n",
            " 11  NUMBER OF MOTORIST KILLED      74150 non-null  int64  \n",
            " 12  CONTRIBUTING FACTOR VEHICLE 1  74150 non-null  int64  \n",
            " 13  CONTRIBUTING FACTOR VEHICLE 2  74150 non-null  int64  \n",
            " 14  VEHICLE TYPE CODE 1            74150 non-null  int64  \n",
            " 15  VEHICLE TYPE CODE 2            74150 non-null  int64  \n",
            " 16  YEAR                           74150 non-null  int32  \n",
            " 17  MONTH                          74150 non-null  int32  \n",
            " 18  DAY                            74150 non-null  int32  \n",
            " 19  HOUR                           74150 non-null  int32  \n",
            "dtypes: float64(1), int32(4), int64(15)\n",
            "memory usage: 10.7 MB\n"
          ]
        }
      ]
    },
    {
      "cell_type": "code",
      "source": [
        "df2.shape"
      ],
      "metadata": {
        "execution": {
          "iopub.status.busy": "2024-04-20T12:12:58.296703Z",
          "iopub.execute_input": "2024-04-20T12:12:58.297398Z",
          "iopub.status.idle": "2024-04-20T12:12:58.302987Z",
          "shell.execute_reply.started": "2024-04-20T12:12:58.297372Z",
          "shell.execute_reply": "2024-04-20T12:12:58.301955Z"
        },
        "trusted": true,
        "colab": {
          "base_uri": "https://localhost:8080/"
        },
        "id": "GK18Yrnyf9td",
        "outputId": "8e44a6d2-6f91-492e-a39b-86a5cbd9adf5"
      },
      "execution_count": 46,
      "outputs": [
        {
          "output_type": "execute_result",
          "data": {
            "text/plain": [
              "(74150, 20)"
            ]
          },
          "metadata": {},
          "execution_count": 46
        }
      ]
    },
    {
      "cell_type": "code",
      "source": [
        "x = df2.drop(['CONTRIBUTING FACTOR VEHICLE 1'],axis=1)\n",
        "y = df2['CONTRIBUTING FACTOR VEHICLE 1']"
      ],
      "metadata": {
        "execution": {
          "iopub.status.busy": "2024-04-20T12:13:00.305554Z",
          "iopub.execute_input": "2024-04-20T12:13:00.306385Z",
          "iopub.status.idle": "2024-04-20T12:13:00.364479Z",
          "shell.execute_reply.started": "2024-04-20T12:13:00.306356Z",
          "shell.execute_reply": "2024-04-20T12:13:00.363644Z"
        },
        "trusted": true,
        "id": "z87oUekYf9te"
      },
      "execution_count": 47,
      "outputs": []
    },
    {
      "cell_type": "code",
      "source": [
        "from sklearn.model_selection import train_test_split\n",
        "X_train,X_test,Y_train,Y_test = train_test_split(x,y,test_size=0.3,random_state=42,stratify=y)"
      ],
      "metadata": {
        "execution": {
          "iopub.status.busy": "2024-04-20T12:13:02.782890Z",
          "iopub.execute_input": "2024-04-20T12:13:02.783576Z",
          "iopub.status.idle": "2024-04-20T12:13:03.466212Z",
          "shell.execute_reply.started": "2024-04-20T12:13:02.783513Z",
          "shell.execute_reply": "2024-04-20T12:13:03.465347Z"
        },
        "trusted": true,
        "id": "CwRHTbF8f9te"
      },
      "execution_count": 48,
      "outputs": []
    },
    {
      "cell_type": "code",
      "source": [
        "X_train.shape,Y_train.shape"
      ],
      "metadata": {
        "execution": {
          "iopub.status.busy": "2024-04-20T12:13:16.552710Z",
          "iopub.execute_input": "2024-04-20T12:13:16.553467Z",
          "iopub.status.idle": "2024-04-20T12:13:16.559417Z",
          "shell.execute_reply.started": "2024-04-20T12:13:16.553436Z",
          "shell.execute_reply": "2024-04-20T12:13:16.558402Z"
        },
        "trusted": true,
        "colab": {
          "base_uri": "https://localhost:8080/"
        },
        "id": "qxeRVIFjf9tf",
        "outputId": "835ef663-f3f6-4b0c-dcb9-eb86679d44b1"
      },
      "execution_count": 49,
      "outputs": [
        {
          "output_type": "execute_result",
          "data": {
            "text/plain": [
              "((51905, 19), (51905,))"
            ]
          },
          "metadata": {},
          "execution_count": 49
        }
      ]
    },
    {
      "cell_type": "markdown",
      "source": [],
      "metadata": {
        "id": "mhAraOKlf9tf"
      }
    },
    {
      "cell_type": "code",
      "source": [
        "from sklearn.linear_model import LogisticRegression\n",
        "\n",
        "lr = LogisticRegression()\n",
        "lr.fit(X_train,Y_train)"
      ],
      "metadata": {
        "execution": {
          "iopub.status.busy": "2024-04-20T12:14:34.522428Z",
          "iopub.execute_input": "2024-04-20T12:14:34.523385Z",
          "iopub.status.idle": "2024-04-20T12:14:57.204420Z",
          "shell.execute_reply.started": "2024-04-20T12:14:34.523351Z",
          "shell.execute_reply": "2024-04-20T12:14:57.203394Z"
        },
        "trusted": true,
        "colab": {
          "base_uri": "https://localhost:8080/",
          "height": 233
        },
        "id": "wa_lYLThf9tg",
        "outputId": "4b2451a5-3585-4f07-fb4c-3650c1619a99"
      },
      "execution_count": 50,
      "outputs": [
        {
          "output_type": "stream",
          "name": "stderr",
          "text": [
            "/usr/local/lib/python3.10/dist-packages/sklearn/linear_model/_logistic.py:458: ConvergenceWarning: lbfgs failed to converge (status=1):\n",
            "STOP: TOTAL NO. of ITERATIONS REACHED LIMIT.\n",
            "\n",
            "Increase the number of iterations (max_iter) or scale the data as shown in:\n",
            "    https://scikit-learn.org/stable/modules/preprocessing.html\n",
            "Please also refer to the documentation for alternative solver options:\n",
            "    https://scikit-learn.org/stable/modules/linear_model.html#logistic-regression\n",
            "  n_iter_i = _check_optimize_result(\n"
          ]
        },
        {
          "output_type": "execute_result",
          "data": {
            "text/plain": [
              "LogisticRegression()"
            ],
            "text/html": [
              "<style>#sk-container-id-1 {color: black;background-color: white;}#sk-container-id-1 pre{padding: 0;}#sk-container-id-1 div.sk-toggleable {background-color: white;}#sk-container-id-1 label.sk-toggleable__label {cursor: pointer;display: block;width: 100%;margin-bottom: 0;padding: 0.3em;box-sizing: border-box;text-align: center;}#sk-container-id-1 label.sk-toggleable__label-arrow:before {content: \"▸\";float: left;margin-right: 0.25em;color: #696969;}#sk-container-id-1 label.sk-toggleable__label-arrow:hover:before {color: black;}#sk-container-id-1 div.sk-estimator:hover label.sk-toggleable__label-arrow:before {color: black;}#sk-container-id-1 div.sk-toggleable__content {max-height: 0;max-width: 0;overflow: hidden;text-align: left;background-color: #f0f8ff;}#sk-container-id-1 div.sk-toggleable__content pre {margin: 0.2em;color: black;border-radius: 0.25em;background-color: #f0f8ff;}#sk-container-id-1 input.sk-toggleable__control:checked~div.sk-toggleable__content {max-height: 200px;max-width: 100%;overflow: auto;}#sk-container-id-1 input.sk-toggleable__control:checked~label.sk-toggleable__label-arrow:before {content: \"▾\";}#sk-container-id-1 div.sk-estimator input.sk-toggleable__control:checked~label.sk-toggleable__label {background-color: #d4ebff;}#sk-container-id-1 div.sk-label input.sk-toggleable__control:checked~label.sk-toggleable__label {background-color: #d4ebff;}#sk-container-id-1 input.sk-hidden--visually {border: 0;clip: rect(1px 1px 1px 1px);clip: rect(1px, 1px, 1px, 1px);height: 1px;margin: -1px;overflow: hidden;padding: 0;position: absolute;width: 1px;}#sk-container-id-1 div.sk-estimator {font-family: monospace;background-color: #f0f8ff;border: 1px dotted black;border-radius: 0.25em;box-sizing: border-box;margin-bottom: 0.5em;}#sk-container-id-1 div.sk-estimator:hover {background-color: #d4ebff;}#sk-container-id-1 div.sk-parallel-item::after {content: \"\";width: 100%;border-bottom: 1px solid gray;flex-grow: 1;}#sk-container-id-1 div.sk-label:hover label.sk-toggleable__label {background-color: #d4ebff;}#sk-container-id-1 div.sk-serial::before {content: \"\";position: absolute;border-left: 1px solid gray;box-sizing: border-box;top: 0;bottom: 0;left: 50%;z-index: 0;}#sk-container-id-1 div.sk-serial {display: flex;flex-direction: column;align-items: center;background-color: white;padding-right: 0.2em;padding-left: 0.2em;position: relative;}#sk-container-id-1 div.sk-item {position: relative;z-index: 1;}#sk-container-id-1 div.sk-parallel {display: flex;align-items: stretch;justify-content: center;background-color: white;position: relative;}#sk-container-id-1 div.sk-item::before, #sk-container-id-1 div.sk-parallel-item::before {content: \"\";position: absolute;border-left: 1px solid gray;box-sizing: border-box;top: 0;bottom: 0;left: 50%;z-index: -1;}#sk-container-id-1 div.sk-parallel-item {display: flex;flex-direction: column;z-index: 1;position: relative;background-color: white;}#sk-container-id-1 div.sk-parallel-item:first-child::after {align-self: flex-end;width: 50%;}#sk-container-id-1 div.sk-parallel-item:last-child::after {align-self: flex-start;width: 50%;}#sk-container-id-1 div.sk-parallel-item:only-child::after {width: 0;}#sk-container-id-1 div.sk-dashed-wrapped {border: 1px dashed gray;margin: 0 0.4em 0.5em 0.4em;box-sizing: border-box;padding-bottom: 0.4em;background-color: white;}#sk-container-id-1 div.sk-label label {font-family: monospace;font-weight: bold;display: inline-block;line-height: 1.2em;}#sk-container-id-1 div.sk-label-container {text-align: center;}#sk-container-id-1 div.sk-container {/* jupyter's `normalize.less` sets `[hidden] { display: none; }` but bootstrap.min.css set `[hidden] { display: none !important; }` so we also need the `!important` here to be able to override the default hidden behavior on the sphinx rendered scikit-learn.org. See: https://github.com/scikit-learn/scikit-learn/issues/21755 */display: inline-block !important;position: relative;}#sk-container-id-1 div.sk-text-repr-fallback {display: none;}</style><div id=\"sk-container-id-1\" class=\"sk-top-container\"><div class=\"sk-text-repr-fallback\"><pre>LogisticRegression()</pre><b>In a Jupyter environment, please rerun this cell to show the HTML representation or trust the notebook. <br />On GitHub, the HTML representation is unable to render, please try loading this page with nbviewer.org.</b></div><div class=\"sk-container\" hidden><div class=\"sk-item\"><div class=\"sk-estimator sk-toggleable\"><input class=\"sk-toggleable__control sk-hidden--visually\" id=\"sk-estimator-id-1\" type=\"checkbox\" checked><label for=\"sk-estimator-id-1\" class=\"sk-toggleable__label sk-toggleable__label-arrow\">LogisticRegression</label><div class=\"sk-toggleable__content\"><pre>LogisticRegression()</pre></div></div></div></div></div>"
            ]
          },
          "metadata": {},
          "execution_count": 50
        }
      ]
    },
    {
      "cell_type": "code",
      "source": [
        "y_pred = lr.predict(X_test)"
      ],
      "metadata": {
        "execution": {
          "iopub.status.busy": "2024-04-20T12:15:24.308089Z",
          "iopub.execute_input": "2024-04-20T12:15:24.308462Z",
          "iopub.status.idle": "2024-04-20T12:15:24.370119Z",
          "shell.execute_reply.started": "2024-04-20T12:15:24.308434Z",
          "shell.execute_reply": "2024-04-20T12:15:24.368438Z"
        },
        "trusted": true,
        "id": "HHeQ86Njf9tg"
      },
      "execution_count": 51,
      "outputs": []
    },
    {
      "cell_type": "code",
      "source": [
        "from sklearn.metrics import accuracy_score,confusion_matrix,classification_report\n",
        "print('Accuracy:',accuracy_score(Y_test,y_pred))\n",
        "print(\"Conf_matrix:\",confusion_matrix(Y_test, y_pred))\n",
        "print(\"Classification report:\",classification_report(Y_test, y_pred))"
      ],
      "metadata": {
        "execution": {
          "iopub.status.busy": "2024-04-20T12:16:01.798460Z",
          "iopub.execute_input": "2024-04-20T12:16:01.798870Z",
          "iopub.status.idle": "2024-04-20T12:16:01.915048Z",
          "shell.execute_reply.started": "2024-04-20T12:16:01.798841Z",
          "shell.execute_reply": "2024-04-20T12:16:01.914089Z"
        },
        "trusted": true,
        "colab": {
          "base_uri": "https://localhost:8080/"
        },
        "id": "B-K8BfMWf9th",
        "outputId": "14f28c08-2a8b-4017-827b-a1223bb75290"
      },
      "execution_count": 52,
      "outputs": [
        {
          "output_type": "stream",
          "name": "stdout",
          "text": [
            "Accuracy: 0.28141155315801303\n",
            "Conf_matrix: [[   0  137   17    0    0    0    0   35    0]\n",
            " [   0 4285  616    0    0    0    0 1271    0]\n",
            " [   0 3087  651    0    0    0    0 1210    0]\n",
            " [   0  258   41    0    0    0    0  116    0]\n",
            " [   0  940  128    0    0    0    0  211    0]\n",
            " [   0   72   41    0    0    0    0   21    0]\n",
            " [   0  168   24    0    0    0    0   32    0]\n",
            " [   0 2902  464    0    0    0    0 1324    0]\n",
            " [   0 2764  529    0    0    0    0  901    0]]\n",
            "Classification report:               precision    recall  f1-score   support\n",
            "\n",
            "           0       0.00      0.00      0.00       189\n",
            "           1       0.29      0.69      0.41      6172\n",
            "           2       0.26      0.13      0.17      4948\n",
            "           3       0.00      0.00      0.00       415\n",
            "           4       0.00      0.00      0.00      1279\n",
            "           5       0.00      0.00      0.00       134\n",
            "           6       0.00      0.00      0.00       224\n",
            "           7       0.26      0.28      0.27      4690\n",
            "           8       0.00      0.00      0.00      4194\n",
            "\n",
            "    accuracy                           0.28     22245\n",
            "   macro avg       0.09      0.12      0.10     22245\n",
            "weighted avg       0.19      0.28      0.21     22245\n",
            "\n"
          ]
        },
        {
          "output_type": "stream",
          "name": "stderr",
          "text": [
            "/usr/local/lib/python3.10/dist-packages/sklearn/metrics/_classification.py:1344: UndefinedMetricWarning: Precision and F-score are ill-defined and being set to 0.0 in labels with no predicted samples. Use `zero_division` parameter to control this behavior.\n",
            "  _warn_prf(average, modifier, msg_start, len(result))\n",
            "/usr/local/lib/python3.10/dist-packages/sklearn/metrics/_classification.py:1344: UndefinedMetricWarning: Precision and F-score are ill-defined and being set to 0.0 in labels with no predicted samples. Use `zero_division` parameter to control this behavior.\n",
            "  _warn_prf(average, modifier, msg_start, len(result))\n",
            "/usr/local/lib/python3.10/dist-packages/sklearn/metrics/_classification.py:1344: UndefinedMetricWarning: Precision and F-score are ill-defined and being set to 0.0 in labels with no predicted samples. Use `zero_division` parameter to control this behavior.\n",
            "  _warn_prf(average, modifier, msg_start, len(result))\n"
          ]
        }
      ]
    },
    {
      "cell_type": "code",
      "source": [
        "# from sklearn.svm import SVC\n",
        "# sv_classifier = SVC(C=1.0,kernel='linear',degree=3,gamma='scale',random_state=42)\n",
        "# sv_classifier.fit(X_train, Y_train)\n",
        "# y_pred = classifier.predict(X_test)\n",
        "# accuracy = accuracy_score(Y_test, y_pred)\n",
        "# print(\"Accuracy:\", accuracy)"
      ],
      "metadata": {
        "execution": {
          "iopub.status.busy": "2024-04-20T12:16:08.717825Z",
          "iopub.execute_input": "2024-04-20T12:16:08.718584Z",
          "iopub.status.idle": "2024-04-20T12:16:08.722511Z",
          "shell.execute_reply.started": "2024-04-20T12:16:08.718550Z",
          "shell.execute_reply": "2024-04-20T12:16:08.721568Z"
        },
        "trusted": true,
        "id": "aZhkPNm_f9ti"
      },
      "execution_count": 53,
      "outputs": []
    },
    {
      "cell_type": "markdown",
      "source": [
        "### Decision Tree"
      ],
      "metadata": {
        "id": "ny_yzdkBf9ti"
      }
    },
    {
      "cell_type": "code",
      "source": [
        "from sklearn.tree import DecisionTreeClassifier\n",
        "dt_classifier=DecisionTreeClassifier(max_depth=3, min_samples_split=2, min_samples_leaf=1, random_state=42)\n",
        "dt_classifier.fit(X_train,Y_train)\n"
      ],
      "metadata": {
        "execution": {
          "iopub.status.busy": "2024-04-20T12:16:48.944122Z",
          "iopub.execute_input": "2024-04-20T12:16:48.944774Z",
          "iopub.status.idle": "2024-04-20T12:16:50.624251Z",
          "shell.execute_reply.started": "2024-04-20T12:16:48.944743Z",
          "shell.execute_reply": "2024-04-20T12:16:50.623404Z"
        },
        "trusted": true,
        "colab": {
          "base_uri": "https://localhost:8080/",
          "height": 74
        },
        "id": "lt-hjtIOf9ti",
        "outputId": "ba67ad2b-d594-4768-90da-e886db5909ff"
      },
      "execution_count": 54,
      "outputs": [
        {
          "output_type": "execute_result",
          "data": {
            "text/plain": [
              "DecisionTreeClassifier(max_depth=3, random_state=42)"
            ],
            "text/html": [
              "<style>#sk-container-id-2 {color: black;background-color: white;}#sk-container-id-2 pre{padding: 0;}#sk-container-id-2 div.sk-toggleable {background-color: white;}#sk-container-id-2 label.sk-toggleable__label {cursor: pointer;display: block;width: 100%;margin-bottom: 0;padding: 0.3em;box-sizing: border-box;text-align: center;}#sk-container-id-2 label.sk-toggleable__label-arrow:before {content: \"▸\";float: left;margin-right: 0.25em;color: #696969;}#sk-container-id-2 label.sk-toggleable__label-arrow:hover:before {color: black;}#sk-container-id-2 div.sk-estimator:hover label.sk-toggleable__label-arrow:before {color: black;}#sk-container-id-2 div.sk-toggleable__content {max-height: 0;max-width: 0;overflow: hidden;text-align: left;background-color: #f0f8ff;}#sk-container-id-2 div.sk-toggleable__content pre {margin: 0.2em;color: black;border-radius: 0.25em;background-color: #f0f8ff;}#sk-container-id-2 input.sk-toggleable__control:checked~div.sk-toggleable__content {max-height: 200px;max-width: 100%;overflow: auto;}#sk-container-id-2 input.sk-toggleable__control:checked~label.sk-toggleable__label-arrow:before {content: \"▾\";}#sk-container-id-2 div.sk-estimator input.sk-toggleable__control:checked~label.sk-toggleable__label {background-color: #d4ebff;}#sk-container-id-2 div.sk-label input.sk-toggleable__control:checked~label.sk-toggleable__label {background-color: #d4ebff;}#sk-container-id-2 input.sk-hidden--visually {border: 0;clip: rect(1px 1px 1px 1px);clip: rect(1px, 1px, 1px, 1px);height: 1px;margin: -1px;overflow: hidden;padding: 0;position: absolute;width: 1px;}#sk-container-id-2 div.sk-estimator {font-family: monospace;background-color: #f0f8ff;border: 1px dotted black;border-radius: 0.25em;box-sizing: border-box;margin-bottom: 0.5em;}#sk-container-id-2 div.sk-estimator:hover {background-color: #d4ebff;}#sk-container-id-2 div.sk-parallel-item::after {content: \"\";width: 100%;border-bottom: 1px solid gray;flex-grow: 1;}#sk-container-id-2 div.sk-label:hover label.sk-toggleable__label {background-color: #d4ebff;}#sk-container-id-2 div.sk-serial::before {content: \"\";position: absolute;border-left: 1px solid gray;box-sizing: border-box;top: 0;bottom: 0;left: 50%;z-index: 0;}#sk-container-id-2 div.sk-serial {display: flex;flex-direction: column;align-items: center;background-color: white;padding-right: 0.2em;padding-left: 0.2em;position: relative;}#sk-container-id-2 div.sk-item {position: relative;z-index: 1;}#sk-container-id-2 div.sk-parallel {display: flex;align-items: stretch;justify-content: center;background-color: white;position: relative;}#sk-container-id-2 div.sk-item::before, #sk-container-id-2 div.sk-parallel-item::before {content: \"\";position: absolute;border-left: 1px solid gray;box-sizing: border-box;top: 0;bottom: 0;left: 50%;z-index: -1;}#sk-container-id-2 div.sk-parallel-item {display: flex;flex-direction: column;z-index: 1;position: relative;background-color: white;}#sk-container-id-2 div.sk-parallel-item:first-child::after {align-self: flex-end;width: 50%;}#sk-container-id-2 div.sk-parallel-item:last-child::after {align-self: flex-start;width: 50%;}#sk-container-id-2 div.sk-parallel-item:only-child::after {width: 0;}#sk-container-id-2 div.sk-dashed-wrapped {border: 1px dashed gray;margin: 0 0.4em 0.5em 0.4em;box-sizing: border-box;padding-bottom: 0.4em;background-color: white;}#sk-container-id-2 div.sk-label label {font-family: monospace;font-weight: bold;display: inline-block;line-height: 1.2em;}#sk-container-id-2 div.sk-label-container {text-align: center;}#sk-container-id-2 div.sk-container {/* jupyter's `normalize.less` sets `[hidden] { display: none; }` but bootstrap.min.css set `[hidden] { display: none !important; }` so we also need the `!important` here to be able to override the default hidden behavior on the sphinx rendered scikit-learn.org. See: https://github.com/scikit-learn/scikit-learn/issues/21755 */display: inline-block !important;position: relative;}#sk-container-id-2 div.sk-text-repr-fallback {display: none;}</style><div id=\"sk-container-id-2\" class=\"sk-top-container\"><div class=\"sk-text-repr-fallback\"><pre>DecisionTreeClassifier(max_depth=3, random_state=42)</pre><b>In a Jupyter environment, please rerun this cell to show the HTML representation or trust the notebook. <br />On GitHub, the HTML representation is unable to render, please try loading this page with nbviewer.org.</b></div><div class=\"sk-container\" hidden><div class=\"sk-item\"><div class=\"sk-estimator sk-toggleable\"><input class=\"sk-toggleable__control sk-hidden--visually\" id=\"sk-estimator-id-2\" type=\"checkbox\" checked><label for=\"sk-estimator-id-2\" class=\"sk-toggleable__label sk-toggleable__label-arrow\">DecisionTreeClassifier</label><div class=\"sk-toggleable__content\"><pre>DecisionTreeClassifier(max_depth=3, random_state=42)</pre></div></div></div></div></div>"
            ]
          },
          "metadata": {},
          "execution_count": 54
        }
      ]
    },
    {
      "cell_type": "code",
      "source": [
        "y_pred = dt_classifier.predict(X_test)\n",
        "print(\"Accuracy:\",accuracy_score(Y_test,y_pred))\n"
      ],
      "metadata": {
        "execution": {
          "iopub.status.busy": "2024-04-20T12:17:16.822990Z",
          "iopub.execute_input": "2024-04-20T12:17:16.823801Z",
          "iopub.status.idle": "2024-04-20T12:17:16.875942Z",
          "shell.execute_reply.started": "2024-04-20T12:17:16.823767Z",
          "shell.execute_reply": "2024-04-20T12:17:16.874958Z"
        },
        "trusted": true,
        "colab": {
          "base_uri": "https://localhost:8080/"
        },
        "id": "DWkodRXUf9tj",
        "outputId": "b3f3534d-e758-4eed-9bcc-3612bda6cf26"
      },
      "execution_count": 55,
      "outputs": [
        {
          "output_type": "stream",
          "name": "stdout",
          "text": [
            "Accuracy: 0.31665542818610926\n"
          ]
        }
      ]
    },
    {
      "cell_type": "markdown",
      "source": [
        "## Random Forest"
      ],
      "metadata": {
        "id": "XVE3wJrMf9tj"
      }
    },
    {
      "cell_type": "code",
      "source": [
        "from sklearn.ensemble import RandomForestClassifier\n",
        "rf_classifier=RandomForestClassifier(n_estimators=100,random_state=42)\n",
        "rf_classifier.fit(X_train,Y_train)"
      ],
      "metadata": {
        "execution": {
          "iopub.status.busy": "2024-04-20T12:17:25.563211Z",
          "iopub.execute_input": "2024-04-20T12:17:25.563600Z",
          "iopub.status.idle": "2024-04-20T12:20:31.256361Z",
          "shell.execute_reply.started": "2024-04-20T12:17:25.563571Z",
          "shell.execute_reply": "2024-04-20T12:20:31.255108Z"
        },
        "trusted": true,
        "colab": {
          "base_uri": "https://localhost:8080/",
          "height": 74
        },
        "id": "n7VV3FmMf9tk",
        "outputId": "5da58f58-d7c5-463f-ab5e-60b5b1d45e49"
      },
      "execution_count": 56,
      "outputs": [
        {
          "output_type": "execute_result",
          "data": {
            "text/plain": [
              "RandomForestClassifier(random_state=42)"
            ],
            "text/html": [
              "<style>#sk-container-id-3 {color: black;background-color: white;}#sk-container-id-3 pre{padding: 0;}#sk-container-id-3 div.sk-toggleable {background-color: white;}#sk-container-id-3 label.sk-toggleable__label {cursor: pointer;display: block;width: 100%;margin-bottom: 0;padding: 0.3em;box-sizing: border-box;text-align: center;}#sk-container-id-3 label.sk-toggleable__label-arrow:before {content: \"▸\";float: left;margin-right: 0.25em;color: #696969;}#sk-container-id-3 label.sk-toggleable__label-arrow:hover:before {color: black;}#sk-container-id-3 div.sk-estimator:hover label.sk-toggleable__label-arrow:before {color: black;}#sk-container-id-3 div.sk-toggleable__content {max-height: 0;max-width: 0;overflow: hidden;text-align: left;background-color: #f0f8ff;}#sk-container-id-3 div.sk-toggleable__content pre {margin: 0.2em;color: black;border-radius: 0.25em;background-color: #f0f8ff;}#sk-container-id-3 input.sk-toggleable__control:checked~div.sk-toggleable__content {max-height: 200px;max-width: 100%;overflow: auto;}#sk-container-id-3 input.sk-toggleable__control:checked~label.sk-toggleable__label-arrow:before {content: \"▾\";}#sk-container-id-3 div.sk-estimator input.sk-toggleable__control:checked~label.sk-toggleable__label {background-color: #d4ebff;}#sk-container-id-3 div.sk-label input.sk-toggleable__control:checked~label.sk-toggleable__label {background-color: #d4ebff;}#sk-container-id-3 input.sk-hidden--visually {border: 0;clip: rect(1px 1px 1px 1px);clip: rect(1px, 1px, 1px, 1px);height: 1px;margin: -1px;overflow: hidden;padding: 0;position: absolute;width: 1px;}#sk-container-id-3 div.sk-estimator {font-family: monospace;background-color: #f0f8ff;border: 1px dotted black;border-radius: 0.25em;box-sizing: border-box;margin-bottom: 0.5em;}#sk-container-id-3 div.sk-estimator:hover {background-color: #d4ebff;}#sk-container-id-3 div.sk-parallel-item::after {content: \"\";width: 100%;border-bottom: 1px solid gray;flex-grow: 1;}#sk-container-id-3 div.sk-label:hover label.sk-toggleable__label {background-color: #d4ebff;}#sk-container-id-3 div.sk-serial::before {content: \"\";position: absolute;border-left: 1px solid gray;box-sizing: border-box;top: 0;bottom: 0;left: 50%;z-index: 0;}#sk-container-id-3 div.sk-serial {display: flex;flex-direction: column;align-items: center;background-color: white;padding-right: 0.2em;padding-left: 0.2em;position: relative;}#sk-container-id-3 div.sk-item {position: relative;z-index: 1;}#sk-container-id-3 div.sk-parallel {display: flex;align-items: stretch;justify-content: center;background-color: white;position: relative;}#sk-container-id-3 div.sk-item::before, #sk-container-id-3 div.sk-parallel-item::before {content: \"\";position: absolute;border-left: 1px solid gray;box-sizing: border-box;top: 0;bottom: 0;left: 50%;z-index: -1;}#sk-container-id-3 div.sk-parallel-item {display: flex;flex-direction: column;z-index: 1;position: relative;background-color: white;}#sk-container-id-3 div.sk-parallel-item:first-child::after {align-self: flex-end;width: 50%;}#sk-container-id-3 div.sk-parallel-item:last-child::after {align-self: flex-start;width: 50%;}#sk-container-id-3 div.sk-parallel-item:only-child::after {width: 0;}#sk-container-id-3 div.sk-dashed-wrapped {border: 1px dashed gray;margin: 0 0.4em 0.5em 0.4em;box-sizing: border-box;padding-bottom: 0.4em;background-color: white;}#sk-container-id-3 div.sk-label label {font-family: monospace;font-weight: bold;display: inline-block;line-height: 1.2em;}#sk-container-id-3 div.sk-label-container {text-align: center;}#sk-container-id-3 div.sk-container {/* jupyter's `normalize.less` sets `[hidden] { display: none; }` but bootstrap.min.css set `[hidden] { display: none !important; }` so we also need the `!important` here to be able to override the default hidden behavior on the sphinx rendered scikit-learn.org. See: https://github.com/scikit-learn/scikit-learn/issues/21755 */display: inline-block !important;position: relative;}#sk-container-id-3 div.sk-text-repr-fallback {display: none;}</style><div id=\"sk-container-id-3\" class=\"sk-top-container\"><div class=\"sk-text-repr-fallback\"><pre>RandomForestClassifier(random_state=42)</pre><b>In a Jupyter environment, please rerun this cell to show the HTML representation or trust the notebook. <br />On GitHub, the HTML representation is unable to render, please try loading this page with nbviewer.org.</b></div><div class=\"sk-container\" hidden><div class=\"sk-item\"><div class=\"sk-estimator sk-toggleable\"><input class=\"sk-toggleable__control sk-hidden--visually\" id=\"sk-estimator-id-3\" type=\"checkbox\" checked><label for=\"sk-estimator-id-3\" class=\"sk-toggleable__label sk-toggleable__label-arrow\">RandomForestClassifier</label><div class=\"sk-toggleable__content\"><pre>RandomForestClassifier(random_state=42)</pre></div></div></div></div></div>"
            ]
          },
          "metadata": {},
          "execution_count": 56
        }
      ]
    },
    {
      "cell_type": "code",
      "source": [
        "y_pred = rf_classifier.predict(X_test)\n",
        "print(\"Accuracy:\",accuracy_score(Y_test,y_pred))"
      ],
      "metadata": {
        "execution": {
          "iopub.status.busy": "2024-04-20T12:20:31.258251Z",
          "iopub.execute_input": "2024-04-20T12:20:31.258585Z",
          "iopub.status.idle": "2024-04-20T12:20:46.969120Z",
          "shell.execute_reply.started": "2024-04-20T12:20:31.258550Z",
          "shell.execute_reply": "2024-04-20T12:20:46.968175Z"
        },
        "trusted": true,
        "colab": {
          "base_uri": "https://localhost:8080/"
        },
        "id": "phuztJ39f9tk",
        "outputId": "e8ec692f-b00d-45df-c78d-9cac96825923"
      },
      "execution_count": 57,
      "outputs": [
        {
          "output_type": "stream",
          "name": "stdout",
          "text": [
            "Accuracy: 0.3858844684198696\n"
          ]
        }
      ]
    },
    {
      "cell_type": "markdown",
      "source": [
        "## Gradient Boosting"
      ],
      "metadata": {
        "id": "qTebVeWMf9tl"
      }
    },
    {
      "cell_type": "code",
      "source": [
        "from sklearn.ensemble import GradientBoostingClassifier\n",
        "gb_classifier = GradientBoostingClassifier()\n",
        "gb_classifier.fit(X_train,Y_train)\n"
      ],
      "metadata": {
        "execution": {
          "iopub.status.busy": "2024-04-20T12:29:06.053868Z",
          "iopub.execute_input": "2024-04-20T12:29:06.054218Z",
          "iopub.status.idle": "2024-04-20T12:39:08.918463Z",
          "shell.execute_reply.started": "2024-04-20T12:29:06.054190Z",
          "shell.execute_reply": "2024-04-20T12:39:08.917448Z"
        },
        "trusted": true,
        "colab": {
          "base_uri": "https://localhost:8080/",
          "height": 74
        },
        "id": "xZqadriMf9tm",
        "outputId": "d9058f89-f175-4063-a583-0b71f51bb7ab"
      },
      "execution_count": 58,
      "outputs": [
        {
          "output_type": "execute_result",
          "data": {
            "text/plain": [
              "GradientBoostingClassifier()"
            ],
            "text/html": [
              "<style>#sk-container-id-4 {color: black;background-color: white;}#sk-container-id-4 pre{padding: 0;}#sk-container-id-4 div.sk-toggleable {background-color: white;}#sk-container-id-4 label.sk-toggleable__label {cursor: pointer;display: block;width: 100%;margin-bottom: 0;padding: 0.3em;box-sizing: border-box;text-align: center;}#sk-container-id-4 label.sk-toggleable__label-arrow:before {content: \"▸\";float: left;margin-right: 0.25em;color: #696969;}#sk-container-id-4 label.sk-toggleable__label-arrow:hover:before {color: black;}#sk-container-id-4 div.sk-estimator:hover label.sk-toggleable__label-arrow:before {color: black;}#sk-container-id-4 div.sk-toggleable__content {max-height: 0;max-width: 0;overflow: hidden;text-align: left;background-color: #f0f8ff;}#sk-container-id-4 div.sk-toggleable__content pre {margin: 0.2em;color: black;border-radius: 0.25em;background-color: #f0f8ff;}#sk-container-id-4 input.sk-toggleable__control:checked~div.sk-toggleable__content {max-height: 200px;max-width: 100%;overflow: auto;}#sk-container-id-4 input.sk-toggleable__control:checked~label.sk-toggleable__label-arrow:before {content: \"▾\";}#sk-container-id-4 div.sk-estimator input.sk-toggleable__control:checked~label.sk-toggleable__label {background-color: #d4ebff;}#sk-container-id-4 div.sk-label input.sk-toggleable__control:checked~label.sk-toggleable__label {background-color: #d4ebff;}#sk-container-id-4 input.sk-hidden--visually {border: 0;clip: rect(1px 1px 1px 1px);clip: rect(1px, 1px, 1px, 1px);height: 1px;margin: -1px;overflow: hidden;padding: 0;position: absolute;width: 1px;}#sk-container-id-4 div.sk-estimator {font-family: monospace;background-color: #f0f8ff;border: 1px dotted black;border-radius: 0.25em;box-sizing: border-box;margin-bottom: 0.5em;}#sk-container-id-4 div.sk-estimator:hover {background-color: #d4ebff;}#sk-container-id-4 div.sk-parallel-item::after {content: \"\";width: 100%;border-bottom: 1px solid gray;flex-grow: 1;}#sk-container-id-4 div.sk-label:hover label.sk-toggleable__label {background-color: #d4ebff;}#sk-container-id-4 div.sk-serial::before {content: \"\";position: absolute;border-left: 1px solid gray;box-sizing: border-box;top: 0;bottom: 0;left: 50%;z-index: 0;}#sk-container-id-4 div.sk-serial {display: flex;flex-direction: column;align-items: center;background-color: white;padding-right: 0.2em;padding-left: 0.2em;position: relative;}#sk-container-id-4 div.sk-item {position: relative;z-index: 1;}#sk-container-id-4 div.sk-parallel {display: flex;align-items: stretch;justify-content: center;background-color: white;position: relative;}#sk-container-id-4 div.sk-item::before, #sk-container-id-4 div.sk-parallel-item::before {content: \"\";position: absolute;border-left: 1px solid gray;box-sizing: border-box;top: 0;bottom: 0;left: 50%;z-index: -1;}#sk-container-id-4 div.sk-parallel-item {display: flex;flex-direction: column;z-index: 1;position: relative;background-color: white;}#sk-container-id-4 div.sk-parallel-item:first-child::after {align-self: flex-end;width: 50%;}#sk-container-id-4 div.sk-parallel-item:last-child::after {align-self: flex-start;width: 50%;}#sk-container-id-4 div.sk-parallel-item:only-child::after {width: 0;}#sk-container-id-4 div.sk-dashed-wrapped {border: 1px dashed gray;margin: 0 0.4em 0.5em 0.4em;box-sizing: border-box;padding-bottom: 0.4em;background-color: white;}#sk-container-id-4 div.sk-label label {font-family: monospace;font-weight: bold;display: inline-block;line-height: 1.2em;}#sk-container-id-4 div.sk-label-container {text-align: center;}#sk-container-id-4 div.sk-container {/* jupyter's `normalize.less` sets `[hidden] { display: none; }` but bootstrap.min.css set `[hidden] { display: none !important; }` so we also need the `!important` here to be able to override the default hidden behavior on the sphinx rendered scikit-learn.org. See: https://github.com/scikit-learn/scikit-learn/issues/21755 */display: inline-block !important;position: relative;}#sk-container-id-4 div.sk-text-repr-fallback {display: none;}</style><div id=\"sk-container-id-4\" class=\"sk-top-container\"><div class=\"sk-text-repr-fallback\"><pre>GradientBoostingClassifier()</pre><b>In a Jupyter environment, please rerun this cell to show the HTML representation or trust the notebook. <br />On GitHub, the HTML representation is unable to render, please try loading this page with nbviewer.org.</b></div><div class=\"sk-container\" hidden><div class=\"sk-item\"><div class=\"sk-estimator sk-toggleable\"><input class=\"sk-toggleable__control sk-hidden--visually\" id=\"sk-estimator-id-4\" type=\"checkbox\" checked><label for=\"sk-estimator-id-4\" class=\"sk-toggleable__label sk-toggleable__label-arrow\">GradientBoostingClassifier</label><div class=\"sk-toggleable__content\"><pre>GradientBoostingClassifier()</pre></div></div></div></div></div>"
            ]
          },
          "metadata": {},
          "execution_count": 58
        }
      ]
    },
    {
      "cell_type": "code",
      "source": [
        "y_pred = gb_classifier.predict(X_test)\n",
        "print(\"Accuracy:\",accuracy_score(Y_test,y_pred))"
      ],
      "metadata": {
        "execution": {
          "iopub.status.busy": "2024-04-20T12:39:20.459806Z",
          "iopub.execute_input": "2024-04-20T12:39:20.460182Z",
          "iopub.status.idle": "2024-04-20T12:39:22.712680Z",
          "shell.execute_reply.started": "2024-04-20T12:39:20.460153Z",
          "shell.execute_reply": "2024-04-20T12:39:22.711697Z"
        },
        "trusted": true,
        "colab": {
          "base_uri": "https://localhost:8080/"
        },
        "id": "G4-XDzL6f9tm",
        "outputId": "8553968d-fddc-46d7-9304-b1abbffc1bea"
      },
      "execution_count": 59,
      "outputs": [
        {
          "output_type": "stream",
          "name": "stdout",
          "text": [
            "Accuracy: 0.41645313553607555\n"
          ]
        }
      ]
    },
    {
      "cell_type": "code",
      "source": [],
      "metadata": {
        "id": "jN_r-_egf9tn"
      },
      "execution_count": 59,
      "outputs": []
    },
    {
      "cell_type": "markdown",
      "source": [
        "## Xg Boost"
      ],
      "metadata": {
        "id": "oQVPhUFmf9tn"
      }
    },
    {
      "cell_type": "code",
      "source": [
        "import xgboost as xgb\n",
        "xg_classifier = xgb.XGBClassifier()\n",
        "xg_classifier.fit(X_train,Y_train)\n"
      ],
      "metadata": {
        "execution": {
          "iopub.status.busy": "2024-04-20T12:44:22.609462Z",
          "iopub.execute_input": "2024-04-20T12:44:22.610274Z",
          "iopub.status.idle": "2024-04-20T12:44:47.972857Z",
          "shell.execute_reply.started": "2024-04-20T12:44:22.610243Z",
          "shell.execute_reply": "2024-04-20T12:44:47.971827Z"
        },
        "trusted": true,
        "colab": {
          "base_uri": "https://localhost:8080/",
          "height": 248
        },
        "id": "xmASfw0uf9to",
        "outputId": "ea4865a3-8588-47d8-bb66-43a902b85701"
      },
      "execution_count": 60,
      "outputs": [
        {
          "output_type": "execute_result",
          "data": {
            "text/plain": [
              "XGBClassifier(base_score=None, booster=None, callbacks=None,\n",
              "              colsample_bylevel=None, colsample_bynode=None,\n",
              "              colsample_bytree=None, device=None, early_stopping_rounds=None,\n",
              "              enable_categorical=False, eval_metric=None, feature_types=None,\n",
              "              gamma=None, grow_policy=None, importance_type=None,\n",
              "              interaction_constraints=None, learning_rate=None, max_bin=None,\n",
              "              max_cat_threshold=None, max_cat_to_onehot=None,\n",
              "              max_delta_step=None, max_depth=None, max_leaves=None,\n",
              "              min_child_weight=None, missing=nan, monotone_constraints=None,\n",
              "              multi_strategy=None, n_estimators=None, n_jobs=None,\n",
              "              num_parallel_tree=None, objective='multi:softprob', ...)"
            ],
            "text/html": [
              "<style>#sk-container-id-5 {color: black;background-color: white;}#sk-container-id-5 pre{padding: 0;}#sk-container-id-5 div.sk-toggleable {background-color: white;}#sk-container-id-5 label.sk-toggleable__label {cursor: pointer;display: block;width: 100%;margin-bottom: 0;padding: 0.3em;box-sizing: border-box;text-align: center;}#sk-container-id-5 label.sk-toggleable__label-arrow:before {content: \"▸\";float: left;margin-right: 0.25em;color: #696969;}#sk-container-id-5 label.sk-toggleable__label-arrow:hover:before {color: black;}#sk-container-id-5 div.sk-estimator:hover label.sk-toggleable__label-arrow:before {color: black;}#sk-container-id-5 div.sk-toggleable__content {max-height: 0;max-width: 0;overflow: hidden;text-align: left;background-color: #f0f8ff;}#sk-container-id-5 div.sk-toggleable__content pre {margin: 0.2em;color: black;border-radius: 0.25em;background-color: #f0f8ff;}#sk-container-id-5 input.sk-toggleable__control:checked~div.sk-toggleable__content {max-height: 200px;max-width: 100%;overflow: auto;}#sk-container-id-5 input.sk-toggleable__control:checked~label.sk-toggleable__label-arrow:before {content: \"▾\";}#sk-container-id-5 div.sk-estimator input.sk-toggleable__control:checked~label.sk-toggleable__label {background-color: #d4ebff;}#sk-container-id-5 div.sk-label input.sk-toggleable__control:checked~label.sk-toggleable__label {background-color: #d4ebff;}#sk-container-id-5 input.sk-hidden--visually {border: 0;clip: rect(1px 1px 1px 1px);clip: rect(1px, 1px, 1px, 1px);height: 1px;margin: -1px;overflow: hidden;padding: 0;position: absolute;width: 1px;}#sk-container-id-5 div.sk-estimator {font-family: monospace;background-color: #f0f8ff;border: 1px dotted black;border-radius: 0.25em;box-sizing: border-box;margin-bottom: 0.5em;}#sk-container-id-5 div.sk-estimator:hover {background-color: #d4ebff;}#sk-container-id-5 div.sk-parallel-item::after {content: \"\";width: 100%;border-bottom: 1px solid gray;flex-grow: 1;}#sk-container-id-5 div.sk-label:hover label.sk-toggleable__label {background-color: #d4ebff;}#sk-container-id-5 div.sk-serial::before {content: \"\";position: absolute;border-left: 1px solid gray;box-sizing: border-box;top: 0;bottom: 0;left: 50%;z-index: 0;}#sk-container-id-5 div.sk-serial {display: flex;flex-direction: column;align-items: center;background-color: white;padding-right: 0.2em;padding-left: 0.2em;position: relative;}#sk-container-id-5 div.sk-item {position: relative;z-index: 1;}#sk-container-id-5 div.sk-parallel {display: flex;align-items: stretch;justify-content: center;background-color: white;position: relative;}#sk-container-id-5 div.sk-item::before, #sk-container-id-5 div.sk-parallel-item::before {content: \"\";position: absolute;border-left: 1px solid gray;box-sizing: border-box;top: 0;bottom: 0;left: 50%;z-index: -1;}#sk-container-id-5 div.sk-parallel-item {display: flex;flex-direction: column;z-index: 1;position: relative;background-color: white;}#sk-container-id-5 div.sk-parallel-item:first-child::after {align-self: flex-end;width: 50%;}#sk-container-id-5 div.sk-parallel-item:last-child::after {align-self: flex-start;width: 50%;}#sk-container-id-5 div.sk-parallel-item:only-child::after {width: 0;}#sk-container-id-5 div.sk-dashed-wrapped {border: 1px dashed gray;margin: 0 0.4em 0.5em 0.4em;box-sizing: border-box;padding-bottom: 0.4em;background-color: white;}#sk-container-id-5 div.sk-label label {font-family: monospace;font-weight: bold;display: inline-block;line-height: 1.2em;}#sk-container-id-5 div.sk-label-container {text-align: center;}#sk-container-id-5 div.sk-container {/* jupyter's `normalize.less` sets `[hidden] { display: none; }` but bootstrap.min.css set `[hidden] { display: none !important; }` so we also need the `!important` here to be able to override the default hidden behavior on the sphinx rendered scikit-learn.org. See: https://github.com/scikit-learn/scikit-learn/issues/21755 */display: inline-block !important;position: relative;}#sk-container-id-5 div.sk-text-repr-fallback {display: none;}</style><div id=\"sk-container-id-5\" class=\"sk-top-container\"><div class=\"sk-text-repr-fallback\"><pre>XGBClassifier(base_score=None, booster=None, callbacks=None,\n",
              "              colsample_bylevel=None, colsample_bynode=None,\n",
              "              colsample_bytree=None, device=None, early_stopping_rounds=None,\n",
              "              enable_categorical=False, eval_metric=None, feature_types=None,\n",
              "              gamma=None, grow_policy=None, importance_type=None,\n",
              "              interaction_constraints=None, learning_rate=None, max_bin=None,\n",
              "              max_cat_threshold=None, max_cat_to_onehot=None,\n",
              "              max_delta_step=None, max_depth=None, max_leaves=None,\n",
              "              min_child_weight=None, missing=nan, monotone_constraints=None,\n",
              "              multi_strategy=None, n_estimators=None, n_jobs=None,\n",
              "              num_parallel_tree=None, objective=&#x27;multi:softprob&#x27;, ...)</pre><b>In a Jupyter environment, please rerun this cell to show the HTML representation or trust the notebook. <br />On GitHub, the HTML representation is unable to render, please try loading this page with nbviewer.org.</b></div><div class=\"sk-container\" hidden><div class=\"sk-item\"><div class=\"sk-estimator sk-toggleable\"><input class=\"sk-toggleable__control sk-hidden--visually\" id=\"sk-estimator-id-5\" type=\"checkbox\" checked><label for=\"sk-estimator-id-5\" class=\"sk-toggleable__label sk-toggleable__label-arrow\">XGBClassifier</label><div class=\"sk-toggleable__content\"><pre>XGBClassifier(base_score=None, booster=None, callbacks=None,\n",
              "              colsample_bylevel=None, colsample_bynode=None,\n",
              "              colsample_bytree=None, device=None, early_stopping_rounds=None,\n",
              "              enable_categorical=False, eval_metric=None, feature_types=None,\n",
              "              gamma=None, grow_policy=None, importance_type=None,\n",
              "              interaction_constraints=None, learning_rate=None, max_bin=None,\n",
              "              max_cat_threshold=None, max_cat_to_onehot=None,\n",
              "              max_delta_step=None, max_depth=None, max_leaves=None,\n",
              "              min_child_weight=None, missing=nan, monotone_constraints=None,\n",
              "              multi_strategy=None, n_estimators=None, n_jobs=None,\n",
              "              num_parallel_tree=None, objective=&#x27;multi:softprob&#x27;, ...)</pre></div></div></div></div></div>"
            ]
          },
          "metadata": {},
          "execution_count": 60
        }
      ]
    },
    {
      "cell_type": "code",
      "source": [
        "y_pred = xg_classifier.predict(X_test)\n",
        "print(\"Accuracy:\",accuracy_score(Y_test,y_pred))"
      ],
      "metadata": {
        "execution": {
          "iopub.status.busy": "2024-04-20T12:45:25.769845Z",
          "iopub.execute_input": "2024-04-20T12:45:25.770740Z",
          "iopub.status.idle": "2024-04-20T12:45:27.133587Z",
          "shell.execute_reply.started": "2024-04-20T12:45:25.770704Z",
          "shell.execute_reply": "2024-04-20T12:45:27.132550Z"
        },
        "trusted": true,
        "colab": {
          "base_uri": "https://localhost:8080/"
        },
        "id": "1FsWTLvkf9to",
        "outputId": "f1c839cb-bd79-482e-ed83-3e8f60b257b0"
      },
      "execution_count": 61,
      "outputs": [
        {
          "output_type": "stream",
          "name": "stdout",
          "text": [
            "Accuracy: 0.4297145425938413\n"
          ]
        }
      ]
    },
    {
      "cell_type": "markdown",
      "source": [
        "## Cat Boost"
      ],
      "metadata": {
        "id": "gV2NKTxOf9tp"
      }
    },
    {
      "cell_type": "code",
      "source": [
        "pip install catboost"
      ],
      "metadata": {
        "execution": {
          "iopub.status.busy": "2024-04-20T12:49:52.605952Z",
          "iopub.execute_input": "2024-04-20T12:49:52.606713Z",
          "iopub.status.idle": "2024-04-20T12:50:07.147258Z",
          "shell.execute_reply.started": "2024-04-20T12:49:52.606678Z",
          "shell.execute_reply": "2024-04-20T12:50:07.145884Z"
        },
        "trusted": true,
        "colab": {
          "base_uri": "https://localhost:8080/"
        },
        "id": "x4bILqghf9tq",
        "outputId": "e39e07c4-351a-41d2-d4bb-591d0c172be0"
      },
      "execution_count": 62,
      "outputs": [
        {
          "output_type": "stream",
          "name": "stdout",
          "text": [
            "Collecting catboost\n",
            "  Downloading catboost-1.2.5-cp310-cp310-manylinux2014_x86_64.whl (98.2 MB)\n",
            "\u001b[2K     \u001b[90m━━━━━━━━━━━━━━━━━━━━━━━━━━━━━━━━━━━━━━━━\u001b[0m \u001b[32m98.2/98.2 MB\u001b[0m \u001b[31m10.3 MB/s\u001b[0m eta \u001b[36m0:00:00\u001b[0m\n",
            "\u001b[?25hRequirement already satisfied: graphviz in /usr/local/lib/python3.10/dist-packages (from catboost) (0.20.3)\n",
            "Requirement already satisfied: matplotlib in /usr/local/lib/python3.10/dist-packages (from catboost) (3.7.1)\n",
            "Requirement already satisfied: numpy>=1.16.0 in /usr/local/lib/python3.10/dist-packages (from catboost) (1.25.2)\n",
            "Requirement already satisfied: pandas>=0.24 in /usr/local/lib/python3.10/dist-packages (from catboost) (2.0.3)\n",
            "Requirement already satisfied: scipy in /usr/local/lib/python3.10/dist-packages (from catboost) (1.11.4)\n",
            "Requirement already satisfied: plotly in /usr/local/lib/python3.10/dist-packages (from catboost) (5.15.0)\n",
            "Requirement already satisfied: six in /usr/local/lib/python3.10/dist-packages (from catboost) (1.16.0)\n",
            "Requirement already satisfied: python-dateutil>=2.8.2 in /usr/local/lib/python3.10/dist-packages (from pandas>=0.24->catboost) (2.8.2)\n",
            "Requirement already satisfied: pytz>=2020.1 in /usr/local/lib/python3.10/dist-packages (from pandas>=0.24->catboost) (2023.4)\n",
            "Requirement already satisfied: tzdata>=2022.1 in /usr/local/lib/python3.10/dist-packages (from pandas>=0.24->catboost) (2024.1)\n",
            "Requirement already satisfied: contourpy>=1.0.1 in /usr/local/lib/python3.10/dist-packages (from matplotlib->catboost) (1.2.1)\n",
            "Requirement already satisfied: cycler>=0.10 in /usr/local/lib/python3.10/dist-packages (from matplotlib->catboost) (0.12.1)\n",
            "Requirement already satisfied: fonttools>=4.22.0 in /usr/local/lib/python3.10/dist-packages (from matplotlib->catboost) (4.51.0)\n",
            "Requirement already satisfied: kiwisolver>=1.0.1 in /usr/local/lib/python3.10/dist-packages (from matplotlib->catboost) (1.4.5)\n",
            "Requirement already satisfied: packaging>=20.0 in /usr/local/lib/python3.10/dist-packages (from matplotlib->catboost) (24.0)\n",
            "Requirement already satisfied: pillow>=6.2.0 in /usr/local/lib/python3.10/dist-packages (from matplotlib->catboost) (9.4.0)\n",
            "Requirement already satisfied: pyparsing>=2.3.1 in /usr/local/lib/python3.10/dist-packages (from matplotlib->catboost) (3.1.2)\n",
            "Requirement already satisfied: tenacity>=6.2.0 in /usr/local/lib/python3.10/dist-packages (from plotly->catboost) (8.2.3)\n",
            "Installing collected packages: catboost\n",
            "Successfully installed catboost-1.2.5\n"
          ]
        }
      ]
    },
    {
      "cell_type": "code",
      "source": [
        "from catboost import CatBoostClassifier\n",
        "cb_classifier = CatBoostClassifier(iterations=100,learning_rate=0.1,depth=3)\n",
        "cb_classifier.fit(X_train,Y_train)\n"
      ],
      "metadata": {
        "execution": {
          "iopub.status.busy": "2024-04-20T12:46:54.196734Z",
          "iopub.execute_input": "2024-04-20T12:46:54.197137Z",
          "iopub.status.idle": "2024-04-20T12:47:15.683696Z",
          "shell.execute_reply.started": "2024-04-20T12:46:54.197106Z",
          "shell.execute_reply": "2024-04-20T12:47:15.682825Z"
        },
        "trusted": true,
        "colab": {
          "base_uri": "https://localhost:8080/"
        },
        "id": "T25jSJIBf9tq",
        "outputId": "f02f9b9c-9823-4085-ad8d-fab4433d7cb1"
      },
      "execution_count": 63,
      "outputs": [
        {
          "output_type": "stream",
          "name": "stdout",
          "text": [
            "0:\tlearn: 2.0811754\ttotal: 255ms\tremaining: 25.2s\n",
            "1:\tlearn: 2.0028379\ttotal: 316ms\tremaining: 15.5s\n",
            "2:\tlearn: 1.9372896\ttotal: 368ms\tremaining: 11.9s\n",
            "3:\tlearn: 1.8825396\ttotal: 543ms\tremaining: 13s\n",
            "4:\tlearn: 1.8378119\ttotal: 658ms\tremaining: 12.5s\n",
            "5:\tlearn: 1.8017807\ttotal: 807ms\tremaining: 12.6s\n",
            "6:\tlearn: 1.7697169\ttotal: 965ms\tremaining: 12.8s\n",
            "7:\tlearn: 1.7427152\ttotal: 1.09s\tremaining: 12.5s\n",
            "8:\tlearn: 1.7199267\ttotal: 1.19s\tremaining: 12.1s\n",
            "9:\tlearn: 1.6992417\ttotal: 1.32s\tremaining: 11.9s\n",
            "10:\tlearn: 1.6803692\ttotal: 1.38s\tremaining: 11.2s\n",
            "11:\tlearn: 1.6659521\ttotal: 1.46s\tremaining: 10.7s\n",
            "12:\tlearn: 1.6513764\ttotal: 1.55s\tremaining: 10.4s\n",
            "13:\tlearn: 1.6395821\ttotal: 1.62s\tremaining: 9.97s\n",
            "14:\tlearn: 1.6286540\ttotal: 1.68s\tremaining: 9.55s\n",
            "15:\tlearn: 1.6208075\ttotal: 1.75s\tremaining: 9.2s\n",
            "16:\tlearn: 1.6130697\ttotal: 1.82s\tremaining: 8.91s\n",
            "17:\tlearn: 1.6055203\ttotal: 1.89s\tremaining: 8.61s\n",
            "18:\tlearn: 1.5992053\ttotal: 1.96s\tremaining: 8.37s\n",
            "19:\tlearn: 1.5934414\ttotal: 2.07s\tremaining: 8.29s\n",
            "20:\tlearn: 1.5880112\ttotal: 2.17s\tremaining: 8.15s\n",
            "21:\tlearn: 1.5832094\ttotal: 2.26s\tremaining: 8.02s\n",
            "22:\tlearn: 1.5791187\ttotal: 2.37s\tremaining: 7.95s\n",
            "23:\tlearn: 1.5748443\ttotal: 2.5s\tremaining: 7.92s\n",
            "24:\tlearn: 1.5708184\ttotal: 2.64s\tremaining: 7.91s\n",
            "25:\tlearn: 1.5685829\ttotal: 2.79s\tremaining: 7.93s\n",
            "26:\tlearn: 1.5652468\ttotal: 2.89s\tremaining: 7.8s\n",
            "27:\tlearn: 1.5623696\ttotal: 2.96s\tremaining: 7.62s\n",
            "28:\tlearn: 1.5598484\ttotal: 3.06s\tremaining: 7.49s\n",
            "29:\tlearn: 1.5579143\ttotal: 3.13s\tremaining: 7.31s\n",
            "30:\tlearn: 1.5562200\ttotal: 3.2s\tremaining: 7.13s\n",
            "31:\tlearn: 1.5550883\ttotal: 3.27s\tremaining: 6.96s\n",
            "32:\tlearn: 1.5534295\ttotal: 3.35s\tremaining: 6.79s\n",
            "33:\tlearn: 1.5517010\ttotal: 3.42s\tremaining: 6.65s\n",
            "34:\tlearn: 1.5502678\ttotal: 3.52s\tremaining: 6.54s\n",
            "35:\tlearn: 1.5478427\ttotal: 3.6s\tremaining: 6.41s\n",
            "36:\tlearn: 1.5471529\ttotal: 3.69s\tremaining: 6.28s\n",
            "37:\tlearn: 1.5460520\ttotal: 3.76s\tremaining: 6.13s\n",
            "38:\tlearn: 1.5447965\ttotal: 3.84s\tremaining: 6.01s\n",
            "39:\tlearn: 1.5439061\ttotal: 3.92s\tremaining: 5.87s\n",
            "40:\tlearn: 1.5427752\ttotal: 3.98s\tremaining: 5.73s\n",
            "41:\tlearn: 1.5409313\ttotal: 4.07s\tremaining: 5.62s\n",
            "42:\tlearn: 1.5396215\ttotal: 4.13s\tremaining: 5.47s\n",
            "43:\tlearn: 1.5391480\ttotal: 4.17s\tremaining: 5.31s\n",
            "44:\tlearn: 1.5388187\ttotal: 4.22s\tremaining: 5.15s\n",
            "45:\tlearn: 1.5379205\ttotal: 4.26s\tremaining: 5s\n",
            "46:\tlearn: 1.5359393\ttotal: 4.31s\tremaining: 4.86s\n",
            "47:\tlearn: 1.5353639\ttotal: 4.35s\tremaining: 4.71s\n",
            "48:\tlearn: 1.5343514\ttotal: 4.4s\tremaining: 4.58s\n",
            "49:\tlearn: 1.5334956\ttotal: 4.45s\tremaining: 4.45s\n",
            "50:\tlearn: 1.5321758\ttotal: 4.5s\tremaining: 4.32s\n",
            "51:\tlearn: 1.5311168\ttotal: 4.55s\tremaining: 4.2s\n",
            "52:\tlearn: 1.5307174\ttotal: 4.59s\tremaining: 4.07s\n",
            "53:\tlearn: 1.5298230\ttotal: 4.63s\tremaining: 3.95s\n",
            "54:\tlearn: 1.5291512\ttotal: 4.68s\tremaining: 3.83s\n",
            "55:\tlearn: 1.5283004\ttotal: 4.72s\tremaining: 3.71s\n",
            "56:\tlearn: 1.5270632\ttotal: 4.77s\tremaining: 3.6s\n",
            "57:\tlearn: 1.5264908\ttotal: 4.81s\tremaining: 3.48s\n",
            "58:\tlearn: 1.5261557\ttotal: 4.88s\tremaining: 3.39s\n",
            "59:\tlearn: 1.5252527\ttotal: 4.99s\tremaining: 3.33s\n",
            "60:\tlearn: 1.5244054\ttotal: 5.09s\tremaining: 3.25s\n",
            "61:\tlearn: 1.5240344\ttotal: 5.16s\tremaining: 3.17s\n",
            "62:\tlearn: 1.5232618\ttotal: 5.26s\tremaining: 3.09s\n",
            "63:\tlearn: 1.5226510\ttotal: 5.36s\tremaining: 3.02s\n",
            "64:\tlearn: 1.5214101\ttotal: 5.45s\tremaining: 2.94s\n",
            "65:\tlearn: 1.5209095\ttotal: 5.58s\tremaining: 2.87s\n",
            "66:\tlearn: 1.5203299\ttotal: 5.66s\tremaining: 2.79s\n",
            "67:\tlearn: 1.5196697\ttotal: 5.83s\tremaining: 2.74s\n",
            "68:\tlearn: 1.5193743\ttotal: 5.91s\tremaining: 2.65s\n",
            "69:\tlearn: 1.5185585\ttotal: 6s\tremaining: 2.57s\n",
            "70:\tlearn: 1.5176694\ttotal: 6.09s\tremaining: 2.49s\n",
            "71:\tlearn: 1.5172532\ttotal: 6.24s\tremaining: 2.42s\n",
            "72:\tlearn: 1.5169029\ttotal: 6.32s\tremaining: 2.34s\n",
            "73:\tlearn: 1.5165483\ttotal: 6.41s\tremaining: 2.25s\n",
            "74:\tlearn: 1.5155804\ttotal: 6.54s\tremaining: 2.18s\n",
            "75:\tlearn: 1.5153421\ttotal: 6.63s\tremaining: 2.09s\n",
            "76:\tlearn: 1.5147306\ttotal: 6.72s\tremaining: 2.01s\n",
            "77:\tlearn: 1.5141605\ttotal: 6.82s\tremaining: 1.92s\n",
            "78:\tlearn: 1.5140672\ttotal: 6.92s\tremaining: 1.84s\n",
            "79:\tlearn: 1.5135971\ttotal: 6.99s\tremaining: 1.75s\n",
            "80:\tlearn: 1.5132348\ttotal: 7.08s\tremaining: 1.66s\n",
            "81:\tlearn: 1.5126826\ttotal: 7.15s\tremaining: 1.57s\n",
            "82:\tlearn: 1.5117967\ttotal: 7.26s\tremaining: 1.49s\n",
            "83:\tlearn: 1.5111733\ttotal: 7.35s\tremaining: 1.4s\n",
            "84:\tlearn: 1.5107542\ttotal: 7.43s\tremaining: 1.31s\n",
            "85:\tlearn: 1.5099576\ttotal: 7.51s\tremaining: 1.22s\n",
            "86:\tlearn: 1.5094996\ttotal: 7.58s\tremaining: 1.13s\n",
            "87:\tlearn: 1.5089413\ttotal: 7.63s\tremaining: 1.04s\n",
            "88:\tlearn: 1.5086636\ttotal: 7.72s\tremaining: 954ms\n",
            "89:\tlearn: 1.5083264\ttotal: 7.81s\tremaining: 868ms\n",
            "90:\tlearn: 1.5081114\ttotal: 7.9s\tremaining: 781ms\n",
            "91:\tlearn: 1.5075201\ttotal: 7.99s\tremaining: 695ms\n",
            "92:\tlearn: 1.5072628\ttotal: 8.08s\tremaining: 608ms\n",
            "93:\tlearn: 1.5067760\ttotal: 8.17s\tremaining: 522ms\n",
            "94:\tlearn: 1.5063459\ttotal: 8.28s\tremaining: 436ms\n",
            "95:\tlearn: 1.5058697\ttotal: 8.4s\tremaining: 350ms\n",
            "96:\tlearn: 1.5057107\ttotal: 8.49s\tremaining: 263ms\n",
            "97:\tlearn: 1.5050341\ttotal: 8.64s\tremaining: 176ms\n",
            "98:\tlearn: 1.5047395\ttotal: 8.72s\tremaining: 88.1ms\n",
            "99:\tlearn: 1.5043789\ttotal: 8.79s\tremaining: 0us\n"
          ]
        },
        {
          "output_type": "execute_result",
          "data": {
            "text/plain": [
              "<catboost.core.CatBoostClassifier at 0x7bc0d2082590>"
            ]
          },
          "metadata": {},
          "execution_count": 63
        }
      ]
    },
    {
      "cell_type": "code",
      "source": [
        "y_pred5 = cb_classifier.predict(X_test)\n",
        "print(\"Accuracy:\",accuracy_score(Y_test,y_pred5))"
      ],
      "metadata": {
        "execution": {
          "iopub.status.busy": "2024-04-20T12:53:54.309376Z",
          "iopub.execute_input": "2024-04-20T12:53:54.310040Z",
          "iopub.status.idle": "2024-04-20T12:53:54.477089Z",
          "shell.execute_reply.started": "2024-04-20T12:53:54.310004Z",
          "shell.execute_reply": "2024-04-20T12:53:54.476100Z"
        },
        "trusted": true,
        "colab": {
          "base_uri": "https://localhost:8080/"
        },
        "id": "1bFmrWlDf9tr",
        "outputId": "8d9da52c-c69e-4b41-b486-6300b273453d"
      },
      "execution_count": 64,
      "outputs": [
        {
          "output_type": "stream",
          "name": "stdout",
          "text": [
            "Accuracy: 0.3782872555630479\n"
          ]
        }
      ]
    },
    {
      "cell_type": "markdown",
      "source": [
        "## Ada Boost"
      ],
      "metadata": {
        "id": "bsLa5hj7f9ts"
      }
    },
    {
      "cell_type": "code",
      "source": [
        "from sklearn.ensemble import AdaBoostClassifier\n",
        "base_estimator = DecisionTreeClassifier(max_depth=1)\n",
        "ab_classifier = AdaBoostClassifier(base_estimator=base_estimator,n_estimators=50,learning_rate=1.0,random_state=None)\n",
        "ab_classifier.fit(X_train,Y_train)"
      ],
      "metadata": {
        "execution": {
          "iopub.status.busy": "2024-04-20T12:51:37.929506Z",
          "iopub.execute_input": "2024-04-20T12:51:37.930157Z",
          "iopub.status.idle": "2024-04-20T12:52:11.425932Z",
          "shell.execute_reply.started": "2024-04-20T12:51:37.930127Z",
          "shell.execute_reply": "2024-04-20T12:52:11.424944Z"
        },
        "trusted": true,
        "colab": {
          "base_uri": "https://localhost:8080/",
          "height": 171
        },
        "id": "8Zgqve9tf9ts",
        "outputId": "4d5b1d25-74d6-4206-8c4d-c9dc4f2e10b7"
      },
      "execution_count": 65,
      "outputs": [
        {
          "output_type": "stream",
          "name": "stderr",
          "text": [
            "/usr/local/lib/python3.10/dist-packages/sklearn/ensemble/_base.py:166: FutureWarning: `base_estimator` was renamed to `estimator` in version 1.2 and will be removed in 1.4.\n",
            "  warnings.warn(\n"
          ]
        },
        {
          "output_type": "execute_result",
          "data": {
            "text/plain": [
              "AdaBoostClassifier(base_estimator=DecisionTreeClassifier(max_depth=1))"
            ],
            "text/html": [
              "<style>#sk-container-id-6 {color: black;background-color: white;}#sk-container-id-6 pre{padding: 0;}#sk-container-id-6 div.sk-toggleable {background-color: white;}#sk-container-id-6 label.sk-toggleable__label {cursor: pointer;display: block;width: 100%;margin-bottom: 0;padding: 0.3em;box-sizing: border-box;text-align: center;}#sk-container-id-6 label.sk-toggleable__label-arrow:before {content: \"▸\";float: left;margin-right: 0.25em;color: #696969;}#sk-container-id-6 label.sk-toggleable__label-arrow:hover:before {color: black;}#sk-container-id-6 div.sk-estimator:hover label.sk-toggleable__label-arrow:before {color: black;}#sk-container-id-6 div.sk-toggleable__content {max-height: 0;max-width: 0;overflow: hidden;text-align: left;background-color: #f0f8ff;}#sk-container-id-6 div.sk-toggleable__content pre {margin: 0.2em;color: black;border-radius: 0.25em;background-color: #f0f8ff;}#sk-container-id-6 input.sk-toggleable__control:checked~div.sk-toggleable__content {max-height: 200px;max-width: 100%;overflow: auto;}#sk-container-id-6 input.sk-toggleable__control:checked~label.sk-toggleable__label-arrow:before {content: \"▾\";}#sk-container-id-6 div.sk-estimator input.sk-toggleable__control:checked~label.sk-toggleable__label {background-color: #d4ebff;}#sk-container-id-6 div.sk-label input.sk-toggleable__control:checked~label.sk-toggleable__label {background-color: #d4ebff;}#sk-container-id-6 input.sk-hidden--visually {border: 0;clip: rect(1px 1px 1px 1px);clip: rect(1px, 1px, 1px, 1px);height: 1px;margin: -1px;overflow: hidden;padding: 0;position: absolute;width: 1px;}#sk-container-id-6 div.sk-estimator {font-family: monospace;background-color: #f0f8ff;border: 1px dotted black;border-radius: 0.25em;box-sizing: border-box;margin-bottom: 0.5em;}#sk-container-id-6 div.sk-estimator:hover {background-color: #d4ebff;}#sk-container-id-6 div.sk-parallel-item::after {content: \"\";width: 100%;border-bottom: 1px solid gray;flex-grow: 1;}#sk-container-id-6 div.sk-label:hover label.sk-toggleable__label {background-color: #d4ebff;}#sk-container-id-6 div.sk-serial::before {content: \"\";position: absolute;border-left: 1px solid gray;box-sizing: border-box;top: 0;bottom: 0;left: 50%;z-index: 0;}#sk-container-id-6 div.sk-serial {display: flex;flex-direction: column;align-items: center;background-color: white;padding-right: 0.2em;padding-left: 0.2em;position: relative;}#sk-container-id-6 div.sk-item {position: relative;z-index: 1;}#sk-container-id-6 div.sk-parallel {display: flex;align-items: stretch;justify-content: center;background-color: white;position: relative;}#sk-container-id-6 div.sk-item::before, #sk-container-id-6 div.sk-parallel-item::before {content: \"\";position: absolute;border-left: 1px solid gray;box-sizing: border-box;top: 0;bottom: 0;left: 50%;z-index: -1;}#sk-container-id-6 div.sk-parallel-item {display: flex;flex-direction: column;z-index: 1;position: relative;background-color: white;}#sk-container-id-6 div.sk-parallel-item:first-child::after {align-self: flex-end;width: 50%;}#sk-container-id-6 div.sk-parallel-item:last-child::after {align-self: flex-start;width: 50%;}#sk-container-id-6 div.sk-parallel-item:only-child::after {width: 0;}#sk-container-id-6 div.sk-dashed-wrapped {border: 1px dashed gray;margin: 0 0.4em 0.5em 0.4em;box-sizing: border-box;padding-bottom: 0.4em;background-color: white;}#sk-container-id-6 div.sk-label label {font-family: monospace;font-weight: bold;display: inline-block;line-height: 1.2em;}#sk-container-id-6 div.sk-label-container {text-align: center;}#sk-container-id-6 div.sk-container {/* jupyter's `normalize.less` sets `[hidden] { display: none; }` but bootstrap.min.css set `[hidden] { display: none !important; }` so we also need the `!important` here to be able to override the default hidden behavior on the sphinx rendered scikit-learn.org. See: https://github.com/scikit-learn/scikit-learn/issues/21755 */display: inline-block !important;position: relative;}#sk-container-id-6 div.sk-text-repr-fallback {display: none;}</style><div id=\"sk-container-id-6\" class=\"sk-top-container\"><div class=\"sk-text-repr-fallback\"><pre>AdaBoostClassifier(base_estimator=DecisionTreeClassifier(max_depth=1))</pre><b>In a Jupyter environment, please rerun this cell to show the HTML representation or trust the notebook. <br />On GitHub, the HTML representation is unable to render, please try loading this page with nbviewer.org.</b></div><div class=\"sk-container\" hidden><div class=\"sk-item sk-dashed-wrapped\"><div class=\"sk-label-container\"><div class=\"sk-label sk-toggleable\"><input class=\"sk-toggleable__control sk-hidden--visually\" id=\"sk-estimator-id-6\" type=\"checkbox\" ><label for=\"sk-estimator-id-6\" class=\"sk-toggleable__label sk-toggleable__label-arrow\">AdaBoostClassifier</label><div class=\"sk-toggleable__content\"><pre>AdaBoostClassifier(base_estimator=DecisionTreeClassifier(max_depth=1))</pre></div></div></div><div class=\"sk-parallel\"><div class=\"sk-parallel-item\"><div class=\"sk-item\"><div class=\"sk-label-container\"><div class=\"sk-label sk-toggleable\"><input class=\"sk-toggleable__control sk-hidden--visually\" id=\"sk-estimator-id-7\" type=\"checkbox\" ><label for=\"sk-estimator-id-7\" class=\"sk-toggleable__label sk-toggleable__label-arrow\">base_estimator: DecisionTreeClassifier</label><div class=\"sk-toggleable__content\"><pre>DecisionTreeClassifier(max_depth=1)</pre></div></div></div><div class=\"sk-serial\"><div class=\"sk-item\"><div class=\"sk-estimator sk-toggleable\"><input class=\"sk-toggleable__control sk-hidden--visually\" id=\"sk-estimator-id-8\" type=\"checkbox\" ><label for=\"sk-estimator-id-8\" class=\"sk-toggleable__label sk-toggleable__label-arrow\">DecisionTreeClassifier</label><div class=\"sk-toggleable__content\"><pre>DecisionTreeClassifier(max_depth=1)</pre></div></div></div></div></div></div></div></div></div></div>"
            ]
          },
          "metadata": {},
          "execution_count": 65
        }
      ]
    },
    {
      "cell_type": "code",
      "source": [
        "y_pred = ab_classifier.predict(X_test)\n",
        "print(\"Accuracy:\",accuracy_score(Y_test,y_pred))"
      ],
      "metadata": {
        "execution": {
          "iopub.status.busy": "2024-04-20T12:52:37.194515Z",
          "iopub.execute_input": "2024-04-20T12:52:37.195410Z",
          "iopub.status.idle": "2024-04-20T12:52:39.103211Z",
          "shell.execute_reply.started": "2024-04-20T12:52:37.195374Z",
          "shell.execute_reply": "2024-04-20T12:52:39.102173Z"
        },
        "trusted": true,
        "colab": {
          "base_uri": "https://localhost:8080/"
        },
        "id": "6Et8j6VLf9tt",
        "outputId": "1197afe5-c04b-478f-efac-4e03e07ce52c"
      },
      "execution_count": 66,
      "outputs": [
        {
          "output_type": "stream",
          "name": "stdout",
          "text": [
            "Accuracy: 0.26972353337828725\n"
          ]
        }
      ]
    },
    {
      "cell_type": "code",
      "source": [],
      "metadata": {
        "id": "RRgc0AZNf9tt"
      },
      "execution_count": 66,
      "outputs": []
    }
  ]
}